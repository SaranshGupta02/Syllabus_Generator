{
  "nbformat": 4,
  "nbformat_minor": 0,
  "metadata": {
    "colab": {
      "provenance": []
    },
    "kernelspec": {
      "name": "python3",
      "display_name": "Python 3"
    },
    "language_info": {
      "name": "python"
    },
    "widgets": {
      "application/vnd.jupyter.widget-state+json": {
        "b258d896d8d944d1ac9f6aaf7d0cbee2": {
          "model_module": "@jupyter-widgets/output",
          "model_name": "OutputModel",
          "model_module_version": "1.0.0",
          "state": {
            "_dom_classes": [],
            "_model_module": "@jupyter-widgets/output",
            "_model_module_version": "1.0.0",
            "_model_name": "OutputModel",
            "_view_count": null,
            "_view_module": "@jupyter-widgets/output",
            "_view_module_version": "1.0.0",
            "_view_name": "OutputView",
            "layout": "IPY_MODEL_c915c92c49624df994e679f2068795de",
            "msg_id": "",
            "outputs": [
              {
                "output_type": "display_data",
                "data": {
                  "text/plain": "\u001b[32m▰▰▰▱▱▱▱\u001b[0m Thinking...\n\u001b[36m┏━\u001b[0m\u001b[36m Message \u001b[0m\u001b[36m━━━━━━━━━━━━━━━━━━━━━━━━━━━━━━━━━━━━━━━━━━━━━━━━━━━━━━━━━━━━━━━━━━━━━━━━━━━━━━━━━━━━━━━━━━━━━━━━━━━━━━\u001b[0m\u001b[36m━┓\u001b[0m\n\u001b[36m┃\u001b[0m                                                                                                                 \u001b[36m┃\u001b[0m\n\u001b[36m┃\u001b[0m \u001b[32mWhats happening in France?\u001b[0m                                                                                      \u001b[36m┃\u001b[0m\n\u001b[36m┃\u001b[0m                                                                                                                 \u001b[36m┃\u001b[0m\n\u001b[36m┗━━━━━━━━━━━━━━━━━━━━━━━━━━━━━━━━━━━━━━━━━━━━━━━━━━━━━━━━━━━━━━━━━━━━━━━━━━━━━━━━━━━━━━━━━━━━━━━━━━━━━━━━━━━━━━━━━┛\u001b[0m\n",
                  "text/html": "<pre style=\"white-space:pre;overflow-x:auto;line-height:normal;font-family:Menlo,'DejaVu Sans Mono',consolas,'Courier New',monospace\"><span style=\"color: #008000; text-decoration-color: #008000\">▰▰▰▱▱▱▱</span> Thinking...\n<span style=\"color: #008080; text-decoration-color: #008080\">┏━ Message ━━━━━━━━━━━━━━━━━━━━━━━━━━━━━━━━━━━━━━━━━━━━━━━━━━━━━━━━━━━━━━━━━━━━━━━━━━━━━━━━━━━━━━━━━━━━━━━━━━━━━━━┓</span>\n<span style=\"color: #008080; text-decoration-color: #008080\">┃</span>                                                                                                                 <span style=\"color: #008080; text-decoration-color: #008080\">┃</span>\n<span style=\"color: #008080; text-decoration-color: #008080\">┃</span> <span style=\"color: #008000; text-decoration-color: #008000\">Whats happening in France?</span>                                                                                      <span style=\"color: #008080; text-decoration-color: #008080\">┃</span>\n<span style=\"color: #008080; text-decoration-color: #008080\">┃</span>                                                                                                                 <span style=\"color: #008080; text-decoration-color: #008080\">┃</span>\n<span style=\"color: #008080; text-decoration-color: #008080\">┗━━━━━━━━━━━━━━━━━━━━━━━━━━━━━━━━━━━━━━━━━━━━━━━━━━━━━━━━━━━━━━━━━━━━━━━━━━━━━━━━━━━━━━━━━━━━━━━━━━━━━━━━━━━━━━━━━┛</span>\n</pre>\n"
                },
                "metadata": {}
              }
            ]
          }
        },
        "c915c92c49624df994e679f2068795de": {
          "model_module": "@jupyter-widgets/base",
          "model_name": "LayoutModel",
          "model_module_version": "1.2.0",
          "state": {
            "_model_module": "@jupyter-widgets/base",
            "_model_module_version": "1.2.0",
            "_model_name": "LayoutModel",
            "_view_count": null,
            "_view_module": "@jupyter-widgets/base",
            "_view_module_version": "1.2.0",
            "_view_name": "LayoutView",
            "align_content": null,
            "align_items": null,
            "align_self": null,
            "border": null,
            "bottom": null,
            "display": null,
            "flex": null,
            "flex_flow": null,
            "grid_area": null,
            "grid_auto_columns": null,
            "grid_auto_flow": null,
            "grid_auto_rows": null,
            "grid_column": null,
            "grid_gap": null,
            "grid_row": null,
            "grid_template_areas": null,
            "grid_template_columns": null,
            "grid_template_rows": null,
            "height": null,
            "justify_content": null,
            "justify_items": null,
            "left": null,
            "margin": null,
            "max_height": null,
            "max_width": null,
            "min_height": null,
            "min_width": null,
            "object_fit": null,
            "object_position": null,
            "order": null,
            "overflow": null,
            "overflow_x": null,
            "overflow_y": null,
            "padding": null,
            "right": null,
            "top": null,
            "visibility": null,
            "width": null
          }
        },
        "3bc4281547ca4aa1b9216f409e861d1f": {
          "model_module": "@jupyter-widgets/output",
          "model_name": "OutputModel",
          "model_module_version": "1.0.0",
          "state": {
            "_dom_classes": [],
            "_model_module": "@jupyter-widgets/output",
            "_model_module_version": "1.0.0",
            "_model_name": "OutputModel",
            "_view_count": null,
            "_view_module": "@jupyter-widgets/output",
            "_view_module_version": "1.0.0",
            "_view_name": "OutputView",
            "layout": "IPY_MODEL_628d0f6c261847f6ba4a96c28b15e98e",
            "msg_id": "",
            "outputs": [
              {
                "output_type": "display_data",
                "data": {
                  "text/plain": "\u001b[32m▰▰▰▰▰▰▰\u001b[0m Thinking...\n\u001b[36m┏━\u001b[0m\u001b[36m Message \u001b[0m\u001b[36m━━━━━━━━━━━━━━━━━━━━━━━━━━━━━━━━━━━━━━━━━━━━━━━━━━━━━━━━━━━━━━━━━━━━━━━━━━━━━━━━━━━━━━━━━━━━━━━━━━━━━━\u001b[0m\u001b[36m━┓\u001b[0m\n\u001b[36m┃\u001b[0m                                                                                                                 \u001b[36m┃\u001b[0m\n\u001b[36m┃\u001b[0m \u001b[32mWhat's happening in the USA?\u001b[0m                                                                                    \u001b[36m┃\u001b[0m\n\u001b[36m┃\u001b[0m                                                                                                                 \u001b[36m┃\u001b[0m\n\u001b[36m┗━━━━━━━━━━━━━━━━━━━━━━━━━━━━━━━━━━━━━━━━━━━━━━━━━━━━━━━━━━━━━━━━━━━━━━━━━━━━━━━━━━━━━━━━━━━━━━━━━━━━━━━━━━━━━━━━━┛\u001b[0m\n",
                  "text/html": "<pre style=\"white-space:pre;overflow-x:auto;line-height:normal;font-family:Menlo,'DejaVu Sans Mono',consolas,'Courier New',monospace\"><span style=\"color: #008000; text-decoration-color: #008000\">▰▰▰▰▰▰▰</span> Thinking...\n<span style=\"color: #008080; text-decoration-color: #008080\">┏━ Message ━━━━━━━━━━━━━━━━━━━━━━━━━━━━━━━━━━━━━━━━━━━━━━━━━━━━━━━━━━━━━━━━━━━━━━━━━━━━━━━━━━━━━━━━━━━━━━━━━━━━━━━┓</span>\n<span style=\"color: #008080; text-decoration-color: #008080\">┃</span>                                                                                                                 <span style=\"color: #008080; text-decoration-color: #008080\">┃</span>\n<span style=\"color: #008080; text-decoration-color: #008080\">┃</span> <span style=\"color: #008000; text-decoration-color: #008000\">What's happening in the USA?</span>                                                                                    <span style=\"color: #008080; text-decoration-color: #008080\">┃</span>\n<span style=\"color: #008080; text-decoration-color: #008080\">┃</span>                                                                                                                 <span style=\"color: #008080; text-decoration-color: #008080\">┃</span>\n<span style=\"color: #008080; text-decoration-color: #008080\">┗━━━━━━━━━━━━━━━━━━━━━━━━━━━━━━━━━━━━━━━━━━━━━━━━━━━━━━━━━━━━━━━━━━━━━━━━━━━━━━━━━━━━━━━━━━━━━━━━━━━━━━━━━━━━━━━━━┛</span>\n</pre>\n"
                },
                "metadata": {}
              }
            ]
          }
        },
        "628d0f6c261847f6ba4a96c28b15e98e": {
          "model_module": "@jupyter-widgets/base",
          "model_name": "LayoutModel",
          "model_module_version": "1.2.0",
          "state": {
            "_model_module": "@jupyter-widgets/base",
            "_model_module_version": "1.2.0",
            "_model_name": "LayoutModel",
            "_view_count": null,
            "_view_module": "@jupyter-widgets/base",
            "_view_module_version": "1.2.0",
            "_view_name": "LayoutView",
            "align_content": null,
            "align_items": null,
            "align_self": null,
            "border": null,
            "bottom": null,
            "display": null,
            "flex": null,
            "flex_flow": null,
            "grid_area": null,
            "grid_auto_columns": null,
            "grid_auto_flow": null,
            "grid_auto_rows": null,
            "grid_column": null,
            "grid_gap": null,
            "grid_row": null,
            "grid_template_areas": null,
            "grid_template_columns": null,
            "grid_template_rows": null,
            "height": null,
            "justify_content": null,
            "justify_items": null,
            "left": null,
            "margin": null,
            "max_height": null,
            "max_width": null,
            "min_height": null,
            "min_width": null,
            "object_fit": null,
            "object_position": null,
            "order": null,
            "overflow": null,
            "overflow_x": null,
            "overflow_y": null,
            "padding": null,
            "right": null,
            "top": null,
            "visibility": null,
            "width": null
          }
        },
        "602986d183154e8f923c7d7f25e8ef7a": {
          "model_module": "@jupyter-widgets/output",
          "model_name": "OutputModel",
          "model_module_version": "1.0.0",
          "state": {
            "_dom_classes": [],
            "_model_module": "@jupyter-widgets/output",
            "_model_module_version": "1.0.0",
            "_model_name": "OutputModel",
            "_view_count": null,
            "_view_module": "@jupyter-widgets/output",
            "_view_module_version": "1.0.0",
            "_view_name": "OutputView",
            "layout": "IPY_MODEL_ea6314b270964cd083f9edef713c517d",
            "msg_id": "",
            "outputs": [
              {
                "output_type": "display_data",
                "data": {
                  "text/plain": "\u001b[32m▰▰▰▰▱▱▱\u001b[0m Thinking...\n\u001b[36m┏━\u001b[0m\u001b[36m Message \u001b[0m\u001b[36m━━━━━━━━━━━━━━━━━━━━━━━━━━━━━━━━━━━━━━━━━━━━━━━━━━━━━━━━━━━━━━━━━━━━━━━━━━━━━━━━━━━━━━━━━━━━━━━━━━━━━━\u001b[0m\u001b[36m━┓\u001b[0m\n\u001b[36m┃\u001b[0m                                                                                                                 \u001b[36m┃\u001b[0m\n\u001b[36m┃\u001b[0m \u001b[32mSummarize this https://finance.yahoo.com/\u001b[0m                                                                       \u001b[36m┃\u001b[0m\n\u001b[36m┃\u001b[0m                                                                                                                 \u001b[36m┃\u001b[0m\n\u001b[36m┗━━━━━━━━━━━━━━━━━━━━━━━━━━━━━━━━━━━━━━━━━━━━━━━━━━━━━━━━━━━━━━━━━━━━━━━━━━━━━━━━━━━━━━━━━━━━━━━━━━━━━━━━━━━━━━━━━┛\u001b[0m\n",
                  "text/html": "<pre style=\"white-space:pre;overflow-x:auto;line-height:normal;font-family:Menlo,'DejaVu Sans Mono',consolas,'Courier New',monospace\"><span style=\"color: #008000; text-decoration-color: #008000\">▰▰▰▰▱▱▱</span> Thinking...\n<span style=\"color: #008080; text-decoration-color: #008080\">┏━ Message ━━━━━━━━━━━━━━━━━━━━━━━━━━━━━━━━━━━━━━━━━━━━━━━━━━━━━━━━━━━━━━━━━━━━━━━━━━━━━━━━━━━━━━━━━━━━━━━━━━━━━━━┓</span>\n<span style=\"color: #008080; text-decoration-color: #008080\">┃</span>                                                                                                                 <span style=\"color: #008080; text-decoration-color: #008080\">┃</span>\n<span style=\"color: #008080; text-decoration-color: #008080\">┃</span> <span style=\"color: #008000; text-decoration-color: #008000\">Summarize this https://finance.yahoo.com/</span>                                                                       <span style=\"color: #008080; text-decoration-color: #008080\">┃</span>\n<span style=\"color: #008080; text-decoration-color: #008080\">┃</span>                                                                                                                 <span style=\"color: #008080; text-decoration-color: #008080\">┃</span>\n<span style=\"color: #008080; text-decoration-color: #008080\">┗━━━━━━━━━━━━━━━━━━━━━━━━━━━━━━━━━━━━━━━━━━━━━━━━━━━━━━━━━━━━━━━━━━━━━━━━━━━━━━━━━━━━━━━━━━━━━━━━━━━━━━━━━━━━━━━━━┛</span>\n</pre>\n"
                },
                "metadata": {}
              }
            ]
          }
        },
        "ea6314b270964cd083f9edef713c517d": {
          "model_module": "@jupyter-widgets/base",
          "model_name": "LayoutModel",
          "model_module_version": "1.2.0",
          "state": {
            "_model_module": "@jupyter-widgets/base",
            "_model_module_version": "1.2.0",
            "_model_name": "LayoutModel",
            "_view_count": null,
            "_view_module": "@jupyter-widgets/base",
            "_view_module_version": "1.2.0",
            "_view_name": "LayoutView",
            "align_content": null,
            "align_items": null,
            "align_self": null,
            "border": null,
            "bottom": null,
            "display": null,
            "flex": null,
            "flex_flow": null,
            "grid_area": null,
            "grid_auto_columns": null,
            "grid_auto_flow": null,
            "grid_auto_rows": null,
            "grid_column": null,
            "grid_gap": null,
            "grid_row": null,
            "grid_template_areas": null,
            "grid_template_columns": null,
            "grid_template_rows": null,
            "height": null,
            "justify_content": null,
            "justify_items": null,
            "left": null,
            "margin": null,
            "max_height": null,
            "max_width": null,
            "min_height": null,
            "min_width": null,
            "object_fit": null,
            "object_position": null,
            "order": null,
            "overflow": null,
            "overflow_x": null,
            "overflow_y": null,
            "padding": null,
            "right": null,
            "top": null,
            "visibility": null,
            "width": null
          }
        }
      }
    }
  },
  "cells": [
    {
      "cell_type": "code",
      "execution_count": 1,
      "metadata": {
        "id": "02aczI38-_Zp",
        "colab": {
          "base_uri": "https://localhost:8080/"
        },
        "outputId": "50d80e90-aa82-4a15-f0e6-3615f40c499a"
      },
      "outputs": [
        {
          "output_type": "stream",
          "name": "stdout",
          "text": [
            "Collecting langchain_openai\n",
            "  Downloading langchain_openai-0.3.8-py3-none-any.whl.metadata (2.3 kB)\n",
            "Collecting agno\n",
            "  Downloading agno-1.1.9-py3-none-any.whl.metadata (39 kB)\n",
            "Collecting duckduckgo-search\n",
            "  Downloading duckduckgo_search-7.5.1-py3-none-any.whl.metadata (17 kB)\n",
            "Collecting langchain-core<1.0.0,>=0.3.42 (from langchain_openai)\n",
            "  Downloading langchain_core-0.3.43-py3-none-any.whl.metadata (5.9 kB)\n",
            "Requirement already satisfied: openai<2.0.0,>=1.58.1 in /usr/local/lib/python3.11/dist-packages (from langchain_openai) (1.61.1)\n",
            "Collecting tiktoken<1,>=0.7 (from langchain_openai)\n",
            "  Downloading tiktoken-0.9.0-cp311-cp311-manylinux_2_17_x86_64.manylinux2014_x86_64.whl.metadata (6.7 kB)\n",
            "Requirement already satisfied: docstring-parser in /usr/local/lib/python3.11/dist-packages (from agno) (0.16)\n",
            "Requirement already satisfied: gitpython in /usr/local/lib/python3.11/dist-packages (from agno) (3.1.44)\n",
            "Requirement already satisfied: httpx in /usr/local/lib/python3.11/dist-packages (from agno) (0.28.1)\n",
            "Collecting pydantic-settings (from agno)\n",
            "  Downloading pydantic_settings-2.8.1-py3-none-any.whl.metadata (3.5 kB)\n",
            "Requirement already satisfied: pydantic in /usr/local/lib/python3.11/dist-packages (from agno) (2.10.6)\n",
            "Collecting python-dotenv (from agno)\n",
            "  Downloading python_dotenv-1.0.1-py3-none-any.whl.metadata (23 kB)\n",
            "Collecting python-multipart (from agno)\n",
            "  Downloading python_multipart-0.0.20-py3-none-any.whl.metadata (1.8 kB)\n",
            "Requirement already satisfied: pyyaml in /usr/local/lib/python3.11/dist-packages (from agno) (6.0.2)\n",
            "Requirement already satisfied: rich in /usr/local/lib/python3.11/dist-packages (from agno) (13.9.4)\n",
            "Collecting tomli (from agno)\n",
            "  Downloading tomli-2.2.1-cp311-cp311-manylinux_2_17_x86_64.manylinux2014_x86_64.whl.metadata (11 kB)\n",
            "Requirement already satisfied: typer in /usr/local/lib/python3.11/dist-packages (from agno) (0.15.2)\n",
            "Requirement already satisfied: typing-extensions in /usr/local/lib/python3.11/dist-packages (from agno) (4.12.2)\n",
            "Requirement already satisfied: click>=8.1.8 in /usr/local/lib/python3.11/dist-packages (from duckduckgo-search) (8.1.8)\n",
            "Collecting primp>=0.14.0 (from duckduckgo-search)\n",
            "  Downloading primp-0.14.0-cp38-abi3-manylinux_2_17_x86_64.manylinux2014_x86_64.whl.metadata (13 kB)\n",
            "Requirement already satisfied: lxml>=5.3.0 in /usr/local/lib/python3.11/dist-packages (from duckduckgo-search) (5.3.1)\n",
            "Requirement already satisfied: langsmith<0.4,>=0.1.125 in /usr/local/lib/python3.11/dist-packages (from langchain-core<1.0.0,>=0.3.42->langchain_openai) (0.3.11)\n",
            "Requirement already satisfied: tenacity!=8.4.0,<10.0.0,>=8.1.0 in /usr/local/lib/python3.11/dist-packages (from langchain-core<1.0.0,>=0.3.42->langchain_openai) (9.0.0)\n",
            "Requirement already satisfied: jsonpatch<2.0,>=1.33 in /usr/local/lib/python3.11/dist-packages (from langchain-core<1.0.0,>=0.3.42->langchain_openai) (1.33)\n",
            "Requirement already satisfied: packaging<25,>=23.2 in /usr/local/lib/python3.11/dist-packages (from langchain-core<1.0.0,>=0.3.42->langchain_openai) (24.2)\n",
            "Requirement already satisfied: anyio<5,>=3.5.0 in /usr/local/lib/python3.11/dist-packages (from openai<2.0.0,>=1.58.1->langchain_openai) (3.7.1)\n",
            "Requirement already satisfied: distro<2,>=1.7.0 in /usr/local/lib/python3.11/dist-packages (from openai<2.0.0,>=1.58.1->langchain_openai) (1.9.0)\n",
            "Requirement already satisfied: jiter<1,>=0.4.0 in /usr/local/lib/python3.11/dist-packages (from openai<2.0.0,>=1.58.1->langchain_openai) (0.8.2)\n",
            "Requirement already satisfied: sniffio in /usr/local/lib/python3.11/dist-packages (from openai<2.0.0,>=1.58.1->langchain_openai) (1.3.1)\n",
            "Requirement already satisfied: tqdm>4 in /usr/local/lib/python3.11/dist-packages (from openai<2.0.0,>=1.58.1->langchain_openai) (4.67.1)\n",
            "Requirement already satisfied: certifi in /usr/local/lib/python3.11/dist-packages (from httpx->agno) (2025.1.31)\n",
            "Requirement already satisfied: httpcore==1.* in /usr/local/lib/python3.11/dist-packages (from httpx->agno) (1.0.7)\n",
            "Requirement already satisfied: idna in /usr/local/lib/python3.11/dist-packages (from httpx->agno) (3.10)\n",
            "Requirement already satisfied: h11<0.15,>=0.13 in /usr/local/lib/python3.11/dist-packages (from httpcore==1.*->httpx->agno) (0.14.0)\n",
            "Requirement already satisfied: annotated-types>=0.6.0 in /usr/local/lib/python3.11/dist-packages (from pydantic->agno) (0.7.0)\n",
            "Requirement already satisfied: pydantic-core==2.27.2 in /usr/local/lib/python3.11/dist-packages (from pydantic->agno) (2.27.2)\n",
            "Requirement already satisfied: regex>=2022.1.18 in /usr/local/lib/python3.11/dist-packages (from tiktoken<1,>=0.7->langchain_openai) (2024.11.6)\n",
            "Requirement already satisfied: requests>=2.26.0 in /usr/local/lib/python3.11/dist-packages (from tiktoken<1,>=0.7->langchain_openai) (2.32.3)\n",
            "Requirement already satisfied: gitdb<5,>=4.0.1 in /usr/local/lib/python3.11/dist-packages (from gitpython->agno) (4.0.12)\n",
            "Requirement already satisfied: markdown-it-py>=2.2.0 in /usr/local/lib/python3.11/dist-packages (from rich->agno) (3.0.0)\n",
            "Requirement already satisfied: pygments<3.0.0,>=2.13.0 in /usr/local/lib/python3.11/dist-packages (from rich->agno) (2.18.0)\n",
            "Requirement already satisfied: shellingham>=1.3.0 in /usr/local/lib/python3.11/dist-packages (from typer->agno) (1.5.4)\n",
            "Requirement already satisfied: smmap<6,>=3.0.1 in /usr/local/lib/python3.11/dist-packages (from gitdb<5,>=4.0.1->gitpython->agno) (5.0.2)\n",
            "Requirement already satisfied: jsonpointer>=1.9 in /usr/local/lib/python3.11/dist-packages (from jsonpatch<2.0,>=1.33->langchain-core<1.0.0,>=0.3.42->langchain_openai) (3.0.0)\n",
            "Requirement already satisfied: orjson<4.0.0,>=3.9.14 in /usr/local/lib/python3.11/dist-packages (from langsmith<0.4,>=0.1.125->langchain-core<1.0.0,>=0.3.42->langchain_openai) (3.10.15)\n",
            "Requirement already satisfied: requests-toolbelt<2.0.0,>=1.0.0 in /usr/local/lib/python3.11/dist-packages (from langsmith<0.4,>=0.1.125->langchain-core<1.0.0,>=0.3.42->langchain_openai) (1.0.0)\n",
            "Requirement already satisfied: zstandard<0.24.0,>=0.23.0 in /usr/local/lib/python3.11/dist-packages (from langsmith<0.4,>=0.1.125->langchain-core<1.0.0,>=0.3.42->langchain_openai) (0.23.0)\n",
            "Requirement already satisfied: mdurl~=0.1 in /usr/local/lib/python3.11/dist-packages (from markdown-it-py>=2.2.0->rich->agno) (0.1.2)\n",
            "Requirement already satisfied: charset-normalizer<4,>=2 in /usr/local/lib/python3.11/dist-packages (from requests>=2.26.0->tiktoken<1,>=0.7->langchain_openai) (3.4.1)\n",
            "Requirement already satisfied: urllib3<3,>=1.21.1 in /usr/local/lib/python3.11/dist-packages (from requests>=2.26.0->tiktoken<1,>=0.7->langchain_openai) (2.3.0)\n",
            "Downloading langchain_openai-0.3.8-py3-none-any.whl (55 kB)\n",
            "\u001b[2K   \u001b[90m━━━━━━━━━━━━━━━━━━━━━━━━━━━━━━━━━━━━━━━━\u001b[0m \u001b[32m55.4/55.4 kB\u001b[0m \u001b[31m2.2 MB/s\u001b[0m eta \u001b[36m0:00:00\u001b[0m\n",
            "\u001b[?25hDownloading agno-1.1.9-py3-none-any.whl (498 kB)\n",
            "\u001b[2K   \u001b[90m━━━━━━━━━━━━━━━━━━━━━━━━━━━━━━━━━━━━━━━━\u001b[0m \u001b[32m498.8/498.8 kB\u001b[0m \u001b[31m10.4 MB/s\u001b[0m eta \u001b[36m0:00:00\u001b[0m\n",
            "\u001b[?25hDownloading duckduckgo_search-7.5.1-py3-none-any.whl (20 kB)\n",
            "Downloading langchain_core-0.3.43-py3-none-any.whl (415 kB)\n",
            "\u001b[2K   \u001b[90m━━━━━━━━━━━━━━━━━━━━━━━━━━━━━━━━━━━━━━━━\u001b[0m \u001b[32m415.4/415.4 kB\u001b[0m \u001b[31m21.6 MB/s\u001b[0m eta \u001b[36m0:00:00\u001b[0m\n",
            "\u001b[?25hDownloading primp-0.14.0-cp38-abi3-manylinux_2_17_x86_64.manylinux2014_x86_64.whl (3.3 MB)\n",
            "\u001b[2K   \u001b[90m━━━━━━━━━━━━━━━━━━━━━━━━━━━━━━━━━━━━━━━━\u001b[0m \u001b[32m3.3/3.3 MB\u001b[0m \u001b[31m36.5 MB/s\u001b[0m eta \u001b[36m0:00:00\u001b[0m\n",
            "\u001b[?25hDownloading tiktoken-0.9.0-cp311-cp311-manylinux_2_17_x86_64.manylinux2014_x86_64.whl (1.2 MB)\n",
            "\u001b[2K   \u001b[90m━━━━━━━━━━━━━━━━━━━━━━━━━━━━━━━━━━━━━━━━\u001b[0m \u001b[32m1.2/1.2 MB\u001b[0m \u001b[31m16.8 MB/s\u001b[0m eta \u001b[36m0:00:00\u001b[0m\n",
            "\u001b[?25hDownloading pydantic_settings-2.8.1-py3-none-any.whl (30 kB)\n",
            "Downloading python_dotenv-1.0.1-py3-none-any.whl (19 kB)\n",
            "Downloading python_multipart-0.0.20-py3-none-any.whl (24 kB)\n",
            "Downloading tomli-2.2.1-cp311-cp311-manylinux_2_17_x86_64.manylinux2014_x86_64.whl (236 kB)\n",
            "\u001b[2K   \u001b[90m━━━━━━━━━━━━━━━━━━━━━━━━━━━━━━━━━━━━━━━━\u001b[0m \u001b[32m236.0/236.0 kB\u001b[0m \u001b[31m14.0 MB/s\u001b[0m eta \u001b[36m0:00:00\u001b[0m\n",
            "\u001b[?25hInstalling collected packages: tomli, python-multipart, python-dotenv, primp, tiktoken, duckduckgo-search, pydantic-settings, langchain-core, agno, langchain_openai\n",
            "  Attempting uninstall: langchain-core\n",
            "    Found existing installation: langchain-core 0.3.40\n",
            "    Uninstalling langchain-core-0.3.40:\n",
            "      Successfully uninstalled langchain-core-0.3.40\n",
            "Successfully installed agno-1.1.9 duckduckgo-search-7.5.1 langchain-core-0.3.43 langchain_openai-0.3.8 primp-0.14.0 pydantic-settings-2.8.1 python-dotenv-1.0.1 python-multipart-0.0.20 tiktoken-0.9.0 tomli-2.2.1\n"
          ]
        }
      ],
      "source": [
        "!pip install langchain_openai agno duckduckgo-search\n"
      ]
    },
    {
      "cell_type": "code",
      "source": [
        "from google.colab import userdata\n",
        "import os\n",
        "os.environ[\"OPENAI_API_KEY\"]=userdata.get(\"OPENAI_API_KEY\")"
      ],
      "metadata": {
        "id": "DX6xrI486Ehh"
      },
      "execution_count": 2,
      "outputs": []
    },
    {
      "cell_type": "code",
      "source": [
        "from agno.agent import Agent\n",
        "from agno.tools.duckduckgo import DuckDuckGoTools\n",
        "from google.colab import userdata\n",
        "import os\n",
        "os.environ[\"OPENAI_API_KEY\"]=userdata.get(\"OPENAI_API_KEY\")\n",
        "agent = Agent(tools=[DuckDuckGoTools()], show_tool_calls=True)\n",
        "agent.print_response(\"Whats happening in France?\", markdown=True)"
      ],
      "metadata": {
        "colab": {
          "base_uri": "https://localhost:8080/",
          "height": 115,
          "referenced_widgets": [
            "b258d896d8d944d1ac9f6aaf7d0cbee2",
            "c915c92c49624df994e679f2068795de"
          ]
        },
        "id": "k4sokB_yFJQv",
        "outputId": "e53e901a-e175-4c9a-8dd9-006ca4aa715e"
      },
      "execution_count": null,
      "outputs": [
        {
          "output_type": "display_data",
          "data": {
            "text/plain": [
              "Output()"
            ],
            "application/vnd.jupyter.widget-view+json": {
              "version_major": 2,
              "version_minor": 0,
              "model_id": "b258d896d8d944d1ac9f6aaf7d0cbee2"
            }
          },
          "metadata": {}
        },
        {
          "output_type": "display_data",
          "data": {
            "text/plain": [],
            "text/html": [
              "<pre style=\"white-space:pre;overflow-x:auto;line-height:normal;font-family:Menlo,'DejaVu Sans Mono',consolas,'Courier New',monospace\"></pre>\n"
            ]
          },
          "metadata": {}
        }
      ]
    },
    {
      "cell_type": "code",
      "source": [
        "def remove_starting_line(output: str):\n",
        "              lines = output.splitlines()\n",
        "              return '\\n'.join(lines[3:])\n",
        "agent_response=agent.run(message=\"What is NEET 2025 Syllabus\")\n",
        "output = agent_response.content\n",
        "print(remove_starting_line(output))"
      ],
      "metadata": {
        "colab": {
          "base_uri": "https://localhost:8080/"
        },
        "id": "TOOfoc13FPyQ",
        "outputId": "28857e2a-75a0-4cff-e919-2d1cb4d7e0be"
      },
      "execution_count": null,
      "outputs": [
        {
          "output_type": "stream",
          "name": "stdout",
          "text": [
            "\n",
            "1. **Official Document**: You can view the official syllabus on the [NEET NTA website](https://neet.nta.nic.in/document/syllabus-for-neet-ug-2025-examination-reg/).\n",
            "\n",
            "2. **PDF Version**: There's also a downloadable PDF version of the syllabus provided by the National Testing Agency (NTA), which can be accessed [here](https://nta.ac.in/Download/Notice/Notice_20241230193629.pdf).\n",
            "\n",
            "3. **Detailed Information**: Additional details on the syllabus can be found on websites that specialize in exam preparation, such as [PW.live](https://www.pw.live/neet/exams/neet-syllabus) and [Aakash](https://www.aakash.ac.in/blog/neet-syllabus-pdf-by-nta-download-subject-wise-new-syllabus/).\n",
            "\n",
            "These resources will give you comprehensive subject-wise topics and weightage for better preparation for the NEET 2025 exam.\n"
          ]
        }
      ]
    },
    {
      "cell_type": "code",
      "source": [
        "def remove_starting_line(output: str):\n",
        "              lines = output.splitlines()\n",
        "              return '\\n'.join(lines[3:])\n",
        "agent_response=agent.run(message=\"Give neet syllabus from this site :- https://www.pw.live/neet/exams/neet-syllabus\")\n",
        "output = agent_response.content\n",
        "print(output)\n",
        "print(remove_starting_line(output))"
      ],
      "metadata": {
        "colab": {
          "base_uri": "https://localhost:8080/"
        },
        "id": "zFMIWAZyFsSy",
        "outputId": "81704bd2-a5f8-4684-db3e-6ba9fa2de6d5"
      },
      "execution_count": null,
      "outputs": [
        {
          "output_type": "stream",
          "name": "stdout",
          "text": [
            " - Running: duckduckgo_search(query=NEET syllabus site:pw.live)\n",
            "\n",
            "You can find the NEET syllabus on the following page from the pw.live website:\n",
            "\n",
            "- [NEET Syllabus 2025 PDF Out by NTA, Subject wise Topics and Weightage](https://www.pw.live/neet/exams/neet-syllabus)\n",
            "\n",
            "This page provides details of the syllabus as finalized by the Undergraduate Medical Education Board (UGMEB) under the National Medical Commission (NMC).\n",
            "\n",
            "- [NEET Syllabus 2025 PDF Out by NTA, Subject wise Topics and Weightage](https://www.pw.live/neet/exams/neet-syllabus)\n",
            "\n",
            "This page provides details of the syllabus as finalized by the Undergraduate Medical Education Board (UGMEB) under the National Medical Commission (NMC).\n"
          ]
        }
      ]
    },
    {
      "cell_type": "code",
      "source": [
        "def remove_starting_line(output: str):\n",
        "              lines = output.splitlines()\n",
        "              return '\\n'.join(lines[3:])\n",
        "agent_response=agent.run(message=\"What is GMAT 2025 Syllabus\")\n",
        "output = agent_response.content\n",
        "print(remove_starting_line(output))"
      ],
      "metadata": {
        "colab": {
          "base_uri": "https://localhost:8080/"
        },
        "id": "M4sElAbXHSFZ",
        "outputId": "c1d9c6e4-13c5-4d29-fb5c-01c671e697fb"
      },
      "execution_count": null,
      "outputs": [
        {
          "output_type": "stream",
          "name": "stdout",
          "text": [
            "\n",
            "1. **Verbal Reasoning**: Assess your ability to read and understand written material, evaluate arguments, and correct written material to conform to standard written English.\n",
            "\n",
            "2. **Quantitative Reasoning**: Measures your ability to analyze data and draw conclusions using reasoning skills. The focus is on solving quantitative problems, understanding and interpreting graphical data.\n",
            "\n",
            "3. **Data Insights**: Tests your skills in analyzing and synthesizing data in a graphical format, and involves solving problems based on the given data.\n",
            "\n",
            "The new format, effective from November 2023, is designed to be more concise, with each section lasting 45 minutes. More emphasis is placed on critical reasoning and data evaluation skills.\n",
            "\n",
            "For more details, you can visit the [Career Launcher GMAT syllabus page](https://www.careerlauncher.com/gmat/exam-syllabus/).\n"
          ]
        }
      ]
    },
    {
      "cell_type": "code",
      "source": [
        "!pip install -U google-search-results"
      ],
      "metadata": {
        "colab": {
          "base_uri": "https://localhost:8080/"
        },
        "id": "XD5C1CoyIHdr",
        "outputId": "9ac32fec-45d1-49e9-fead-9898c9255fbd"
      },
      "execution_count": null,
      "outputs": [
        {
          "output_type": "stream",
          "name": "stdout",
          "text": [
            "Collecting google-search-results\n",
            "  Downloading google_search_results-2.4.2.tar.gz (18 kB)\n",
            "  Preparing metadata (setup.py) ... \u001b[?25l\u001b[?25hdone\n",
            "Requirement already satisfied: requests in /usr/local/lib/python3.11/dist-packages (from google-search-results) (2.32.3)\n",
            "Requirement already satisfied: charset-normalizer<4,>=2 in /usr/local/lib/python3.11/dist-packages (from requests->google-search-results) (3.4.1)\n",
            "Requirement already satisfied: idna<4,>=2.5 in /usr/local/lib/python3.11/dist-packages (from requests->google-search-results) (3.10)\n",
            "Requirement already satisfied: urllib3<3,>=1.21.1 in /usr/local/lib/python3.11/dist-packages (from requests->google-search-results) (2.3.0)\n",
            "Requirement already satisfied: certifi>=2017.4.17 in /usr/local/lib/python3.11/dist-packages (from requests->google-search-results) (2025.1.31)\n",
            "Building wheels for collected packages: google-search-results\n",
            "  Building wheel for google-search-results (setup.py) ... \u001b[?25l\u001b[?25hdone\n",
            "  Created wheel for google-search-results: filename=google_search_results-2.4.2-py3-none-any.whl size=32009 sha256=0b07707934184674aad13f2b46618e4cfb6626d0d58636d399fa6a9279133bb8\n",
            "  Stored in directory: /root/.cache/pip/wheels/6e/42/3e/aeb691b02cb7175ec70e2da04b5658d4739d2b41e5f73cd06f\n",
            "Successfully built google-search-results\n",
            "Installing collected packages: google-search-results\n",
            "Successfully installed google-search-results-2.4.2\n"
          ]
        }
      ]
    },
    {
      "cell_type": "code",
      "source": [
        "os.environ[\"SERPAPI_API_KEY\"]=userdata.get(\"SERPAPI_API_KEY\")"
      ],
      "metadata": {
        "id": "UqvamkTiKFA4"
      },
      "execution_count": null,
      "outputs": []
    },
    {
      "cell_type": "code",
      "source": [
        "from agno.agent import Agent\n",
        "from agno.tools.serpapi import SerpApiTools\n",
        "\n",
        "agent = Agent(tools=[SerpApiTools(api_key=userdata.get(\"SERPAPI_API_KEY\"))])\n",
        "agent.print_response(\"What's happening in the USA?\", markdown=True)\n"
      ],
      "metadata": {
        "colab": {
          "base_uri": "https://localhost:8080/",
          "height": 131,
          "referenced_widgets": [
            "3bc4281547ca4aa1b9216f409e861d1f",
            "628d0f6c261847f6ba4a96c28b15e98e"
          ]
        },
        "id": "xIyOKeHqLHJi",
        "outputId": "882bda00-3b3a-4146-9ed1-feb08019dd29"
      },
      "execution_count": null,
      "outputs": [
        {
          "output_type": "display_data",
          "data": {
            "text/plain": [
              "Output()"
            ],
            "application/vnd.jupyter.widget-view+json": {
              "version_major": 2,
              "version_minor": 0,
              "model_id": "3bc4281547ca4aa1b9216f409e861d1f"
            }
          },
          "metadata": {}
        },
        {
          "output_type": "display_data",
          "data": {
            "text/plain": [
              "\u001b[34mINFO    \u001b[0m Searching Google for: current news in the USA                                                             \n"
            ],
            "text/html": [
              "<pre style=\"white-space:pre;overflow-x:auto;line-height:normal;font-family:Menlo,'DejaVu Sans Mono',consolas,'Courier New',monospace\"><span style=\"color: #000080; text-decoration-color: #000080\">INFO    </span> Searching Google for: current news in the USA                                                             \n",
              "</pre>\n"
            ]
          },
          "metadata": {}
        },
        {
          "output_type": "display_data",
          "data": {
            "text/plain": [],
            "text/html": [
              "<pre style=\"white-space:pre;overflow-x:auto;line-height:normal;font-family:Menlo,'DejaVu Sans Mono',consolas,'Courier New',monospace\"></pre>\n"
            ]
          },
          "metadata": {}
        }
      ]
    },
    {
      "cell_type": "code",
      "source": [
        "from agno.agent import Agent\n",
        "from agno.tools.serpapi import SerpApiTools\n",
        "\n",
        "agent = Agent(tools=[SerpApiTools(api_key=userdata.get(\"SERPAPI_API_KEY\"))])\n",
        "output=agent.run(message=\"what is sat syllabus\").content\n",
        "print(remove_starting_line(output))"
      ],
      "metadata": {
        "colab": {
          "base_uri": "https://localhost:8080/",
          "height": 192
        },
        "id": "lDIoIe1gLNPu",
        "outputId": "44914b97-af86-4625-a728-c49149ad993d"
      },
      "execution_count": null,
      "outputs": [
        {
          "output_type": "display_data",
          "data": {
            "text/plain": [
              "\u001b[34mINFO    \u001b[0m Searching Google for: SAT \u001b[1;36m2023\u001b[0m syllabus                                                                   \n"
            ],
            "text/html": [
              "<pre style=\"white-space:pre;overflow-x:auto;line-height:normal;font-family:Menlo,'DejaVu Sans Mono',consolas,'Courier New',monospace\"><span style=\"color: #000080; text-decoration-color: #000080\">INFO    </span> Searching Google for: SAT <span style=\"color: #008080; text-decoration-color: #008080; font-weight: bold\">2023</span> syllabus                                                                   \n",
              "</pre>\n"
            ]
          },
          "metadata": {}
        },
        {
          "output_type": "stream",
          "name": "stdout",
          "text": [
            "   - This section combines reading comprehension and language skills.\n",
            "   - You will be tested on your ability to read and understand passages, identify mistakes and weaknesses in various texts, and effectively improve sentences and passages.\n",
            "\n",
            "2. **Math Section**:\n",
            "   - This includes topics such as linear equations, systems of equations, and a variety of functions.\n",
            "   - The math problems typically cover algebra, problem-solving and data analysis, and advanced math concepts such as systems of equations and equivalent expressions.\n",
            "\n",
            "Each section is scored on a scale of 200-800, with the total SAT score ranging from 400 to 1600. Additional sub-scores are given for reading, writing, and math. For more detailed information, you can refer to resources like [College Board](https://satsuite.collegeboard.org/sat/whats-on-the-test/structure) or [MBA Crystal Ball](https://www.mbacrystalball.com/sat/sat-syllabus/).\n"
          ]
        }
      ]
    },
    {
      "cell_type": "code",
      "source": [
        "!pip install -U crawl4ai"
      ],
      "metadata": {
        "colab": {
          "base_uri": "https://localhost:8080/"
        },
        "id": "p3owZLb6MZ3x",
        "outputId": "d2871b52-9aa2-43a1-89e8-7fc3fb8f5687"
      },
      "execution_count": 1,
      "outputs": [
        {
          "output_type": "stream",
          "name": "stdout",
          "text": [
            "Requirement already satisfied: crawl4ai in /usr/local/lib/python3.11/dist-packages (0.5.0.post4)\n",
            "Requirement already satisfied: aiosqlite~=0.20 in /usr/local/lib/python3.11/dist-packages (from crawl4ai) (0.21.0)\n",
            "Requirement already satisfied: lxml~=5.3 in /usr/local/lib/python3.11/dist-packages (from crawl4ai) (5.3.1)\n",
            "Requirement already satisfied: litellm>=1.53.1 in /usr/local/lib/python3.11/dist-packages (from crawl4ai) (1.63.3)\n",
            "Requirement already satisfied: numpy<3,>=1.26.0 in /usr/local/lib/python3.11/dist-packages (from crawl4ai) (1.26.4)\n",
            "Requirement already satisfied: pillow~=10.4 in /usr/local/lib/python3.11/dist-packages (from crawl4ai) (10.4.0)\n",
            "Requirement already satisfied: playwright>=1.49.0 in /usr/local/lib/python3.11/dist-packages (from crawl4ai) (1.50.0)\n",
            "Requirement already satisfied: python-dotenv~=1.0 in /usr/local/lib/python3.11/dist-packages (from crawl4ai) (1.0.1)\n",
            "Requirement already satisfied: requests~=2.26 in /usr/local/lib/python3.11/dist-packages (from crawl4ai) (2.32.3)\n",
            "Requirement already satisfied: beautifulsoup4~=4.12 in /usr/local/lib/python3.11/dist-packages (from crawl4ai) (4.13.3)\n",
            "Requirement already satisfied: tf-playwright-stealth>=1.1.0 in /usr/local/lib/python3.11/dist-packages (from crawl4ai) (1.1.2)\n",
            "Requirement already satisfied: xxhash~=3.4 in /usr/local/lib/python3.11/dist-packages (from crawl4ai) (3.5.0)\n",
            "Requirement already satisfied: rank-bm25~=0.2 in /usr/local/lib/python3.11/dist-packages (from crawl4ai) (0.2.2)\n",
            "Requirement already satisfied: aiofiles>=24.1.0 in /usr/local/lib/python3.11/dist-packages (from crawl4ai) (24.1.0)\n",
            "Requirement already satisfied: colorama~=0.4 in /usr/local/lib/python3.11/dist-packages (from crawl4ai) (0.4.6)\n",
            "Requirement already satisfied: snowballstemmer~=2.2 in /usr/local/lib/python3.11/dist-packages (from crawl4ai) (2.2.0)\n",
            "Requirement already satisfied: pydantic>=2.10 in /usr/local/lib/python3.11/dist-packages (from crawl4ai) (2.10.6)\n",
            "Requirement already satisfied: pyOpenSSL>=24.3.0 in /usr/local/lib/python3.11/dist-packages (from crawl4ai) (25.0.0)\n",
            "Requirement already satisfied: psutil>=6.1.1 in /usr/local/lib/python3.11/dist-packages (from crawl4ai) (7.0.0)\n",
            "Requirement already satisfied: nltk>=3.9.1 in /usr/local/lib/python3.11/dist-packages (from crawl4ai) (3.9.1)\n",
            "Requirement already satisfied: rich>=13.9.4 in /usr/local/lib/python3.11/dist-packages (from crawl4ai) (13.9.4)\n",
            "Requirement already satisfied: cssselect>=1.2.0 in /usr/local/lib/python3.11/dist-packages (from crawl4ai) (1.2.0)\n",
            "Requirement already satisfied: httpx>=0.27.2 in /usr/local/lib/python3.11/dist-packages (from crawl4ai) (0.28.1)\n",
            "Requirement already satisfied: fake-useragent>=2.0.3 in /usr/local/lib/python3.11/dist-packages (from crawl4ai) (2.0.3)\n",
            "Requirement already satisfied: click>=8.1.7 in /usr/local/lib/python3.11/dist-packages (from crawl4ai) (8.1.8)\n",
            "Requirement already satisfied: pyperclip>=1.8.2 in /usr/local/lib/python3.11/dist-packages (from crawl4ai) (1.9.0)\n",
            "Requirement already satisfied: faust-cchardet>=2.1.19 in /usr/local/lib/python3.11/dist-packages (from crawl4ai) (2.1.19)\n",
            "Requirement already satisfied: aiohttp>=3.11.11 in /usr/local/lib/python3.11/dist-packages (from crawl4ai) (3.11.13)\n",
            "Requirement already satisfied: humanize>=4.10.0 in /usr/local/lib/python3.11/dist-packages (from crawl4ai) (4.11.0)\n",
            "Requirement already satisfied: aiohappyeyeballs>=2.3.0 in /usr/local/lib/python3.11/dist-packages (from aiohttp>=3.11.11->crawl4ai) (2.4.6)\n",
            "Requirement already satisfied: aiosignal>=1.1.2 in /usr/local/lib/python3.11/dist-packages (from aiohttp>=3.11.11->crawl4ai) (1.3.2)\n",
            "Requirement already satisfied: attrs>=17.3.0 in /usr/local/lib/python3.11/dist-packages (from aiohttp>=3.11.11->crawl4ai) (25.1.0)\n",
            "Requirement already satisfied: frozenlist>=1.1.1 in /usr/local/lib/python3.11/dist-packages (from aiohttp>=3.11.11->crawl4ai) (1.5.0)\n",
            "Requirement already satisfied: multidict<7.0,>=4.5 in /usr/local/lib/python3.11/dist-packages (from aiohttp>=3.11.11->crawl4ai) (6.1.0)\n",
            "Requirement already satisfied: propcache>=0.2.0 in /usr/local/lib/python3.11/dist-packages (from aiohttp>=3.11.11->crawl4ai) (0.3.0)\n",
            "Requirement already satisfied: yarl<2.0,>=1.17.0 in /usr/local/lib/python3.11/dist-packages (from aiohttp>=3.11.11->crawl4ai) (1.18.3)\n",
            "Requirement already satisfied: typing_extensions>=4.0 in /usr/local/lib/python3.11/dist-packages (from aiosqlite~=0.20->crawl4ai) (4.12.2)\n",
            "Requirement already satisfied: soupsieve>1.2 in /usr/local/lib/python3.11/dist-packages (from beautifulsoup4~=4.12->crawl4ai) (2.6)\n",
            "Requirement already satisfied: anyio in /usr/local/lib/python3.11/dist-packages (from httpx>=0.27.2->crawl4ai) (3.7.1)\n",
            "Requirement already satisfied: certifi in /usr/local/lib/python3.11/dist-packages (from httpx>=0.27.2->crawl4ai) (2025.1.31)\n",
            "Requirement already satisfied: httpcore==1.* in /usr/local/lib/python3.11/dist-packages (from httpx>=0.27.2->crawl4ai) (1.0.7)\n",
            "Requirement already satisfied: idna in /usr/local/lib/python3.11/dist-packages (from httpx>=0.27.2->crawl4ai) (3.10)\n",
            "Requirement already satisfied: h11<0.15,>=0.13 in /usr/local/lib/python3.11/dist-packages (from httpcore==1.*->httpx>=0.27.2->crawl4ai) (0.14.0)\n",
            "Requirement already satisfied: importlib-metadata>=6.8.0 in /usr/local/lib/python3.11/dist-packages (from litellm>=1.53.1->crawl4ai) (8.6.1)\n",
            "Requirement already satisfied: jinja2<4.0.0,>=3.1.2 in /usr/local/lib/python3.11/dist-packages (from litellm>=1.53.1->crawl4ai) (3.1.5)\n",
            "Requirement already satisfied: jsonschema<5.0.0,>=4.22.0 in /usr/local/lib/python3.11/dist-packages (from litellm>=1.53.1->crawl4ai) (4.23.0)\n",
            "Requirement already satisfied: openai>=1.61.0 in /usr/local/lib/python3.11/dist-packages (from litellm>=1.53.1->crawl4ai) (1.61.1)\n",
            "Requirement already satisfied: tiktoken>=0.7.0 in /usr/local/lib/python3.11/dist-packages (from litellm>=1.53.1->crawl4ai) (0.9.0)\n",
            "Requirement already satisfied: tokenizers in /usr/local/lib/python3.11/dist-packages (from litellm>=1.53.1->crawl4ai) (0.21.0)\n",
            "Requirement already satisfied: joblib in /usr/local/lib/python3.11/dist-packages (from nltk>=3.9.1->crawl4ai) (1.4.2)\n",
            "Requirement already satisfied: regex>=2021.8.3 in /usr/local/lib/python3.11/dist-packages (from nltk>=3.9.1->crawl4ai) (2024.11.6)\n",
            "Requirement already satisfied: tqdm in /usr/local/lib/python3.11/dist-packages (from nltk>=3.9.1->crawl4ai) (4.67.1)\n",
            "Requirement already satisfied: pyee<13,>=12 in /usr/local/lib/python3.11/dist-packages (from playwright>=1.49.0->crawl4ai) (12.1.1)\n",
            "Requirement already satisfied: greenlet<4.0.0,>=3.1.1 in /usr/local/lib/python3.11/dist-packages (from playwright>=1.49.0->crawl4ai) (3.1.1)\n",
            "Requirement already satisfied: annotated-types>=0.6.0 in /usr/local/lib/python3.11/dist-packages (from pydantic>=2.10->crawl4ai) (0.7.0)\n",
            "Requirement already satisfied: pydantic-core==2.27.2 in /usr/local/lib/python3.11/dist-packages (from pydantic>=2.10->crawl4ai) (2.27.2)\n",
            "Requirement already satisfied: cryptography<45,>=41.0.5 in /usr/local/lib/python3.11/dist-packages (from pyOpenSSL>=24.3.0->crawl4ai) (43.0.3)\n",
            "Requirement already satisfied: charset-normalizer<4,>=2 in /usr/local/lib/python3.11/dist-packages (from requests~=2.26->crawl4ai) (3.4.1)\n",
            "Requirement already satisfied: urllib3<3,>=1.21.1 in /usr/local/lib/python3.11/dist-packages (from requests~=2.26->crawl4ai) (2.3.0)\n",
            "Requirement already satisfied: markdown-it-py>=2.2.0 in /usr/local/lib/python3.11/dist-packages (from rich>=13.9.4->crawl4ai) (3.0.0)\n",
            "Requirement already satisfied: pygments<3.0.0,>=2.13.0 in /usr/local/lib/python3.11/dist-packages (from rich>=13.9.4->crawl4ai) (2.18.0)\n",
            "Requirement already satisfied: fake-http-header<0.4.0,>=0.3.5 in /usr/local/lib/python3.11/dist-packages (from tf-playwright-stealth>=1.1.0->crawl4ai) (0.3.5)\n",
            "Requirement already satisfied: cffi>=1.12 in /usr/local/lib/python3.11/dist-packages (from cryptography<45,>=41.0.5->pyOpenSSL>=24.3.0->crawl4ai) (1.17.1)\n",
            "Requirement already satisfied: zipp>=3.20 in /usr/local/lib/python3.11/dist-packages (from importlib-metadata>=6.8.0->litellm>=1.53.1->crawl4ai) (3.21.0)\n",
            "Requirement already satisfied: MarkupSafe>=2.0 in /usr/local/lib/python3.11/dist-packages (from jinja2<4.0.0,>=3.1.2->litellm>=1.53.1->crawl4ai) (3.0.2)\n",
            "Requirement already satisfied: jsonschema-specifications>=2023.03.6 in /usr/local/lib/python3.11/dist-packages (from jsonschema<5.0.0,>=4.22.0->litellm>=1.53.1->crawl4ai) (2024.10.1)\n",
            "Requirement already satisfied: referencing>=0.28.4 in /usr/local/lib/python3.11/dist-packages (from jsonschema<5.0.0,>=4.22.0->litellm>=1.53.1->crawl4ai) (0.36.2)\n",
            "Requirement already satisfied: rpds-py>=0.7.1 in /usr/local/lib/python3.11/dist-packages (from jsonschema<5.0.0,>=4.22.0->litellm>=1.53.1->crawl4ai) (0.23.1)\n",
            "Requirement already satisfied: mdurl~=0.1 in /usr/local/lib/python3.11/dist-packages (from markdown-it-py>=2.2.0->rich>=13.9.4->crawl4ai) (0.1.2)\n",
            "Requirement already satisfied: distro<2,>=1.7.0 in /usr/local/lib/python3.11/dist-packages (from openai>=1.61.0->litellm>=1.53.1->crawl4ai) (1.9.0)\n",
            "Requirement already satisfied: jiter<1,>=0.4.0 in /usr/local/lib/python3.11/dist-packages (from openai>=1.61.0->litellm>=1.53.1->crawl4ai) (0.8.2)\n",
            "Requirement already satisfied: sniffio in /usr/local/lib/python3.11/dist-packages (from openai>=1.61.0->litellm>=1.53.1->crawl4ai) (1.3.1)\n",
            "Requirement already satisfied: huggingface-hub<1.0,>=0.16.4 in /usr/local/lib/python3.11/dist-packages (from tokenizers->litellm>=1.53.1->crawl4ai) (0.28.1)\n",
            "Requirement already satisfied: pycparser in /usr/local/lib/python3.11/dist-packages (from cffi>=1.12->cryptography<45,>=41.0.5->pyOpenSSL>=24.3.0->crawl4ai) (2.22)\n",
            "Requirement already satisfied: filelock in /usr/local/lib/python3.11/dist-packages (from huggingface-hub<1.0,>=0.16.4->tokenizers->litellm>=1.53.1->crawl4ai) (3.17.0)\n",
            "Requirement already satisfied: fsspec>=2023.5.0 in /usr/local/lib/python3.11/dist-packages (from huggingface-hub<1.0,>=0.16.4->tokenizers->litellm>=1.53.1->crawl4ai) (2024.10.0)\n",
            "Requirement already satisfied: packaging>=20.9 in /usr/local/lib/python3.11/dist-packages (from huggingface-hub<1.0,>=0.16.4->tokenizers->litellm>=1.53.1->crawl4ai) (24.2)\n",
            "Requirement already satisfied: pyyaml>=5.1 in /usr/local/lib/python3.11/dist-packages (from huggingface-hub<1.0,>=0.16.4->tokenizers->litellm>=1.53.1->crawl4ai) (6.0.2)\n"
          ]
        }
      ]
    },
    {
      "cell_type": "code",
      "source": [
        "from agno.agent import Agent\n",
        "from agno.tools.crawl4ai import Crawl4aiTools\n",
        "from agno.agent import Agent, RunResponse\n",
        "agent = Agent(tools=[Crawl4aiTools(max_length=None)], show_tool_calls=True)\n",
        "response: RunResponse = agent.run(\"Tell me about https://satsuite.collegeboard.org/sat/whats-on-the-test/structure\")\n",
        "\n",
        "# agent.run(message=\"Tell me about https://satsuite.collegeboard.org/sat/whats-on-the-test/structure.\").content"
      ],
      "metadata": {
        "colab": {
          "base_uri": "https://localhost:8080/",
          "height": 1000
        },
        "id": "8KiW_vofNB1-",
        "outputId": "0c693872-773a-4612-bf62-fa3d26bb66c6"
      },
      "execution_count": 7,
      "outputs": [
        {
          "output_type": "display_data",
          "data": {
            "text/plain": [
              "\u001b[33mWARNING \u001b[0m Could not run function \u001b[1;35mweb_crawler\u001b[0m\u001b[1m(\u001b[0m\u001b[33murl\u001b[0m=\u001b[4;94mhttps\u001b[0m\u001b[4;94m://satsuite.collegeboard.org/sat/whats-on-the-test/structure\u001b[0m\u001b[4;94m)\u001b[0m \n"
            ],
            "text/html": [
              "<pre style=\"white-space:pre;overflow-x:auto;line-height:normal;font-family:Menlo,'DejaVu Sans Mono',consolas,'Courier New',monospace\"><span style=\"color: #808000; text-decoration-color: #808000\">WARNING </span> Could not run function <span style=\"color: #800080; text-decoration-color: #800080; font-weight: bold\">web_crawler</span><span style=\"font-weight: bold\">(</span><span style=\"color: #808000; text-decoration-color: #808000\">url</span>=<span style=\"color: #0000ff; text-decoration-color: #0000ff; text-decoration: underline\">https://satsuite.collegeboard.org/sat/whats-on-the-test/structure)</span> \n",
              "</pre>\n"
            ]
          },
          "metadata": {}
        },
        {
          "output_type": "display_data",
          "data": {
            "text/plain": [
              "\u001b[1;31mERROR   \u001b[0m \u001b[1;35masyncio.run\u001b[0m\u001b[1m(\u001b[0m\u001b[1m)\u001b[0m cannot be called from a running event loop                                                  \n",
              "         Traceback \u001b[1m(\u001b[0mmost recent call last\u001b[1m)\u001b[0m:                                                                        \n",
              "           File \u001b[32m\"/usr/local/lib/python3.11/dist-packages/agno/tools/function.py\"\u001b[0m, line \u001b[1;36m363\u001b[0m, in execute             \n",
              "             self.result = \u001b[1;35mself.function.entrypoint\u001b[0m\u001b[1m(\u001b[0m**entrypoint_args, **self.arguments\u001b[1m)\u001b[0m                           \n",
              "                           ^^^^^^^^^^^^^^^^^^^^^^^^^^^^^^^^^^^^^^^^^^^^^^^^^^^^^^^^^^^^^                           \n",
              "           File \u001b[32m\"/usr/local/lib/python3.11/dist-packages/pydantic/_internal/_validate_call.py\"\u001b[0m, line \u001b[1;36m38\u001b[0m, in        \n",
              "         wrapper_function                                                                                          \n",
              "             return \u001b[1;35mwrapper\u001b[0m\u001b[1m(\u001b[0m*args, **kwargs\u001b[1m)\u001b[0m                                                                       \n",
              "                    ^^^^^^^^^^^^^^^^^^^^^^^^                                                                       \n",
              "           File \u001b[32m\"/usr/local/lib/python3.11/dist-packages/pydantic/_internal/_validate_call.py\"\u001b[0m, line \u001b[1;36m111\u001b[0m, in       \n",
              "         __call__                                                                                                  \n",
              "             res = \u001b[1;35mself.__pydantic_validator__.validate_python\u001b[0m\u001b[1m(\u001b[0m\u001b[1;35mpydantic_core.ArgsKwargs\u001b[0m\u001b[1m(\u001b[0margs, kwargs\u001b[1m)\u001b[0m\u001b[1m)\u001b[0m             \n",
              "                   ^^^^^^^^^^^^^^^^^^^^^^^^^^^^^^^^^^^^^^^^^^^^^^^^^^^^^^^^^^^^^^^^^^^^^^^^^^^^^^^^^^^             \n",
              "           File \u001b[32m\"/usr/local/lib/python3.11/dist-packages/agno/tools/crawl4ai.py\"\u001b[0m, line \u001b[1;36m36\u001b[0m, in web_crawler          \n",
              "             return \u001b[1;35masyncio.run\u001b[0m\u001b[1m(\u001b[0m\u001b[1;35mself._async_web_crawler\u001b[0m\u001b[1m(\u001b[0murl, max_length\u001b[1m)\u001b[0m\u001b[1m)\u001b[0m                                          \n",
              "                    ^^^^^^^^^^^^^^^^^^^^^^^^^^^^^^^^^^^^^^^^^^^^^^^^^^^^^                                          \n",
              "           File \u001b[32m\"/usr/lib/python3.11/asyncio/runners.py\"\u001b[0m, line \u001b[1;36m186\u001b[0m, in run                                         \n",
              "             raise \u001b[1;35mRuntimeError\u001b[0m\u001b[1m(\u001b[0m                                                                                   \n",
              "         RuntimeError: \u001b[1;35masyncio.run\u001b[0m\u001b[1m(\u001b[0m\u001b[1m)\u001b[0m cannot be called from a running event loop                                    \n"
            ],
            "text/html": [
              "<pre style=\"white-space:pre;overflow-x:auto;line-height:normal;font-family:Menlo,'DejaVu Sans Mono',consolas,'Courier New',monospace\"><span style=\"color: #800000; text-decoration-color: #800000; font-weight: bold\">ERROR   </span> <span style=\"color: #800080; text-decoration-color: #800080; font-weight: bold\">asyncio.run</span><span style=\"font-weight: bold\">()</span> cannot be called from a running event loop                                                  \n",
              "         Traceback <span style=\"font-weight: bold\">(</span>most recent call last<span style=\"font-weight: bold\">)</span>:                                                                        \n",
              "           File <span style=\"color: #008000; text-decoration-color: #008000\">\"/usr/local/lib/python3.11/dist-packages/agno/tools/function.py\"</span>, line <span style=\"color: #008080; text-decoration-color: #008080; font-weight: bold\">363</span>, in execute             \n",
              "             self.result = <span style=\"color: #800080; text-decoration-color: #800080; font-weight: bold\">self.function.entrypoint</span><span style=\"font-weight: bold\">(</span>**entrypoint_args, **self.arguments<span style=\"font-weight: bold\">)</span>                           \n",
              "                           ^^^^^^^^^^^^^^^^^^^^^^^^^^^^^^^^^^^^^^^^^^^^^^^^^^^^^^^^^^^^^                           \n",
              "           File <span style=\"color: #008000; text-decoration-color: #008000\">\"/usr/local/lib/python3.11/dist-packages/pydantic/_internal/_validate_call.py\"</span>, line <span style=\"color: #008080; text-decoration-color: #008080; font-weight: bold\">38</span>, in        \n",
              "         wrapper_function                                                                                          \n",
              "             return <span style=\"color: #800080; text-decoration-color: #800080; font-weight: bold\">wrapper</span><span style=\"font-weight: bold\">(</span>*args, **kwargs<span style=\"font-weight: bold\">)</span>                                                                       \n",
              "                    ^^^^^^^^^^^^^^^^^^^^^^^^                                                                       \n",
              "           File <span style=\"color: #008000; text-decoration-color: #008000\">\"/usr/local/lib/python3.11/dist-packages/pydantic/_internal/_validate_call.py\"</span>, line <span style=\"color: #008080; text-decoration-color: #008080; font-weight: bold\">111</span>, in       \n",
              "         __call__                                                                                                  \n",
              "             res = <span style=\"color: #800080; text-decoration-color: #800080; font-weight: bold\">self.__pydantic_validator__.validate_python</span><span style=\"font-weight: bold\">(</span><span style=\"color: #800080; text-decoration-color: #800080; font-weight: bold\">pydantic_core.ArgsKwargs</span><span style=\"font-weight: bold\">(</span>args, kwargs<span style=\"font-weight: bold\">))</span>             \n",
              "                   ^^^^^^^^^^^^^^^^^^^^^^^^^^^^^^^^^^^^^^^^^^^^^^^^^^^^^^^^^^^^^^^^^^^^^^^^^^^^^^^^^^^             \n",
              "           File <span style=\"color: #008000; text-decoration-color: #008000\">\"/usr/local/lib/python3.11/dist-packages/agno/tools/crawl4ai.py\"</span>, line <span style=\"color: #008080; text-decoration-color: #008080; font-weight: bold\">36</span>, in web_crawler          \n",
              "             return <span style=\"color: #800080; text-decoration-color: #800080; font-weight: bold\">asyncio.run</span><span style=\"font-weight: bold\">(</span><span style=\"color: #800080; text-decoration-color: #800080; font-weight: bold\">self._async_web_crawler</span><span style=\"font-weight: bold\">(</span>url, max_length<span style=\"font-weight: bold\">))</span>                                          \n",
              "                    ^^^^^^^^^^^^^^^^^^^^^^^^^^^^^^^^^^^^^^^^^^^^^^^^^^^^^                                          \n",
              "           File <span style=\"color: #008000; text-decoration-color: #008000\">\"/usr/lib/python3.11/asyncio/runners.py\"</span>, line <span style=\"color: #008080; text-decoration-color: #008080; font-weight: bold\">186</span>, in run                                         \n",
              "             raise <span style=\"color: #800080; text-decoration-color: #800080; font-weight: bold\">RuntimeError</span><span style=\"font-weight: bold\">(</span>                                                                                   \n",
              "         RuntimeError: <span style=\"color: #800080; text-decoration-color: #800080; font-weight: bold\">asyncio.run</span><span style=\"font-weight: bold\">()</span> cannot be called from a running event loop                                    \n",
              "</pre>\n"
            ]
          },
          "metadata": {}
        },
        {
          "output_type": "stream",
          "name": "stderr",
          "text": [
            "/usr/local/lib/python3.11/dist-packages/agno/tools/function.py:373: RuntimeWarning: coroutine 'Crawl4aiTools._async_web_crawler' was never awaited\n",
            "  return function_call_success\n",
            "RuntimeWarning: Enable tracemalloc to get the object allocation traceback\n"
          ]
        },
        {
          "output_type": "display_data",
          "data": {
            "text/plain": [
              "\u001b[33mWARNING \u001b[0m Could not run function \u001b[1;35mweb_crawler\u001b[0m\u001b[1m(\u001b[0m\u001b[33murl\u001b[0m=\u001b[4;94mhttps\u001b[0m\u001b[4;94m://satsuite.collegeboard.org/sat/whats-on-the-test/structure\u001b[0m\u001b[4;94m)\u001b[0m \n"
            ],
            "text/html": [
              "<pre style=\"white-space:pre;overflow-x:auto;line-height:normal;font-family:Menlo,'DejaVu Sans Mono',consolas,'Courier New',monospace\"><span style=\"color: #808000; text-decoration-color: #808000\">WARNING </span> Could not run function <span style=\"color: #800080; text-decoration-color: #800080; font-weight: bold\">web_crawler</span><span style=\"font-weight: bold\">(</span><span style=\"color: #808000; text-decoration-color: #808000\">url</span>=<span style=\"color: #0000ff; text-decoration-color: #0000ff; text-decoration: underline\">https://satsuite.collegeboard.org/sat/whats-on-the-test/structure)</span> \n",
              "</pre>\n"
            ]
          },
          "metadata": {}
        },
        {
          "output_type": "display_data",
          "data": {
            "text/plain": [
              "\u001b[1;31mERROR   \u001b[0m \u001b[1;35masyncio.run\u001b[0m\u001b[1m(\u001b[0m\u001b[1m)\u001b[0m cannot be called from a running event loop                                                  \n",
              "         Traceback \u001b[1m(\u001b[0mmost recent call last\u001b[1m)\u001b[0m:                                                                        \n",
              "           File \u001b[32m\"/usr/local/lib/python3.11/dist-packages/agno/tools/function.py\"\u001b[0m, line \u001b[1;36m363\u001b[0m, in execute             \n",
              "             self.result = \u001b[1;35mself.function.entrypoint\u001b[0m\u001b[1m(\u001b[0m**entrypoint_args, **self.arguments\u001b[1m)\u001b[0m                           \n",
              "                           ^^^^^^^^^^^^^^^^^^^^^^^^^^^^^^^^^^^^^^^^^^^^^^^^^^^^^^^^^^^^^                           \n",
              "           File \u001b[32m\"/usr/local/lib/python3.11/dist-packages/pydantic/_internal/_validate_call.py\"\u001b[0m, line \u001b[1;36m38\u001b[0m, in        \n",
              "         wrapper_function                                                                                          \n",
              "             return \u001b[1;35mwrapper\u001b[0m\u001b[1m(\u001b[0m*args, **kwargs\u001b[1m)\u001b[0m                                                                       \n",
              "                    ^^^^^^^^^^^^^^^^^^^^^^^^                                                                       \n",
              "           File \u001b[32m\"/usr/local/lib/python3.11/dist-packages/pydantic/_internal/_validate_call.py\"\u001b[0m, line \u001b[1;36m111\u001b[0m, in       \n",
              "         __call__                                                                                                  \n",
              "             res = \u001b[1;35mself.__pydantic_validator__.validate_python\u001b[0m\u001b[1m(\u001b[0m\u001b[1;35mpydantic_core.ArgsKwargs\u001b[0m\u001b[1m(\u001b[0margs, kwargs\u001b[1m)\u001b[0m\u001b[1m)\u001b[0m             \n",
              "                   ^^^^^^^^^^^^^^^^^^^^^^^^^^^^^^^^^^^^^^^^^^^^^^^^^^^^^^^^^^^^^^^^^^^^^^^^^^^^^^^^^^^             \n",
              "           File \u001b[32m\"/usr/local/lib/python3.11/dist-packages/agno/tools/crawl4ai.py\"\u001b[0m, line \u001b[1;36m36\u001b[0m, in web_crawler          \n",
              "             return \u001b[1;35masyncio.run\u001b[0m\u001b[1m(\u001b[0m\u001b[1;35mself._async_web_crawler\u001b[0m\u001b[1m(\u001b[0murl, max_length\u001b[1m)\u001b[0m\u001b[1m)\u001b[0m                                          \n",
              "                    ^^^^^^^^^^^^^^^^^^^^^^^^^^^^^^^^^^^^^^^^^^^^^^^^^^^^^                                          \n",
              "           File \u001b[32m\"/usr/lib/python3.11/asyncio/runners.py\"\u001b[0m, line \u001b[1;36m186\u001b[0m, in run                                         \n",
              "             raise \u001b[1;35mRuntimeError\u001b[0m\u001b[1m(\u001b[0m                                                                                   \n",
              "         RuntimeError: \u001b[1;35masyncio.run\u001b[0m\u001b[1m(\u001b[0m\u001b[1m)\u001b[0m cannot be called from a running event loop                                    \n"
            ],
            "text/html": [
              "<pre style=\"white-space:pre;overflow-x:auto;line-height:normal;font-family:Menlo,'DejaVu Sans Mono',consolas,'Courier New',monospace\"><span style=\"color: #800000; text-decoration-color: #800000; font-weight: bold\">ERROR   </span> <span style=\"color: #800080; text-decoration-color: #800080; font-weight: bold\">asyncio.run</span><span style=\"font-weight: bold\">()</span> cannot be called from a running event loop                                                  \n",
              "         Traceback <span style=\"font-weight: bold\">(</span>most recent call last<span style=\"font-weight: bold\">)</span>:                                                                        \n",
              "           File <span style=\"color: #008000; text-decoration-color: #008000\">\"/usr/local/lib/python3.11/dist-packages/agno/tools/function.py\"</span>, line <span style=\"color: #008080; text-decoration-color: #008080; font-weight: bold\">363</span>, in execute             \n",
              "             self.result = <span style=\"color: #800080; text-decoration-color: #800080; font-weight: bold\">self.function.entrypoint</span><span style=\"font-weight: bold\">(</span>**entrypoint_args, **self.arguments<span style=\"font-weight: bold\">)</span>                           \n",
              "                           ^^^^^^^^^^^^^^^^^^^^^^^^^^^^^^^^^^^^^^^^^^^^^^^^^^^^^^^^^^^^^                           \n",
              "           File <span style=\"color: #008000; text-decoration-color: #008000\">\"/usr/local/lib/python3.11/dist-packages/pydantic/_internal/_validate_call.py\"</span>, line <span style=\"color: #008080; text-decoration-color: #008080; font-weight: bold\">38</span>, in        \n",
              "         wrapper_function                                                                                          \n",
              "             return <span style=\"color: #800080; text-decoration-color: #800080; font-weight: bold\">wrapper</span><span style=\"font-weight: bold\">(</span>*args, **kwargs<span style=\"font-weight: bold\">)</span>                                                                       \n",
              "                    ^^^^^^^^^^^^^^^^^^^^^^^^                                                                       \n",
              "           File <span style=\"color: #008000; text-decoration-color: #008000\">\"/usr/local/lib/python3.11/dist-packages/pydantic/_internal/_validate_call.py\"</span>, line <span style=\"color: #008080; text-decoration-color: #008080; font-weight: bold\">111</span>, in       \n",
              "         __call__                                                                                                  \n",
              "             res = <span style=\"color: #800080; text-decoration-color: #800080; font-weight: bold\">self.__pydantic_validator__.validate_python</span><span style=\"font-weight: bold\">(</span><span style=\"color: #800080; text-decoration-color: #800080; font-weight: bold\">pydantic_core.ArgsKwargs</span><span style=\"font-weight: bold\">(</span>args, kwargs<span style=\"font-weight: bold\">))</span>             \n",
              "                   ^^^^^^^^^^^^^^^^^^^^^^^^^^^^^^^^^^^^^^^^^^^^^^^^^^^^^^^^^^^^^^^^^^^^^^^^^^^^^^^^^^^             \n",
              "           File <span style=\"color: #008000; text-decoration-color: #008000\">\"/usr/local/lib/python3.11/dist-packages/agno/tools/crawl4ai.py\"</span>, line <span style=\"color: #008080; text-decoration-color: #008080; font-weight: bold\">36</span>, in web_crawler          \n",
              "             return <span style=\"color: #800080; text-decoration-color: #800080; font-weight: bold\">asyncio.run</span><span style=\"font-weight: bold\">(</span><span style=\"color: #800080; text-decoration-color: #800080; font-weight: bold\">self._async_web_crawler</span><span style=\"font-weight: bold\">(</span>url, max_length<span style=\"font-weight: bold\">))</span>                                          \n",
              "                    ^^^^^^^^^^^^^^^^^^^^^^^^^^^^^^^^^^^^^^^^^^^^^^^^^^^^^                                          \n",
              "           File <span style=\"color: #008000; text-decoration-color: #008000\">\"/usr/lib/python3.11/asyncio/runners.py\"</span>, line <span style=\"color: #008080; text-decoration-color: #008080; font-weight: bold\">186</span>, in run                                         \n",
              "             raise <span style=\"color: #800080; text-decoration-color: #800080; font-weight: bold\">RuntimeError</span><span style=\"font-weight: bold\">(</span>                                                                                   \n",
              "         RuntimeError: <span style=\"color: #800080; text-decoration-color: #800080; font-weight: bold\">asyncio.run</span><span style=\"font-weight: bold\">()</span> cannot be called from a running event loop                                    \n",
              "</pre>\n"
            ]
          },
          "metadata": {}
        },
        {
          "output_type": "display_data",
          "data": {
            "text/plain": [
              "\u001b[33mWARNING \u001b[0m Could not run function \u001b[1;35mweb_crawler\u001b[0m\u001b[1m(\u001b[0m\u001b[33murl\u001b[0m=\u001b[4;94mhttps\u001b[0m\u001b[4;94m://satsuite.collegeboard.org/sat/whats-on-the-test/structure,\u001b[0m \n",
              "         \u001b[33mmax_length\u001b[0m=\u001b[1;36m5000\u001b[0m\u001b[1m)\u001b[0m                                                                                          \n"
            ],
            "text/html": [
              "<pre style=\"white-space:pre;overflow-x:auto;line-height:normal;font-family:Menlo,'DejaVu Sans Mono',consolas,'Courier New',monospace\"><span style=\"color: #808000; text-decoration-color: #808000\">WARNING </span> Could not run function <span style=\"color: #800080; text-decoration-color: #800080; font-weight: bold\">web_crawler</span><span style=\"font-weight: bold\">(</span><span style=\"color: #808000; text-decoration-color: #808000\">url</span>=<span style=\"color: #0000ff; text-decoration-color: #0000ff; text-decoration: underline\">https://satsuite.collegeboard.org/sat/whats-on-the-test/structure,</span> \n",
              "         <span style=\"color: #808000; text-decoration-color: #808000\">max_length</span>=<span style=\"color: #008080; text-decoration-color: #008080; font-weight: bold\">5000</span><span style=\"font-weight: bold\">)</span>                                                                                          \n",
              "</pre>\n"
            ]
          },
          "metadata": {}
        },
        {
          "output_type": "display_data",
          "data": {
            "text/plain": [
              "\u001b[1;31mERROR   \u001b[0m \u001b[1;35masyncio.run\u001b[0m\u001b[1m(\u001b[0m\u001b[1m)\u001b[0m cannot be called from a running event loop                                                  \n",
              "         Traceback \u001b[1m(\u001b[0mmost recent call last\u001b[1m)\u001b[0m:                                                                        \n",
              "           File \u001b[32m\"/usr/local/lib/python3.11/dist-packages/agno/tools/function.py\"\u001b[0m, line \u001b[1;36m363\u001b[0m, in execute             \n",
              "             self.result = \u001b[1;35mself.function.entrypoint\u001b[0m\u001b[1m(\u001b[0m**entrypoint_args, **self.arguments\u001b[1m)\u001b[0m                           \n",
              "                           ^^^^^^^^^^^^^^^^^^^^^^^^^^^^^^^^^^^^^^^^^^^^^^^^^^^^^^^^^^^^^                           \n",
              "           File \u001b[32m\"/usr/local/lib/python3.11/dist-packages/pydantic/_internal/_validate_call.py\"\u001b[0m, line \u001b[1;36m38\u001b[0m, in        \n",
              "         wrapper_function                                                                                          \n",
              "             return \u001b[1;35mwrapper\u001b[0m\u001b[1m(\u001b[0m*args, **kwargs\u001b[1m)\u001b[0m                                                                       \n",
              "                    ^^^^^^^^^^^^^^^^^^^^^^^^                                                                       \n",
              "           File \u001b[32m\"/usr/local/lib/python3.11/dist-packages/pydantic/_internal/_validate_call.py\"\u001b[0m, line \u001b[1;36m111\u001b[0m, in       \n",
              "         __call__                                                                                                  \n",
              "             res = \u001b[1;35mself.__pydantic_validator__.validate_python\u001b[0m\u001b[1m(\u001b[0m\u001b[1;35mpydantic_core.ArgsKwargs\u001b[0m\u001b[1m(\u001b[0margs, kwargs\u001b[1m)\u001b[0m\u001b[1m)\u001b[0m             \n",
              "                   ^^^^^^^^^^^^^^^^^^^^^^^^^^^^^^^^^^^^^^^^^^^^^^^^^^^^^^^^^^^^^^^^^^^^^^^^^^^^^^^^^^^             \n",
              "           File \u001b[32m\"/usr/local/lib/python3.11/dist-packages/agno/tools/crawl4ai.py\"\u001b[0m, line \u001b[1;36m36\u001b[0m, in web_crawler          \n",
              "             return \u001b[1;35masyncio.run\u001b[0m\u001b[1m(\u001b[0m\u001b[1;35mself._async_web_crawler\u001b[0m\u001b[1m(\u001b[0murl, max_length\u001b[1m)\u001b[0m\u001b[1m)\u001b[0m                                          \n",
              "                    ^^^^^^^^^^^^^^^^^^^^^^^^^^^^^^^^^^^^^^^^^^^^^^^^^^^^^                                          \n",
              "           File \u001b[32m\"/usr/lib/python3.11/asyncio/runners.py\"\u001b[0m, line \u001b[1;36m186\u001b[0m, in run                                         \n",
              "             raise \u001b[1;35mRuntimeError\u001b[0m\u001b[1m(\u001b[0m                                                                                   \n",
              "         RuntimeError: \u001b[1;35masyncio.run\u001b[0m\u001b[1m(\u001b[0m\u001b[1m)\u001b[0m cannot be called from a running event loop                                    \n"
            ],
            "text/html": [
              "<pre style=\"white-space:pre;overflow-x:auto;line-height:normal;font-family:Menlo,'DejaVu Sans Mono',consolas,'Courier New',monospace\"><span style=\"color: #800000; text-decoration-color: #800000; font-weight: bold\">ERROR   </span> <span style=\"color: #800080; text-decoration-color: #800080; font-weight: bold\">asyncio.run</span><span style=\"font-weight: bold\">()</span> cannot be called from a running event loop                                                  \n",
              "         Traceback <span style=\"font-weight: bold\">(</span>most recent call last<span style=\"font-weight: bold\">)</span>:                                                                        \n",
              "           File <span style=\"color: #008000; text-decoration-color: #008000\">\"/usr/local/lib/python3.11/dist-packages/agno/tools/function.py\"</span>, line <span style=\"color: #008080; text-decoration-color: #008080; font-weight: bold\">363</span>, in execute             \n",
              "             self.result = <span style=\"color: #800080; text-decoration-color: #800080; font-weight: bold\">self.function.entrypoint</span><span style=\"font-weight: bold\">(</span>**entrypoint_args, **self.arguments<span style=\"font-weight: bold\">)</span>                           \n",
              "                           ^^^^^^^^^^^^^^^^^^^^^^^^^^^^^^^^^^^^^^^^^^^^^^^^^^^^^^^^^^^^^                           \n",
              "           File <span style=\"color: #008000; text-decoration-color: #008000\">\"/usr/local/lib/python3.11/dist-packages/pydantic/_internal/_validate_call.py\"</span>, line <span style=\"color: #008080; text-decoration-color: #008080; font-weight: bold\">38</span>, in        \n",
              "         wrapper_function                                                                                          \n",
              "             return <span style=\"color: #800080; text-decoration-color: #800080; font-weight: bold\">wrapper</span><span style=\"font-weight: bold\">(</span>*args, **kwargs<span style=\"font-weight: bold\">)</span>                                                                       \n",
              "                    ^^^^^^^^^^^^^^^^^^^^^^^^                                                                       \n",
              "           File <span style=\"color: #008000; text-decoration-color: #008000\">\"/usr/local/lib/python3.11/dist-packages/pydantic/_internal/_validate_call.py\"</span>, line <span style=\"color: #008080; text-decoration-color: #008080; font-weight: bold\">111</span>, in       \n",
              "         __call__                                                                                                  \n",
              "             res = <span style=\"color: #800080; text-decoration-color: #800080; font-weight: bold\">self.__pydantic_validator__.validate_python</span><span style=\"font-weight: bold\">(</span><span style=\"color: #800080; text-decoration-color: #800080; font-weight: bold\">pydantic_core.ArgsKwargs</span><span style=\"font-weight: bold\">(</span>args, kwargs<span style=\"font-weight: bold\">))</span>             \n",
              "                   ^^^^^^^^^^^^^^^^^^^^^^^^^^^^^^^^^^^^^^^^^^^^^^^^^^^^^^^^^^^^^^^^^^^^^^^^^^^^^^^^^^^             \n",
              "           File <span style=\"color: #008000; text-decoration-color: #008000\">\"/usr/local/lib/python3.11/dist-packages/agno/tools/crawl4ai.py\"</span>, line <span style=\"color: #008080; text-decoration-color: #008080; font-weight: bold\">36</span>, in web_crawler          \n",
              "             return <span style=\"color: #800080; text-decoration-color: #800080; font-weight: bold\">asyncio.run</span><span style=\"font-weight: bold\">(</span><span style=\"color: #800080; text-decoration-color: #800080; font-weight: bold\">self._async_web_crawler</span><span style=\"font-weight: bold\">(</span>url, max_length<span style=\"font-weight: bold\">))</span>                                          \n",
              "                    ^^^^^^^^^^^^^^^^^^^^^^^^^^^^^^^^^^^^^^^^^^^^^^^^^^^^^                                          \n",
              "           File <span style=\"color: #008000; text-decoration-color: #008000\">\"/usr/lib/python3.11/asyncio/runners.py\"</span>, line <span style=\"color: #008080; text-decoration-color: #008080; font-weight: bold\">186</span>, in run                                         \n",
              "             raise <span style=\"color: #800080; text-decoration-color: #800080; font-weight: bold\">RuntimeError</span><span style=\"font-weight: bold\">(</span>                                                                                   \n",
              "         RuntimeError: <span style=\"color: #800080; text-decoration-color: #800080; font-weight: bold\">asyncio.run</span><span style=\"font-weight: bold\">()</span> cannot be called from a running event loop                                    \n",
              "</pre>\n"
            ]
          },
          "metadata": {}
        },
        {
          "output_type": "display_data",
          "data": {
            "text/plain": [
              "\u001b[33mWARNING \u001b[0m Could not run function \u001b[1;35mweb_crawler\u001b[0m\u001b[1m(\u001b[0m\u001b[33murl\u001b[0m=\u001b[4;94mhttps\u001b[0m\u001b[4;94m://satsuite.collegeboard.org/sat/whats-on-the-test/structure,\u001b[0m \n",
              "         \u001b[33mmax_length\u001b[0m=\u001b[1;36m3000\u001b[0m\u001b[1m)\u001b[0m                                                                                          \n"
            ],
            "text/html": [
              "<pre style=\"white-space:pre;overflow-x:auto;line-height:normal;font-family:Menlo,'DejaVu Sans Mono',consolas,'Courier New',monospace\"><span style=\"color: #808000; text-decoration-color: #808000\">WARNING </span> Could not run function <span style=\"color: #800080; text-decoration-color: #800080; font-weight: bold\">web_crawler</span><span style=\"font-weight: bold\">(</span><span style=\"color: #808000; text-decoration-color: #808000\">url</span>=<span style=\"color: #0000ff; text-decoration-color: #0000ff; text-decoration: underline\">https://satsuite.collegeboard.org/sat/whats-on-the-test/structure,</span> \n",
              "         <span style=\"color: #808000; text-decoration-color: #808000\">max_length</span>=<span style=\"color: #008080; text-decoration-color: #008080; font-weight: bold\">3000</span><span style=\"font-weight: bold\">)</span>                                                                                          \n",
              "</pre>\n"
            ]
          },
          "metadata": {}
        },
        {
          "output_type": "display_data",
          "data": {
            "text/plain": [
              "\u001b[1;31mERROR   \u001b[0m \u001b[1;35masyncio.run\u001b[0m\u001b[1m(\u001b[0m\u001b[1m)\u001b[0m cannot be called from a running event loop                                                  \n",
              "         Traceback \u001b[1m(\u001b[0mmost recent call last\u001b[1m)\u001b[0m:                                                                        \n",
              "           File \u001b[32m\"/usr/local/lib/python3.11/dist-packages/agno/tools/function.py\"\u001b[0m, line \u001b[1;36m363\u001b[0m, in execute             \n",
              "             self.result = \u001b[1;35mself.function.entrypoint\u001b[0m\u001b[1m(\u001b[0m**entrypoint_args, **self.arguments\u001b[1m)\u001b[0m                           \n",
              "                           ^^^^^^^^^^^^^^^^^^^^^^^^^^^^^^^^^^^^^^^^^^^^^^^^^^^^^^^^^^^^^                           \n",
              "           File \u001b[32m\"/usr/local/lib/python3.11/dist-packages/pydantic/_internal/_validate_call.py\"\u001b[0m, line \u001b[1;36m38\u001b[0m, in        \n",
              "         wrapper_function                                                                                          \n",
              "             return \u001b[1;35mwrapper\u001b[0m\u001b[1m(\u001b[0m*args, **kwargs\u001b[1m)\u001b[0m                                                                       \n",
              "                    ^^^^^^^^^^^^^^^^^^^^^^^^                                                                       \n",
              "           File \u001b[32m\"/usr/local/lib/python3.11/dist-packages/pydantic/_internal/_validate_call.py\"\u001b[0m, line \u001b[1;36m111\u001b[0m, in       \n",
              "         __call__                                                                                                  \n",
              "             res = \u001b[1;35mself.__pydantic_validator__.validate_python\u001b[0m\u001b[1m(\u001b[0m\u001b[1;35mpydantic_core.ArgsKwargs\u001b[0m\u001b[1m(\u001b[0margs, kwargs\u001b[1m)\u001b[0m\u001b[1m)\u001b[0m             \n",
              "                   ^^^^^^^^^^^^^^^^^^^^^^^^^^^^^^^^^^^^^^^^^^^^^^^^^^^^^^^^^^^^^^^^^^^^^^^^^^^^^^^^^^^             \n",
              "           File \u001b[32m\"/usr/local/lib/python3.11/dist-packages/agno/tools/crawl4ai.py\"\u001b[0m, line \u001b[1;36m36\u001b[0m, in web_crawler          \n",
              "             return \u001b[1;35masyncio.run\u001b[0m\u001b[1m(\u001b[0m\u001b[1;35mself._async_web_crawler\u001b[0m\u001b[1m(\u001b[0murl, max_length\u001b[1m)\u001b[0m\u001b[1m)\u001b[0m                                          \n",
              "                    ^^^^^^^^^^^^^^^^^^^^^^^^^^^^^^^^^^^^^^^^^^^^^^^^^^^^^                                          \n",
              "           File \u001b[32m\"/usr/lib/python3.11/asyncio/runners.py\"\u001b[0m, line \u001b[1;36m186\u001b[0m, in run                                         \n",
              "             raise \u001b[1;35mRuntimeError\u001b[0m\u001b[1m(\u001b[0m                                                                                   \n",
              "         RuntimeError: \u001b[1;35masyncio.run\u001b[0m\u001b[1m(\u001b[0m\u001b[1m)\u001b[0m cannot be called from a running event loop                                    \n"
            ],
            "text/html": [
              "<pre style=\"white-space:pre;overflow-x:auto;line-height:normal;font-family:Menlo,'DejaVu Sans Mono',consolas,'Courier New',monospace\"><span style=\"color: #800000; text-decoration-color: #800000; font-weight: bold\">ERROR   </span> <span style=\"color: #800080; text-decoration-color: #800080; font-weight: bold\">asyncio.run</span><span style=\"font-weight: bold\">()</span> cannot be called from a running event loop                                                  \n",
              "         Traceback <span style=\"font-weight: bold\">(</span>most recent call last<span style=\"font-weight: bold\">)</span>:                                                                        \n",
              "           File <span style=\"color: #008000; text-decoration-color: #008000\">\"/usr/local/lib/python3.11/dist-packages/agno/tools/function.py\"</span>, line <span style=\"color: #008080; text-decoration-color: #008080; font-weight: bold\">363</span>, in execute             \n",
              "             self.result = <span style=\"color: #800080; text-decoration-color: #800080; font-weight: bold\">self.function.entrypoint</span><span style=\"font-weight: bold\">(</span>**entrypoint_args, **self.arguments<span style=\"font-weight: bold\">)</span>                           \n",
              "                           ^^^^^^^^^^^^^^^^^^^^^^^^^^^^^^^^^^^^^^^^^^^^^^^^^^^^^^^^^^^^^                           \n",
              "           File <span style=\"color: #008000; text-decoration-color: #008000\">\"/usr/local/lib/python3.11/dist-packages/pydantic/_internal/_validate_call.py\"</span>, line <span style=\"color: #008080; text-decoration-color: #008080; font-weight: bold\">38</span>, in        \n",
              "         wrapper_function                                                                                          \n",
              "             return <span style=\"color: #800080; text-decoration-color: #800080; font-weight: bold\">wrapper</span><span style=\"font-weight: bold\">(</span>*args, **kwargs<span style=\"font-weight: bold\">)</span>                                                                       \n",
              "                    ^^^^^^^^^^^^^^^^^^^^^^^^                                                                       \n",
              "           File <span style=\"color: #008000; text-decoration-color: #008000\">\"/usr/local/lib/python3.11/dist-packages/pydantic/_internal/_validate_call.py\"</span>, line <span style=\"color: #008080; text-decoration-color: #008080; font-weight: bold\">111</span>, in       \n",
              "         __call__                                                                                                  \n",
              "             res = <span style=\"color: #800080; text-decoration-color: #800080; font-weight: bold\">self.__pydantic_validator__.validate_python</span><span style=\"font-weight: bold\">(</span><span style=\"color: #800080; text-decoration-color: #800080; font-weight: bold\">pydantic_core.ArgsKwargs</span><span style=\"font-weight: bold\">(</span>args, kwargs<span style=\"font-weight: bold\">))</span>             \n",
              "                   ^^^^^^^^^^^^^^^^^^^^^^^^^^^^^^^^^^^^^^^^^^^^^^^^^^^^^^^^^^^^^^^^^^^^^^^^^^^^^^^^^^^             \n",
              "           File <span style=\"color: #008000; text-decoration-color: #008000\">\"/usr/local/lib/python3.11/dist-packages/agno/tools/crawl4ai.py\"</span>, line <span style=\"color: #008080; text-decoration-color: #008080; font-weight: bold\">36</span>, in web_crawler          \n",
              "             return <span style=\"color: #800080; text-decoration-color: #800080; font-weight: bold\">asyncio.run</span><span style=\"font-weight: bold\">(</span><span style=\"color: #800080; text-decoration-color: #800080; font-weight: bold\">self._async_web_crawler</span><span style=\"font-weight: bold\">(</span>url, max_length<span style=\"font-weight: bold\">))</span>                                          \n",
              "                    ^^^^^^^^^^^^^^^^^^^^^^^^^^^^^^^^^^^^^^^^^^^^^^^^^^^^^                                          \n",
              "           File <span style=\"color: #008000; text-decoration-color: #008000\">\"/usr/lib/python3.11/asyncio/runners.py\"</span>, line <span style=\"color: #008080; text-decoration-color: #008080; font-weight: bold\">186</span>, in run                                         \n",
              "             raise <span style=\"color: #800080; text-decoration-color: #800080; font-weight: bold\">RuntimeError</span><span style=\"font-weight: bold\">(</span>                                                                                   \n",
              "         RuntimeError: <span style=\"color: #800080; text-decoration-color: #800080; font-weight: bold\">asyncio.run</span><span style=\"font-weight: bold\">()</span> cannot be called from a running event loop                                    \n",
              "</pre>\n"
            ]
          },
          "metadata": {}
        }
      ]
    },
    {
      "cell_type": "code",
      "source": [
        "pip install -U agno"
      ],
      "metadata": {
        "id": "zN24T4PhNEFA",
        "colab": {
          "base_uri": "https://localhost:8080/"
        },
        "outputId": "19b5b43f-30d6-4fc8-d31e-01be390732e2"
      },
      "execution_count": 8,
      "outputs": [
        {
          "output_type": "stream",
          "name": "stdout",
          "text": [
            "Requirement already satisfied: agno in /usr/local/lib/python3.11/dist-packages (1.1.9)\n",
            "Requirement already satisfied: docstring-parser in /usr/local/lib/python3.11/dist-packages (from agno) (0.16)\n",
            "Requirement already satisfied: gitpython in /usr/local/lib/python3.11/dist-packages (from agno) (3.1.44)\n",
            "Requirement already satisfied: httpx in /usr/local/lib/python3.11/dist-packages (from agno) (0.28.1)\n",
            "Requirement already satisfied: pydantic-settings in /usr/local/lib/python3.11/dist-packages (from agno) (2.8.1)\n",
            "Requirement already satisfied: pydantic in /usr/local/lib/python3.11/dist-packages (from agno) (2.10.6)\n",
            "Requirement already satisfied: python-dotenv in /usr/local/lib/python3.11/dist-packages (from agno) (1.0.1)\n",
            "Requirement already satisfied: python-multipart in /usr/local/lib/python3.11/dist-packages (from agno) (0.0.20)\n",
            "Requirement already satisfied: pyyaml in /usr/local/lib/python3.11/dist-packages (from agno) (6.0.2)\n",
            "Requirement already satisfied: rich in /usr/local/lib/python3.11/dist-packages (from agno) (13.9.4)\n",
            "Requirement already satisfied: tomli in /usr/local/lib/python3.11/dist-packages (from agno) (2.2.1)\n",
            "Requirement already satisfied: typer in /usr/local/lib/python3.11/dist-packages (from agno) (0.15.2)\n",
            "Requirement already satisfied: typing-extensions in /usr/local/lib/python3.11/dist-packages (from agno) (4.12.2)\n",
            "Requirement already satisfied: gitdb<5,>=4.0.1 in /usr/local/lib/python3.11/dist-packages (from gitpython->agno) (4.0.12)\n",
            "Requirement already satisfied: anyio in /usr/local/lib/python3.11/dist-packages (from httpx->agno) (3.7.1)\n",
            "Requirement already satisfied: certifi in /usr/local/lib/python3.11/dist-packages (from httpx->agno) (2025.1.31)\n",
            "Requirement already satisfied: httpcore==1.* in /usr/local/lib/python3.11/dist-packages (from httpx->agno) (1.0.7)\n",
            "Requirement already satisfied: idna in /usr/local/lib/python3.11/dist-packages (from httpx->agno) (3.10)\n",
            "Requirement already satisfied: h11<0.15,>=0.13 in /usr/local/lib/python3.11/dist-packages (from httpcore==1.*->httpx->agno) (0.14.0)\n",
            "Requirement already satisfied: annotated-types>=0.6.0 in /usr/local/lib/python3.11/dist-packages (from pydantic->agno) (0.7.0)\n",
            "Requirement already satisfied: pydantic-core==2.27.2 in /usr/local/lib/python3.11/dist-packages (from pydantic->agno) (2.27.2)\n",
            "Requirement already satisfied: markdown-it-py>=2.2.0 in /usr/local/lib/python3.11/dist-packages (from rich->agno) (3.0.0)\n",
            "Requirement already satisfied: pygments<3.0.0,>=2.13.0 in /usr/local/lib/python3.11/dist-packages (from rich->agno) (2.18.0)\n",
            "Requirement already satisfied: click>=8.0.0 in /usr/local/lib/python3.11/dist-packages (from typer->agno) (8.1.8)\n",
            "Requirement already satisfied: shellingham>=1.3.0 in /usr/local/lib/python3.11/dist-packages (from typer->agno) (1.5.4)\n",
            "Requirement already satisfied: smmap<6,>=3.0.1 in /usr/local/lib/python3.11/dist-packages (from gitdb<5,>=4.0.1->gitpython->agno) (5.0.2)\n",
            "Requirement already satisfied: mdurl~=0.1 in /usr/local/lib/python3.11/dist-packages (from markdown-it-py>=2.2.0->rich->agno) (0.1.2)\n",
            "Requirement already satisfied: sniffio>=1.1 in /usr/local/lib/python3.11/dist-packages (from anyio->httpx->agno) (1.3.1)\n"
          ]
        }
      ]
    },
    {
      "cell_type": "code",
      "source": [
        "!pip install -U firecrawl-py"
      ],
      "metadata": {
        "colab": {
          "base_uri": "https://localhost:8080/"
        },
        "id": "oFbxKrG26-lv",
        "outputId": "41fc9cf1-784f-4eea-c64b-2e0a227d489c"
      },
      "execution_count": 10,
      "outputs": [
        {
          "output_type": "stream",
          "name": "stdout",
          "text": [
            "Collecting firecrawl-py\n",
            "  Downloading firecrawl_py-1.13.5-py3-none-any.whl.metadata (10 kB)\n",
            "Requirement already satisfied: requests in /usr/local/lib/python3.11/dist-packages (from firecrawl-py) (2.32.3)\n",
            "Requirement already satisfied: python-dotenv in /usr/local/lib/python3.11/dist-packages (from firecrawl-py) (1.0.1)\n",
            "Requirement already satisfied: websockets in /usr/local/lib/python3.11/dist-packages (from firecrawl-py) (14.2)\n",
            "Requirement already satisfied: nest-asyncio in /usr/local/lib/python3.11/dist-packages (from firecrawl-py) (1.6.0)\n",
            "Requirement already satisfied: pydantic>=2.10.3 in /usr/local/lib/python3.11/dist-packages (from firecrawl-py) (2.10.6)\n",
            "Requirement already satisfied: annotated-types>=0.6.0 in /usr/local/lib/python3.11/dist-packages (from pydantic>=2.10.3->firecrawl-py) (0.7.0)\n",
            "Requirement already satisfied: pydantic-core==2.27.2 in /usr/local/lib/python3.11/dist-packages (from pydantic>=2.10.3->firecrawl-py) (2.27.2)\n",
            "Requirement already satisfied: typing-extensions>=4.12.2 in /usr/local/lib/python3.11/dist-packages (from pydantic>=2.10.3->firecrawl-py) (4.12.2)\n",
            "Requirement already satisfied: charset-normalizer<4,>=2 in /usr/local/lib/python3.11/dist-packages (from requests->firecrawl-py) (3.4.1)\n",
            "Requirement already satisfied: idna<4,>=2.5 in /usr/local/lib/python3.11/dist-packages (from requests->firecrawl-py) (3.10)\n",
            "Requirement already satisfied: urllib3<3,>=1.21.1 in /usr/local/lib/python3.11/dist-packages (from requests->firecrawl-py) (2.3.0)\n",
            "Requirement already satisfied: certifi>=2017.4.17 in /usr/local/lib/python3.11/dist-packages (from requests->firecrawl-py) (2025.1.31)\n",
            "Downloading firecrawl_py-1.13.5-py3-none-any.whl (19 kB)\n",
            "Installing collected packages: firecrawl-py\n",
            "Successfully installed firecrawl-py-1.13.5\n"
          ]
        }
      ]
    },
    {
      "cell_type": "code",
      "source": [
        "from agno.agent import Agent\n",
        "from agno.tools.firecrawl import FirecrawlTools\n",
        "os.environ[\"FIRECRAWL_API_KEY\"]=userdata.get(\"FIRECRAWL_API_KEY\")\n",
        "agent = Agent(tools=[FirecrawlTools(scrape=False, crawl=True)], show_tool_calls=True, markdown=True)\n",
        "agent.print_response(\"Summarize this https://finance.yahoo.com/\")"
      ],
      "metadata": {
        "colab": {
          "base_uri": "https://localhost:8080/",
          "height": 115,
          "referenced_widgets": [
            "602986d183154e8f923c7d7f25e8ef7a",
            "ea6314b270964cd083f9edef713c517d"
          ]
        },
        "id": "oSAQds9w7-8r",
        "outputId": "52ef4c71-51cf-4533-ff9b-3455774a127f"
      },
      "execution_count": 13,
      "outputs": [
        {
          "output_type": "display_data",
          "data": {
            "text/plain": [
              "Output()"
            ],
            "application/vnd.jupyter.widget-view+json": {
              "version_major": 2,
              "version_minor": 0,
              "model_id": "602986d183154e8f923c7d7f25e8ef7a"
            }
          },
          "metadata": {}
        },
        {
          "output_type": "display_data",
          "data": {
            "text/plain": [],
            "text/html": [
              "<pre style=\"white-space:pre;overflow-x:auto;line-height:normal;font-family:Menlo,'DejaVu Sans Mono',consolas,'Courier New',monospace\"></pre>\n"
            ]
          },
          "metadata": {}
        }
      ]
    },
    {
      "cell_type": "code",
      "source": [
        "agent = Agent(tools=[FirecrawlTools(scrape=True, crawl=True)], show_tool_calls=True, markdown=True)\n",
        "response=agent.run(\"Summarize this https://satsuite.collegeboard.org/sat/whats-on-the-test/structure\")"
      ],
      "metadata": {
        "id": "FIDgABtj8Bg1"
      },
      "execution_count": 14,
      "outputs": []
    },
    {
      "cell_type": "code",
      "source": [
        "response.content"
      ],
      "metadata": {
        "colab": {
          "base_uri": "https://localhost:8080/",
          "height": 123
        },
        "id": "4JCP53aN826Y",
        "outputId": "476ddb50-7478-4565-c5b7-6294a4a0f979"
      },
      "execution_count": 16,
      "outputs": [
        {
          "output_type": "execute_result",
          "data": {
            "text/plain": [
              "' - Running: crawl_website(url=https://satsuite.collegeboard.org/sat/whats-on-the-test/structure)\\n\\nThe SAT test consists of two main sections: Reading and Writing, and Math. Here’s a brief overview of how it is structured:\\n\\n- **Total Testing Time:** 2 hours and 14 minutes.\\n- **Sections:**\\n  - **Reading and Writing:** \\n    - Time: 64 minutes (two 32-minute modules).\\n    - Questions: 54 questions.\\n  - **Math:** \\n    - Time: 70 minutes (two 35-minute modules).\\n    - Questions: 44 questions.\\n  \\n- **Breaks and Modules:** \\n  - Each section is divided into 2 equal-length modules.\\n  - There is a 10-minute break between the Reading and Writing section and the Math section.\\n  - The difficulty of the second module is determined by the performance on the first module.\\n\\n- **Question Formats:** \\n  - Most questions are multiple-choice, but some Math questions require entering answers directly rather than selecting them.\\n\\nFor more detailed information, you can [view the structure details](https://satsuite.collegeboard.org/sat/whats-on-the-test/structure).'"
            ],
            "application/vnd.google.colaboratory.intrinsic+json": {
              "type": "string"
            }
          },
          "metadata": {},
          "execution_count": 16
        }
      ]
    },
    {
      "cell_type": "code",
      "source": [
        "from agno.agent import Agent\n",
        "from agno.tools.duckduckgo import DuckDuckGoTools\n",
        "from google.colab import userdata\n",
        "import os\n",
        "from agno.tools.firecrawl import FirecrawlTools\n",
        "os.environ[\"OPENAI_API_KEY\"]=userdata.get(\"OPENAI_API_KEY\")\n",
        "os.environ[\"FIRECRAWL_API_KEY\"]=userdata.get(\"FIRECRAWL_API_KEY\")\n",
        "websearch = Agent(name=\"Web Search Agent \",\n",
        "                  description=\"Agent that performs web search using DuckDuckGo API\",\n",
        "                  tools=[DuckDuckGoTools()],\n",
        "                  instructions=[\"Always include sources\"],\n",
        "                  show_tool_calls=True,\n",
        "                  markdown=True,\n",
        "                  )\n",
        "\n",
        "Crawl =Agent(name=\"Crawl Agent\",\n",
        "               tools=[FirecrawlTools(scrape=False, crawl=True)],\n",
        "               show_tool_calls=True,\n",
        "               description=\"You are an CrawlerIf there is a link crawl to that link and give its data.\",\n",
        "               markdown=True,\n",
        ")\n",
        "\n",
        "Multi_AI_Agent= Agent(\n",
        "    team=[websearch,Crawl],\n",
        "    markdown=True,\n",
        "    show_tool_calls=True,\n",
        "\n",
        ")"
      ],
      "metadata": {
        "id": "k88jDfX29B0i"
      },
      "execution_count": 17,
      "outputs": []
    },
    {
      "cell_type": "code",
      "source": [
        "agent_response = Multi_AI_Agent.run(message=\"Tell me about GMAT 2025 syllabus\")\n",
        "\n",
        "# Print the response\n",
        "# Assuming the response object is stored in `agent_response`\n",
        "response_content = agent_response.content  # Extracting the main content\n",
        "if response_content:\n",
        "    print(\"Cleaned Response:\", response_content.strip())\n",
        "else:\n",
        "    print(\"No direct content found in the response.\")"
      ],
      "metadata": {
        "colab": {
          "base_uri": "https://localhost:8080/"
        },
        "id": "JZDoNIax-Tkc",
        "outputId": "8451d3e6-003b-4d66-f378-c23cc68e196a"
      },
      "execution_count": 18,
      "outputs": [
        {
          "output_type": "stream",
          "name": "stdout",
          "text": [
            "Cleaned Response: - Running: transfer_task_to_web_search_agent(task_description=Find the latest information on the GMAT 2025 syllabus., expected_output=..., additional_information=...)\n",
            "\n",
            "The GMAT 2025 syllabus has undergone some changes under the GMAT Focus Edition. Here is a summary of the updated syllabus:\n",
            "\n",
            "1. **Overall Structure**:\n",
            "   - The exam now features three main sections: Verbal Reasoning, Quantitative Reasoning, and Data Insights.\n",
            "   - There are a total of 64 questions to be completed in 135 minutes, approximately 2 hours and 15 minutes.\n",
            "\n",
            "2. **Sections**:\n",
            "   - **Verbal Reasoning**: This section focuses on reading comprehension, critical reasoning, and sentence correction.\n",
            "   - **Quantitative Reasoning**: It assesses mathematical understanding and problem-solving using quantitative data.\n",
            "   - **Data Insights**: This is a newer section that evaluates the ability to interpret graphic data, analyze patterns, and synthesize information from multiple data sources.\n",
            "\n",
            "3. **Notable Changes**:\n",
            "   - The GMAT Focus Edition introduces a streamlined test-taking experience.\n",
            "   - New features include the ability to change three answers and increased review flexibility, promoting better strategic time management.\n",
            "\n",
            "For more detailed information, you can explore the following resources:\n",
            "- [Career Launcher's GMAT 2025 Syllabus](https://www.careerlauncher.com/gmat/exam-syllabus/)\n",
            "- [e-GMAT's Breakdown of the 2025 Syllabus](https://e-gmat.com/blogs/gmat-exam-syllabus/)\n",
            "- [Careers360's Overview of the GMAT Focus Edition Syllabus](https://studyabroad.careers360.com/articles/gmat-syllabus)\n",
            "- [Adda247's GMAT Syllabus Changes](https://www.adda247.com/school/gmat-syllabus/)\n",
            "\n",
            "These resources will provide comprehensive insights into the sections, study strategies, and sample questions needed for preparation.\n"
          ]
        }
      ]
    },
    {
      "cell_type": "code",
      "source": [
        "agent_response = websearch.run(message=\"Tell me about GMAT 2025 syllabus\")\n",
        "\n",
        "# Print the response\n",
        "# Assuming the response object is stored in `agent_response`\n",
        "response_content = agent_response.content  # Extracting the main content\n",
        "if response_content:a\n",
        "    print(\"Cleaned Response:\", response_content.strip())\n",
        "else:\n",
        "    print(\"No direct content found in the response.\")"
      ],
      "metadata": {
        "colab": {
          "base_uri": "https://localhost:8080/"
        },
        "id": "qh1nGXsn-fU0",
        "outputId": "d84bfc70-5594-4ce0-a7cc-d1a306c74d41"
      },
      "execution_count": 19,
      "outputs": [
        {
          "output_type": "stream",
          "name": "stdout",
          "text": [
            "Cleaned Response: - Running: duckduckgo_search(query=GMAT 2025 syllabus)\n",
            "\n",
            "The GMAT 2025 syllabus has been updated and features three main sections:\n",
            "\n",
            "1. **Verbal Reasoning**: This section focuses on critical reasoning and reading comprehension skills. It tests the ability to understand passages and evaluate arguments.\n",
            "\n",
            "2. **Quantitative Reasoning**: This part assesses the mathematical skills necessary to analyze data and draw conclusions. It tests problem-solving abilities using quantitative data.\n",
            "\n",
            "3. **Data Insights**: This is a newly introduced section in the GMAT Focus Edition. It evaluates a candidate's ability to analyze and interpret data from various sources like tables, text passages, graphics, etc.\n",
            "\n",
            "Each of these sections is designed to last 45 minutes, making the exam more concise and focused on assessing the required skills for the business environment. \n",
            "\n",
            "For more detailed information on the topics covered, you can refer to the following resources:\n",
            "\n",
            "- [Career Launcher GMAT Syllabus](https://www.careerlauncher.com/gmat/exam-syllabus/)\n",
            "- [E-GMAT GMAT Exam Syllabus](https://e-gmat.com/blogs/gmat-exam-syllabus/)\n",
            "- [Careers 360 GMAT Syllabus Details](https://studyabroad.careers360.com/articles/gmat-syllabus)\n",
            "- [College Batch GMAT Subject Wise Topics](https://www.collegebatch.com/exams/gmat-syllabus)\n",
            "- [Adda247 GMAT Focus Syllabus](https://www.adda247.com/school/gmat-syllabus/)\n"
          ]
        }
      ]
    },
    {
      "cell_type": "code",
      "source": [],
      "metadata": {
        "id": "IyP0zdHo-x-d"
      },
      "execution_count": 20,
      "outputs": []
    },
    {
      "cell_type": "code",
      "source": [
        "Crawl.run(message=\"tell me content of this site https://www.careerlauncher.com/gmat/exam-syllabus/\")\n"
      ],
      "metadata": {
        "colab": {
          "base_uri": "https://localhost:8080/"
        },
        "id": "q1MaFnpT_Kae",
        "outputId": "a773d307-9ca8-4fa4-f638-fc971a6f843e"
      },
      "execution_count": 21,
      "outputs": [
        {
          "output_type": "execute_result",
          "data": {
            "text/plain": [
              "RunResponse(content=\" - Running: crawl_website(url=https://www.careerlauncher.com/gmat/exam-syllabus/)\\n\\nHere is an overview of the content from the GMAT Exam Syllabus page on the Career Launcher website:\\n\\n### GMAT Exam Overview\\nThe GMAT Focus Edition introduces a streamlined test with three main sections:\\n1. **Verbal Reasoning**\\n2. **Quantitative Reasoning**\\n3. **Data Insights**\\n\\nThese sections emphasize critical reasoning, data literacy, and problem-solving skills, preparing candidates for data-driven business environments.\\n\\n#### Key Takeaways:\\n- **Sections:** Verbal, Quantitative, and Data Insights.\\n- **Focus:** Critical reasoning, reading comprehension, and problem-solving.\\n- **Changes:** No essay component, no sentence correction, and introduction of data insights.\\n\\n### Exam Structure\\nEach of the three sections in the GMAT Focus Edition lasts for 45 minutes, totaling 2 hours and 15 minutes:\\n- **Verbal Reasoning:** 23 questions focusing on reading comprehension and critical reasoning.\\n- **Quantitative Reasoning:** 21 problem-solving questions without geometry.\\n- **Data Insights:** 20 questions, including data sufficiency and graphical analysis, with calculator usage allowed.\\n\\n### Detailed Syllabus\\nFor each section, the syllabus includes various question types testing different skills:\\n\\n#### Verbal Reasoning\\n- **Reading Comprehension**\\n- **Critical Reasoning**\\n\\n#### Quantitative Reasoning\\n- **Arithmetic & Algebra**\\n- **Logical & Analytical Thinking**\\n\\n#### Data Insights\\n- **Data Literacy & Interpretation**\\n- **Quantitative Problem Solving**\\n\\n### Preparation Resources\\nVarious resources and strategies are suggested, including:\\n- **Study Plans**\\n- **Mock Tests & Practice Questions**\\n- **Coaching Resources**\\n\\nAdditionally, the page provides preparation strategies and suggested reading related to each section to boost performance.\\n\\nFor more detailed information, you can visit [Career Launcher's GMAT Syllabus page](https://www.careerlauncher.com/gmat/exam-syllabus/).\", content_type='str', thinking=None, event='RunResponse', messages=[Message(role='system', content='You are an CrawlerIf there is a link crawl to that link and give its data.\\n\\n<additional_information>\\n- Use markdown to format your answers.\\n</additional_information>', name=None, tool_call_id=None, tool_calls=None, audio=None, images=None, videos=None, audio_output=None, thinking=None, redacted_thinking=None, provider_data=None, reasoning_content=None, tool_name=None, tool_args=None, tool_call_error=None, stop_after_tool_call=False, add_to_agent_memory=True, from_history=False, metrics=MessageMetrics(input_tokens=0, output_tokens=0, total_tokens=0, prompt_tokens=0, completion_tokens=0, prompt_tokens_details=None, completion_tokens_details=None, additional_metrics=None, time=None, time_to_first_token=None, timer=None), references=None, created_at=1741592285), Message(role='user', content='tell me content of this site https://www.careerlauncher.com/gmat/exam-syllabus/', name=None, tool_call_id=None, tool_calls=None, audio=None, images=None, videos=None, audio_output=None, thinking=None, redacted_thinking=None, provider_data=None, reasoning_content=None, tool_name=None, tool_args=None, tool_call_error=None, stop_after_tool_call=False, add_to_agent_memory=True, from_history=False, metrics=MessageMetrics(input_tokens=0, output_tokens=0, total_tokens=0, prompt_tokens=0, completion_tokens=0, prompt_tokens_details=None, completion_tokens_details=None, additional_metrics=None, time=None, time_to_first_token=None, timer=None), references=None, created_at=1741592285), Message(role='assistant', content=None, name=None, tool_call_id=None, tool_calls=[{'id': 'call_gpUJH10hOsuPYhuW8WlDGfOd', 'function': {'arguments': '{\"url\":\"https://www.careerlauncher.com/gmat/exam-syllabus/\"}', 'name': 'crawl_website'}, 'type': 'function'}], audio=None, images=None, videos=None, audio_output=None, thinking=None, redacted_thinking=None, provider_data=None, reasoning_content=None, tool_name=None, tool_args=None, tool_call_error=None, stop_after_tool_call=False, add_to_agent_memory=True, from_history=False, metrics=MessageMetrics(input_tokens=158, output_tokens=30, total_tokens=188, prompt_tokens=158, completion_tokens=30, prompt_tokens_details={'audio_tokens': 0, 'cached_tokens': 0}, completion_tokens_details={'accepted_prediction_tokens': 0, 'audio_tokens': 0, 'reasoning_tokens': 0, 'rejected_prediction_tokens': 0}, additional_metrics=None, time=1.0259017610001138, time_to_first_token=None, timer=<agno.utils.timer.Timer object at 0x78e2bd3fb590>), references=None, created_at=1741592285), Message(role='tool', content='{\"success\": true, \"status\": \"completed\", \"completed\": 1, \"total\": 1, \"creditsUsed\": 1, \"expiresAt\": \"2025-03-11T07:38:07.000Z\", \"data\": [{\"markdown\": \"HomeToggle navigation\\\\n\\\\n- [GMAT Exam](https://www.careerlauncher.com/gmat/exam-syllabus/#)  - [About GMAT](http://www.careerlauncher.com/gmat/exam/)\\\\n  - [GMAT Exam Pattern](https://www.careerlauncher.com/gmat/exam-pattern/)\\\\n  - [GMAT Syllabus](https://www.careerlauncher.com/gmat/exam-syllabus/)\\\\n  - [GMAT Exam Date](https://www.careerlauncher.com/gmat/exam-date/)\\\\n  - [GMAT Eligibilty Criteria](https://www.careerlauncher.com/gmat/eligibility-criteria/)\\\\n  - [GMAT Exam Centres](https://www.careerlauncher.com/gmat/exam-centers/)\\\\n  - [GMAT Cut-off](https://www.careerlauncher.com/gmat/cutoff-indian-colleges/)\\\\n  - [GMAT Preparation](https://www.careerlauncher.com/gmat/preparation-strategy/)\\\\n  - [GMAT Exam Score](https://www.careerlauncher.com/gmat/gmat-score/)\\\\n  - [GMAT Exam Fees](https://www.careerlauncher.com/gmat/exam-fees/)\\\\n  - [GMAT Exam Registration](https://www.careerlauncher.com/gmat/exam-registration-fees/)\\\\n  - [Free GMAT Study Plan](https://www.careerlauncher.com/gmat/personalized-study-plan/)\\\\n- [GMAT Coaching](https://www.careerlauncher.com/gmat/exam-syllabus/#)  - [GMAT Online Classes](https://www.careerlauncher.com/gmat/online-coaching/)\\\\n  - [GMAT Classroom](https://www.careerlauncher.com/gmat/classroom/)\\\\n  - [GMAT Self-Paced Comprehensive\\\\\\\\\\\\\\\\\\\\n     Program](https://www.careerlauncher.com/gmat/self-paced-comprehensive-program/)\\\\n  - [GMAT Private Tutoring](https://www.careerlauncher.com/gmat/online-private-tutoring/)\\\\n- [GMAT Articles](https://www.careerlauncher.com/gmat/exam-syllabus/#)  - [MIM vs MBA](https://www.careerlauncher.com/gmat/articles/mim-vs-mba/)\\\\n  - [GMAT vs CAT](https://www.careerlauncher.com/gmat/gmat-vs-cat/)\\\\n  - [GRE vs GMAT](https://www.careerlauncher.com/gmat/gre-vs-gmat/)\\\\n  - [Top 10 MIM programs in Europe](https://www.careerlauncher.com/gmat/top-10-mim-europe/)\\\\n  - [Top 10 MBA colleges in India](https://www.careerlauncher.com/gmat/top-10-india-gmat.html)\\\\n  - [Top 20 MBA colleges in Abroad](https://www.careerlauncher.com/gmat/top-20-mba-us/)\\\\n  - [How to Prepare for GMAT](https://www.careerlauncher.com/gmat/how-to-prepare-for-gmat/)\\\\n  - [How to Prepare for GMAT\\\\\\\\\\\\\\\\\\\\n     while Working](https://www.careerlauncher.com/gmat/how-to-prepare-for-gmat-working-professional/)\\\\n  - [Reading Comprehension Strategy](https://www.careerlauncher.com/gmat/reading-comprehension-strategy/)\\\\n  - [What is a good GMAT Score?](https://www.careerlauncher.com/gmat/gmat-score/)\\\\n  - [When to take gmat exam](https://www.careerlauncher.com/gmat/when-to-take-gmat-exam/)\\\\n  - [How to Build your MBA Resume](https://www.careerlauncher.com/gmat/how-to-build-your-mba-resume/)\\\\n  - [More articles](https://www.careerlauncher.com/gmat/articles/)\\\\n- [GMAT\\\\\\\\\\\\\\\\\\\\nDiagnostic Test](https://www.careerlauncher.com/gmat/diagnostic-test/)\\\\n- [GMAT Focus Edition](https://www.careerlauncher.com/gmat/exam-syllabus/#)  - [GMAT Focus Edition Score](https://www.careerlauncher.com/gmat/gmat-focus-edition-score/)\\\\n  - [All About GMAT Focus Edition](https://www.careerlauncher.com/gmat/everything-about-gmat-focus-edition/)\\\\n  - [Tips for GMAT Data Insights](https://www.careerlauncher.com/gmat/tips-for-gmat-data-insights/)\\\\n  - [New GMAT Format](https://www.careerlauncher.com/gmat/focus-edition-exam-format/)\\\\n\\\\n# GMAT Exam Syllabus 2025\\\\n\\\\nThe GMAT Syllabus for the Focus Edition introduces a simplified test with three sections: Verbal Reasoning, Quantitative Reasoning, and Data Insights. This version, effective from November 2023, features a concise format, with each section lasting 45 minutes. In general, it puts emphasis on critical reasoning, data analysis, and problem-solving abilities, aligning with the skills needed for today\\'s data-driven business world. Students taking the test must adapt to these changes to do well in the exam and prepare for the demands of graduate management programs.\\\\n\\\\n### Key takeaways of the GMAT Syllabus include:\\\\n\\\\n- 3 sections: Verbal Reasoning, Quantitative Reasoning, and Data Insights.\\\\n- Focus on critical reasoning and reading comprehension in Verbal Reasoning; problem-solving in Quantitative Reasoning; and data literacy in the new Data Insights section.\\\\n- The absence of an essay component (Analytical Writing section)\\\\n- The removal of sentence correction.\\\\n- The introduction of data insights.\\\\n\\\\n**On this page, we\\'re covering:**\\\\n\\\\n- [GMAT Exam Sections 2025](https://www.careerlauncher.com/gmat/exam-syllabus/#a)\\\\n- [GMAT Exam Pattern 2025](https://www.careerlauncher.com/gmat/exam-syllabus/#b)\\\\n- [GMAT Verbal Syllabus](https://www.careerlauncher.com/gmat/exam-syllabus/#c)\\\\n- [GMAT Quant Syllabus](https://www.careerlauncher.com/gmat/exam-syllabus/#d)\\\\n- [GMAT Data Insights Syllabus](https://www.careerlauncher.com/gmat/exam-syllabus/#e)\\\\n- [Does Understanding the GMAT Syllabus Boost Exam Preparation?](https://www.careerlauncher.com/gmat/exam-syllabus/#f)\\\\n- [Start Your GMAT Journey with Career Launcher](https://www.careerlauncher.com/gmat/exam-syllabus/#g)\\\\n- [What After the GMAT Exam?](https://www.careerlauncher.com/gmat/exam-syllabus/#h)\\\\n- [FAQs](https://www.careerlauncher.com/gmat/exam-syllabus/#FAQs)\\\\n\\\\n## GMAT Exam Sections 2025 with Required Test Abilities\\\\n\\\\nEach section of the GMAT exam is designed to assess specific skills crucial for success in business management programs. The Verbal Reasoning part tests how well you can read, comprehend, and critically evaluate written material. The Quantitative Reasoning part assesses if you can interpret quantitative (number) data and solve mathematical problems efficiently. Unlike previous versions, the Focus Edition excludes geometry in its Quant section. A new addition to the [GMAT](https://www.careerlauncher.com/gmat/exam/), the Data Insights section tests a candidate\\'s ability to analyze and interpret data from various sources. The inclusion of this section reflects the growing importance of data literacy in the modern business world.\\\\n\\\\n![GMAT Syllabus](https://www.careerlauncher.com/gmat/exam-syllabus/img/GMATSyllabusFocusEdition.jpg)\\\\n\\\\n### GMAT Verbal Reasoning Section\\\\n\\\\nThe Verbal Reasoning section (time allotted: 45 minutes) assesses one\\'s ability to read, understand, and analyze a given text. Some specific skills it evaluates are reading comprehension, vocabulary, critical reasoning, and logical deduction. Candidates are required to answer a total of 23 questions on reading comprehension and critical reasoning.\\\\n\\\\n- Reading comprehension questions are composed of written passages of varying lengths and complexity. The aim is to evaluate one\\'s ability to identify main ideas, infer meaning, understand logical connections between important points, and deduce conclusions.\\\\n- Critical reasoning questions typically present a short argument or a logical statement, followed by questions that require test takers to analyze the argument\\'s structure, identify its strengths and weaknesses, and draw logical conclusions. These questions also assess one\\'s ability to devise a plan of action to address a specific challenge or issue.\\\\n\\\\n### Speak to our GMAT\\\\u2122 Expert\\\\n\\\\nSend OTP\\\\n\\\\nChange Number\\\\n\\\\nWe have sent the OTP to 9999999999\\\\n\\\\nTarget ProgramMBAMIMSpecialized Masters (MSBA, MFIN, etc.)\\\\n\\\\nExperience LevelPre-Final/Final Yr Student0-2 Yrs3-5 Yrs5+ Yrs\\\\n\\\\nSubmit\\\\n\\\\n* * *\\\\n\\\\n- ![](https://www.careerlauncher.com/gmat/exam-syllabus/img/how-to-send-new-gmat-scores-to-business-schools-1024x756.jpg)\\\\n[How to Send New GMAT Scores to Business Schools?](https://study-abroad.careerlauncher.com/gmat/how-to-send-new-gmat-scores-to-business-schools/)\\\\n- ![](https://www.careerlauncher.com/gmat/exam-syllabus/img/A-Students-Guide-to-Life-in-the-US-Insights-for-Indian-Students.jpg)\\\\n[MBA Success Beyond GMAT: Build Compelling Application](https://study-abroad.careerlauncher.com/gmat/mba-success-beyond-gmat/)\\\\n- ![](https://www.careerlauncher.com/gmat/exam-syllabus/img/GMAT-Demystified-Preparing-for-Business-Schools-Abroad.jpg)\\\\n[GMAT Demystified: Preparing for Business Schools Abroad](https://study-abroad.careerlauncher.com/gmat/gmat-preparation-for-business-schools-abroad/)\\\\n- ![](https://www.careerlauncher.com/gmat/exam-syllabus/img/How-to-Solve-Data-Sufficiency-Questions-1024x732.jpg)\\\\n[How to Solve Data Sufficiency Questions?](https://study-abroad.careerlauncher.com/gmat/how-to-solve-data-sufficiency-questions/)\\\\n- ![](https://www.careerlauncher.com/gmat/exam-syllabus/img/workman-wearing-hard-hat-working-1.jpg)\\\\n[Global MBA\\\\\\\\\\\\\\\\\\\\nRankings](https://study-abroad.careerlauncher.com/gmat/global-mba-rankings/)\\\\n\\\\n### GMAT Quantitative Reasoning Section\\\\n\\\\nThe Quantitative Reasoning section (time allotted: 45 minutes) tests basic algebra and arithmetic skills through 21 problem-solving questions. To succeed in this section, candidates need logical thinking and quick problem-solving, not just math. The use of calculators is not permitted in this section.\\\\n\\\\n### GMAT Data Insights Section\\\\n\\\\nThe Data Insights section, (time allotted: 45 minutes), evaluates a candidate\\'s ability to analyze and interpret data in real-world business contexts. It also assesses proficiency in digital technologies and literacy. Comprising 20 questions, this section includes data sufficiency, multi-source reasoning, table analysis, graphics interpretation, and two-part analysis. Skills in math, data analysis, and verbal reasoning may be required. This section permits the use of an on-screen calculator.\\\\n\\\\n* * *\\\\n\\\\n## GMAT Exam Pattern 2025\\\\n\\\\nThe GMAT exam takes approximately 2 hours and 15 minutes. It comprises 3 sections: Quantitative Reasoning, Verbal Reasoning, and Data Insights. This version has 64 questions.\\\\n\\\\n**Here is an overview of the GMAT Focus Edition sections:**\\\\n\\\\n|     |     |     |     |     |     |\\\\n| --- | --- | --- | --- | --- | --- |\\\\n| Category | Duration | Number of Questions | Type of Content | Format | Score Range |\\\\n| Quantitative Reasoning | 45 minutes | 21 problem-solving | Arithmetic; Algebra | Multiple Choice | 60-90 |\\\\n| Verbal Reasoning | 45 minutes | 23 | Critical Reasoning; Reading Comprehension | Multiple Choice | 60-90 |\\\\n| Data Insights | 45 minutes | 20 | Multi-Source Reasoning; Table Analysis; Graphics Interpretation; Two-Part Analysis; Data Sufficiency | Like Integrated Reasoning | 60-90 |\\\\n\\\\nThe total score you get on the [GMAT Focus Edition](https://www.careerlauncher.com/gmat/everything-about-gmat-focus-edition/) is determined by your performance on all three sections of the test. The maximum score that can be attained on the [GMAT exam](https://www.careerlauncher.com/gmat/exam/) is 805.\\\\n\\\\n##### Video Explaining GMAT Exam Pattern, Scoring System and Exam Order\\\\n\\\\nGMAT Exam Pattern 2025 - YouTube\\\\n\\\\nCareer Launcher\\\\n\\\\n125K subscribers\\\\n\\\\n[GMAT Exam Pattern 2025](https://www.youtube.com/watch?v=nXt9OEpTZ9g)\\\\n\\\\nCareer Launcher\\\\n\\\\nSearch\\\\n\\\\nInfo\\\\n\\\\nShopping\\\\n\\\\nTap to unmute\\\\n\\\\nIf playback doesn\\'t begin shortly, try restarting your device.\\\\n\\\\nYou\\'re signed out\\\\n\\\\nVideos you watch may be added to the TV\\'s watch history and influence TV recommendations. To avoid this, cancel and sign in to YouTube on your computer.\\\\n\\\\nCancelConfirm\\\\n\\\\nShare\\\\n\\\\nInclude playlist\\\\n\\\\nAn error occurred while retrieving sharing information. Please try again later.\\\\n\\\\nWatch later\\\\n\\\\nShare\\\\n\\\\nCopy link\\\\n\\\\nWatch on\\\\n\\\\n0:00\\\\n\\\\n0:00 / 4:28\\\\u2022Live\\\\n\\\\n\\\\u2022\\\\n\\\\n[Watch on YouTube](https://www.youtube.com/watch?v=nXt9OEpTZ9g \\\\\"Watch on YouTube\\\\\")\\\\n\\\\nTo learn everything about new GMAT modifications, read our dedicated article on the [new GMAT format](https://www.careerlauncher.com/gmat/focus-edition-exam-format/)\\\\n\\\\n* * *\\\\n\\\\n## GMAT Verbal Syllabus\\\\n\\\\nThe GMAT Verbal Reasoning section assesses your skills in:\\\\n\\\\n- Reading written material,\\\\n- Comprehending written material, and\\\\n- Evaluating arguments.\\\\n\\\\nThere are a total of 23 questions in this section and you get 45 minutes to answer the same. Types of questions in this section are: Reading Comprehension and Critical Reasoning.\\\\n\\\\n### GMAT Reading Comprehension Syllabus\\\\n\\\\nThis section measures your ability to comprehend words and statements. Mainly, the skills tested include:\\\\n\\\\n- Comprehending logical structure\\\\n- Recognizing supporting idea\\\\n- Understanding application\\\\n- Identifying main idea\\\\n- Drawing inferences\\\\n- Analysing style\\\\n\\\\n### Crucial Components of Passage in GMAT Reading Comprehension\\\\n\\\\nGMAT Reading Comprehension passages, typically around 350 words, assess your ability to interpret, infer, and identify logical relationships. While engaging with the passage, it is important to avoid straying from the given content. Ensure you stay focused on the passage\\'s topic and refrain from incorporating your personal ideas. Bringing external worldly knowledge into the interpretation may lead to divergence from the actual passage content.\\\\n\\\\n### Key components to consider:\\\\n\\\\n- Topic: What is the main subject of the passage?\\\\n- Scope: Which specific aspect of the topic does the passage concentrate on?\\\\n- Purpose: Why did the author write the passage?\\\\n- What notes would you jot down on your note board?\\\\n\\\\n### Types of Questions for GMAT Reading Comprehension\\\\n\\\\nLet\\'s break down GMAT Reading Comprehension question types for a clearer understanding:\\\\n\\\\n|     |     |\\\\n| --- | --- |\\\\n| Question Types | Description/Key Characteristics |\\\\n| Main Idea Questions | - One of the most common types of questions in the RC section.<br>- You\\\\u2019ll find at least one main idea question in all the passages.<br>- Identify the answer choice that matches the scope of the entire passage.<br>- Think of the big picture and not get distracted by the individual elements.<br>- Put all the pieces together and try to figure out what is the purpose of the passage. |\\\\n| Supporting Idea / Substantial Idea Questions | - Known as detail questions, they zoom in on single sentences or parts in the passage.<br>- Trickier than main idea questions.<br>- Require a thorough reading; may ask about facts or specific arguments that are explicitly cited in the passage.<br>- To answer, understanding the main idea and how details support it is crucial. |\\\\n| Inference / Assumption Questions | - More advanced than the two mentioned above.<br>- Require more critical thinking abilities.<br>- Include arguments and ideas that are implied by the author but not mentioned explicitly in the passage.<br>- To answer, think logically and make calculated assumptions about the author\\\\u2019s intentions.<br>- Read between the lines to comprehend implied, not explicitly stated, meanings. |\\\\n| Out of Framework / Out of Context | - Not related to the passage directly.<br>- These questions ask you to absorb the information present in the passage and apply it in an out of context situation.<br>- May ask you about the author\\\\u2019s views regarding a matter that is completely unrelated to the passage.<br>- Take the similar approach as with the inference type question.<br>- Primarily test your understanding of the main idea of the passage and your ability to apply it elsewhere; so take a much farther logical leap than before while answering. |\\\\n| Coherent Logical Structure | - Talk about the overall structure of the passage.<br>- Asks what the author is accomplishing by writing a passage in a particular way.<br>- For example, the question might have the following wording, \\\\u201cDoes the passage refute an idea?\\\\u201d, or \\\\u201cIs the author contrasting two ideas?\\\\u201d.<br>- Tests your ability to understand the structural flow of the passage.<br>- Sometimes, there can also be a question that asks for a suitable title for the passage. |\\\\n| Application Questions | - Applying passage information to new situations.<br>- Evaluate the passage structure, understanding specific elements\\' roles.<br>- May involve identifying why the author includes certain elements. |\\\\n| Style and Tone Questions | - Concentrate on determining the perspective or tone of mentioned individuals.<br>- Often inquire about agreement, disagreement, attitude, or beliefs of someone in the passage.<br>- You may be asked to identify the ideas in the passage and the tone used by the passage to express those ideas (generally, using a single word or a phrase. For example, critical, enthusiastic, optimistic, objective, etc. are the frequent choices). |\\\\n\\\\n### GMAT Critical Reasoning Syllabus\\\\n\\\\nIn this section, a candidate has to perform an analysis, based on the given argument and mark the right answer. You will be required to extract the relevant data that would either back or oppose the given argument and select the best possible option.\\\\n\\\\n### Types of Questions in GMAT Critical Reasoning Section\\\\n\\\\nThe Critical Reasoning section of the GMAT Focus Edition is designed to assess a candidate\\'s ability to evaluate arguments and develop logical reasoning skills. This section typically features the following types of questions:\\\\n\\\\n- Strengthen the Argument: These questions ask test-takers to identify new information that would make the argument more convincing. Candidates need to grasp the main point of the argument and find proof that supports it.\\\\n- Weaken the Argument: In these questions, the task is to find information that undermines the argument\\'s validity. This means identifying assumptions and showing possible flaws or conflicts in the logic.\\\\n- Identify Assumptions: These questions focus on uncovering unstated ideas that are critical to the argument\\'s conclusion. Spotting these assumptions is vital to understand the basis of the argument.\\\\n- Evaluate the Argument: Test-takers must determine which piece of information would be most useful to check how strong the argument is. This involves critical thinking to identify what evidence would impact the argument\\'s validity.\\\\n- Resolve a Paradox: These questions show statements that seem to clash. You have to find an answer that makes sense of the discrepancy using logic.\\\\n- Infer a Conclusion: Candidates must draw a logical conclusion based on the information provided, demonstrating their ability to put information together and derive logical outcomes.\\\\n\\\\nThese question types collectively test a candidate\\'s ability to construct, critique, and analyze arguments in the Critical Reasoning section of the GMAT exam.\\\\n\\\\n* * *\\\\n\\\\n## GMAT Quant Syllabus\\\\n\\\\nThe Quantitative Reasoning section in the focus edition contains 21 Problem-Solving questions. This section:\\\\n\\\\n- evaluates your basic knowledge in algebra and arithmetic.\\\\n- demands logical and analytical thinking.\\\\n- does not permit the use of calculators.\\\\n\\\\nKey requirement to excel in this section: Arithmetic and elementary algebra.\\\\n\\\\nYou get 45 minutes to solve the Quant section.\\\\n\\\\n### Types of Questions in GMAT Quant Section\\\\n\\\\nThe Quantitative Reasoning section aims to test a candidate\\'s problem-solving skills using basic math concepts. This section has problem-solving questions, divided into two main categories:\\\\n\\\\n### Algebraic Questions\\\\n\\\\nThese questions require understanding and applying various algebraic concepts, including:\\\\n\\\\n- Inequalities: Solving and interpreting inequalities.\\\\n- Functions: Understanding and manipulating functions.\\\\n- Quadratic Equations: Solving quadratic equations and interpreting their solutions.\\\\n- Linear Equations: Working with linear equations and systems of equations.\\\\n- Word Problems: Translating real-world situations into mathematical expressions and solving them.\\\\n- Absolute Values: Solving equations and inequalities involving absolute values.\\\\n- Sequences: Analyzing arithmetic and geometric sequences.\\\\n- Statistics: Understanding basic statistical measures and their applications.\\\\n\\\\n### Arithmetic Questions\\\\n\\\\nThese questions focus on fundamental arithmetic concepts, such as:\\\\n\\\\n- Ratios & Percentages: Calculating and interpreting ratios, proportions, and percentages.\\\\n- Number Systems: Understanding properties of integers, prime numbers, and other number types.\\\\n- Fractions & Decimal Systems: Operations involving fractions and decimals.\\\\n- Operations: Basic arithmetic operations and their properties.\\\\n- Root Numbers & Power Systems: Solving problems involving roots and exponents.\\\\n\\\\n**Note:** Data Sufficiency questions were previously a part of the Quantitative section. Now, they have been moved to the new Data Insights section. This change allows the Quantitative section to focus more on direct problem-solving skills while the Data Insights section evaluates data literacy and analytical skills.\\\\n\\\\n* * *\\\\n\\\\n## GMAT Data Insights Syllabus\\\\n\\\\nThe GMAT Data Insights section evaluates how well you can analyze data to apply it to real-world business scenarios. It also assesses your digital and data literacy. Below is a quick overview:\\\\n\\\\n|     |     |\\\\n| --- | --- |\\\\n| Total Number of Questions | 20 |\\\\n| Question Types | - Data Sufficiency<br>- Multi-Source Reasoning<br>- Table Anlaysis<br>- Graphics Interpretation<br>- Two-part Analysis |\\\\n| Question formats | Graphics, tables, text passages, numeric information. |\\\\n| Skills required | Math, data analysis, verbal reasoning |\\\\n| Calculator Permitted | Yes (on-screen calculator is allowed) |\\\\n| Score Range | 60-90 |\\\\n| Allotted Time | 45 minutes |\\\\n\\\\n### Types of Questions in GMAT Data Insights Section\\\\n\\\\nIn the GMAT Data Insights section, a mix of questions will assess your analytical abilities. These questions test your proficiency in interpreting different types of information and making informed decisions. Let us break down the key question types:\\\\n\\\\n##### **1\\\\\\\\. Data Sufficiency (4-8 Questions)**\\\\n\\\\n- Evaluates the ability to dissect and analyze quantitative problems.\\\\n- Assesses the capability for identifying data relevance.\\\\n- Determines skill in identifying the point where there is sufficient data to solve the problem.\\\\n\\\\n##### **2\\\\\\\\. Multi-Source Reasoning (2-4 Questions)**\\\\n\\\\n- Measures one\\\\u2019s aptitude in examining various data sources, like text passages and tables.\\\\n- Checks the ability to analyze each data source to answer multiple questions.\\\\n- Assesses whether one can draw inferences and evaluate data relevance.\\\\n\\\\n##### **3\\\\\\\\. Table Analysis (2-4 Questions)**\\\\n\\\\n- Gauges the ability to sort and analyze tabular data.\\\\n- Determines proficiency in identifying relevant information or identifying specific conditions.\\\\n\\\\n##### **4\\\\\\\\. Graphics Interpretation (4-6 Questions)**\\\\n\\\\n- Assess the capability to interpret information presented in graphical formats.\\\\n- May require discerning relationships and making inferences based on graphical data.\\\\n\\\\n##### **5\\\\\\\\. Two-Part Analysis (2-4 Questions)**\\\\n\\\\n- Measures problem-solving skills in handling complex scenarios.\\\\n- Tests the ability to evaluate trade-offs, identify relationships between two entities, and solve simultaneous equations.\\\\n\\\\n* * *\\\\n\\\\n## What are the Subjects under GMAT?\\\\n\\\\nThe GMAT exam does not categorize questions into traditional \\\\\"subjects\\\\\" but rather organizes them into three key sections, each focusing on specific skills and topics relevant to business management. This means you should study based on these sections and what topics they cover. So for example, if you are preparing for the category of Verbal Reasoning, you will study topics under the Critical Reasoning and Reading Comprehension. Similarly for Quant, you will focus on arithmetic and algebra topics. To ace the GMAT, you need to get the hang of each section\\'s topics step by step. Using resources like study guides, online GMAT coaching, and practice tests will help you get better at everything and boost your overall scores.\\\\n\\\\n* * *\\\\n\\\\n## Section-Wise GMAT Exam Syllabus Preparation\\\\n\\\\n### How to Prepare for GMAT Reading Comprehension Section?\\\\n\\\\nYour GMAT Verbal Ability score significantly depends on Reading Comprehension. Here are foolproof strategies to structure and time your GMAT Reading Comprehension preparation:\\\\n\\\\n##### **1\\\\\\\\. Skim the Passage \\\\\\\\[1 minute\\\\\\\\]:**\\\\n\\\\n- Skimming entails a quick read of the entire passage to grasp its general idea.\\\\n- Different from scanning, which seeks specific facts, skimming focuses on understanding the tone and overall concept.\\\\n\\\\n##### **2\\\\\\\\. Read the Questions \\\\\\\\[1 minute\\\\\\\\]:**\\\\n\\\\n- After skimming, glance at related questions, identifying their types.\\\\n- Mark questions based on types and approach each accordingly, considering the various question types mentioned above.\\\\n\\\\n##### **3\\\\\\\\. Read the Passage in Detail \\\\\\\\[2 minutes\\\\\\\\]:**\\\\n\\\\n- Refer back to the passage, reading it thoroughly for tiny details and specific facts.\\\\n- Stay focused, mindful of the timed nature of the GMAT; prioritize information relevant to the questions.\\\\n\\\\n##### **4\\\\\\\\. Answer Questions \\\\\\\\[1 minute\\\\\\\\]:**\\\\n\\\\n- Start with main idea questions first, requiring less mental effort.\\\\n- Progress to supporting idea questions, addressing explicit facts.\\\\n- Proceed in the suggested order for effectiveness, then choose your preferred order.\\\\n\\\\n##### **5\\\\\\\\. Identify Outliers \\\\\\\\[0.25 minutes\\\\\\\\]:**\\\\n\\\\n- Outliers are answer choices not explicitly stated but align with the question.\\\\n- Sharp attention and a strong grasp of the passage\\'s main idea help identify outliers.\\\\n- Leverage these outliers with solid reasoning to your advantage.\\\\n\\\\nIn addition to these preparation tips, you should definitely check out our unique [Strategies to Improve Score in GMA **T Reading Comprehension**](https://www.careerlauncher.com/gmat/reading-comprehension-strategy/) **to enhance your performance.**\\\\n\\\\n### How to Prepare for GMAT Critical Reasoning?\\\\n\\\\n**Here is an effective guide on preparing for Critical Reasoning on the GMAT:**\\\\n\\\\n- Follow the \\\\\"map that leads to you\\\\\": Familiarize yourself with the topic of critical reasoning. GMAT critical reasoning questions are intentionally analytical and confusing, often filled with jargon and sentences in harmony with themselves rather than being helpful to the student. Avoid excessive reading and focus on decoding controversial theories to identify evidentiary clues crucial for solving the question.\\\\n- Believe that slow and steady wins the race: Being ambitious means being slow and steady towards your ambition. Speed reading can only help you get so far. For every noteworthy entrance examination in the world, speed reading will only exhibit your reading ability. You need to interpret what\\'s going on in the question. This will help you understand the information provided from the data that needs to be assumed.\\\\n- Break down the questions sentence-wise: This will help you mindfully assess the situation presented in the question. As much as this question is subjective to an individual candidate\\\\u2019s own prepping strategy, this is also a quandary that states that you need to be smart, rather than being hard on yourself.\\\\n- Get a \\\\\"reason\\\\\" to start over new: Avoid wishy-washiness in critical reasoning questions. Align the question with your analytical reasoning capabilities and draw necessary conclusions. Identify both dominant and weak parts of the sentence, practicing the technique of gathering information based on the contextual meaning of the question.\\\\n- Learning reasoning helps you examine the dense usage of written content: Explore historical, geographical, and social themes within the paragraph. This will help assume or predict solutions for given questions.\\\\n- Steer ahead of conventional reading practices: Don\\\\u2019t just read, understand, summarize and formulate a derived context with related comments. It is all about throwing yourself open to challenges and successfully testing your power to extract the correct meaning from complex written information. This is also the \\\\\"main idea\\\\\" behind the birth of the critical reasoning (CR) questions.\\\\n\\\\n### How to Prepare for GMAT Quant Syllabus?\\\\n\\\\nThe GMAT Quant demands a strategic approach and dedicated effort. To optimize your preparation, follow these essential steps:\\\\n\\\\n##### **1\\\\\\\\. Familiarize Yourself with GMAT Quant Format:**\\\\n\\\\n- The GMAT Quant comprises 21 Problem-Solving questions, allowing 45 minutes for completion. The syllabus encompasses arithmetic and algebra.\\\\n- Common topics include percentages, ratios, rate problems, algebraic expressions, combinatorics, linear and quadratic equations, and statistical concepts.\\\\n- Study each topic thoroughly, understand underlying concepts, and assess your strengths and weaknesses.\\\\n\\\\n##### **2\\\\\\\\. Develop a Comprehensive Study Plan:**\\\\n\\\\n- Tailor a realistic study plan based on your strengths and weaknesses, ensuring a balanced approach.\\\\n- Allocate dedicated time to each topic, becoming an expert before moving on.\\\\n- Consistent and focused study sessions are key to mastering the diverse content of the GMAT Quant syllabus.\\\\n\\\\n##### **3\\\\\\\\. Utilize Official GMAT Materials:**\\\\n\\\\n- Leverage official GMAT preparation materials like the GMAT Official Guide and GMATPrep software, available on [com](https://www.mba.com/).\\\\n- Practice with real GMAT questions to familiarize yourself with the exam\\'s structure and question types.\\\\n\\\\n##### **4\\\\\\\\. Strengthen Fundamental Concepts:**\\\\n\\\\n- Study core principles of arithmetic and algebra to build a strong foundation.\\\\n- Master basic skills for solving questions of fractions, decimals, percentages, and setting up equations.\\\\n\\\\n##### **5\\\\\\\\. Emphasize Problem-Solving Techniques:**\\\\n\\\\n- Develop effective problem-solving techniques.\\\\n- Practice solving problems under timed conditions to enhance speed and accuracy.\\\\n\\\\n##### **6\\\\\\\\. Review Mistakes Regularly:**\\\\n\\\\n- Analyze and understand the reasoning behind incorrect answers to improve.\\\\n- Identify patterns in errors and refine your problem-solving approach.\\\\n\\\\n##### **7\\\\\\\\. Take Mock Tests:**\\\\n\\\\n- Simulate real exam conditions with full-length GMAT practice tests.\\\\n- Assess performance, identify weak areas, and refine strategies.\\\\n\\\\n##### **8\\\\\\\\. Focus on Time Management:**\\\\n\\\\n- Practice effective time management during study sessions to complete the section within the allotted time on exam day.\\\\n\\\\n##### **9\\\\\\\\. Explore Additional Resources:**\\\\n\\\\n- Supplement learning with online courses, tutoring, and GMAT forums for diverse perspectives.\\\\n\\\\n##### **10\\\\\\\\. Prepare with Our Expert GMAT Faculty:**\\\\n\\\\n- Enroll in our comprehensive [GMAT Focus Edition coaching classes](https://www.careerlauncher.com/gmat/online-coaching/) structured to create a conducive learning atmosphere. Our experienced mentors provide valuable support, helping you ace your [GMAT preparation](https://www.careerlauncher.com/gmat/how-to-prepare-for-gmat/).\\\\n\\\\nRemember that the GMAT Quant section does not feature data sufficiency problems. While the content may have changed, your learning approach should stay constant. So, emphasis on studying math topics since they apply to a variety of question types, particularly in the Data Insights section of the Gmat Focus Edition.\\\\n\\\\n### How to Prepare for Data Insights?\\\\n\\\\n**To master Data Insights, keep these key aspects in mind:**\\\\n\\\\n- Understanding Data Insights Question Types\\\\n- Prepare for the Data Insights section by understanding its unique question types. This section introduces five distinct categories: Data Sufficiency, Graphics Interpretation, Table Analysis, Two-Part Analysis, and Multi-source Reasoning. The key is to develop your ability to process information effectively.Mastering Real-World Data Processing Skills\\\\n- In Data Insights, you are tasked with extracting insights from potentially imperfect data displays. This section simulates real-world scenarios. Learn to pay attention to the language used in questions and texts.Build Strategic Study Approach\\\\n- Data Insights requires a varied skill set, so you would need to adopt a strategic approach to your preparation. While delving into Quant topics like algebra, probability, and statistics, it also incorporates a verbal component like that of critical reasoning. Strengthen your Quant skills, especially statistics, and enhance critical reasoning and reading comprehension skills. From here, gradually integrate Data Insights questions from the newer official guides in your preparation. This ensures a methodical buildup without prematurely exhausting official question resources.Utilize Practice Tests for Holistic Assessment\\\\n- Strengthen understanding and confidence through practice and strategic review. Regular practice tests offer a holistic performance assessment, aligning with your overall strategy. Dive into detailed analytics from mock/practice tests to pinpoint weak areas, enabling effective focus and refinement.Mastering Time in Data Insights\\\\n\\\\nWith an average of two minutes and 15 seconds per question, effective time management is crucial. While the new GMAT allows changes to three answers and review flexibility, resist spending excessive time on a single question. While you prepare, allocate time wisely to mitigate the time pressure in the Data Insights section.\\\\n\\\\nIn addition to these tips, you can learn to tackle each question type on the GMAT Focus Edition\\\\u2019s Data Insights section with our comprehensive article on [Tips to Prepare for GMAT Data Insights.](https://www.careerlauncher.com/gmat/tips-for-gmat-data-insights/)\\\\n\\\\n**Also Read:** [**Try Data Insights Sample Questions**](https://study-abroad.careerlauncher.com/gmat/gmat-data-insights-sample-questions/)\\\\n\\\\n* * *\\\\n\\\\n## Does Understanding the GMAT Syllabus Boost Exam Preparation?\\\\n\\\\nA thorough understanding of GMAT topics can help you prioritize your study time and allocate more time to areas where you need improvement. Additionally, check out our articles on GMAT preparation to streamline your study approach.\\\\n\\\\n### Articles for GMAT Preparation\\\\n\\\\n[**Why GMAT?**](https://blog.careerlauncher.com/why-you-should-look-at-gmat-too/) [**When to Take GMAT**\\\\\\\\\\\\\\\\\\\\n**Exam?**](https://www.careerlauncher.com/gmat/when-to-take-gmat-exam/) [**How to Prepare for**\\\\\\\\\\\\\\\\\\\\n**GMAT?**](https://www.careerlauncher.com/gmat/how-to-prepare-for-gmat/) [**How to build MBA**\\\\\\\\\\\\\\\\\\\\n**resume ?**](https://www.careerlauncher.com/gmat/how-to-build-your-mba-resume/) [**Sentence correction for**\\\\\\\\\\\\\\\\\\\\n**GMAT**](https://blog.careerlauncher.com/gmat-sentence-correction/) [**How to**\\\\\\\\\\\\\\\\\\\\n**write SOP for study abroad?**](https://blog.careerlauncher.com/begin-sop-international-education-application/) [**Interview**\\\\\\\\\\\\\\\\\\\\n**Prep for Ivy League B School**](https://blog.careerlauncher.com/my-interview-experience-at-johnson-cornell-university-an-ivy-league-b-school/) [**10 ways to develop**\\\\\\\\\\\\\\\\\\\\n**reading habit**](https://blog.careerlauncher.com/10-ways-develop-reading-habit/) [**GMAT retakers**\\\\\\\\\\\\\\\\\\\\n**strategize**](https://blog.careerlauncher.com/gmat-retakers-strategize-better/) [**GMAT Classroom Program**](https://www.careerlauncher.com/gmat/classroom/) [**GMAT Online Class**](https://www.careerlauncher.com/gmat/online-coaching/) [**GMAT Private**\\\\\\\\\\\\\\\\\\\\n**Tutoring**](https://www.careerlauncher.com/gmat/online-private-tutoring/)\\\\n\\\\n## Start Your GMAT Journey with Career Launcher\\\\n\\\\nJoin us for a free diagnostic test, access study materials, or sign up for our free webinar!\\\\n\\\\n[**Free Diagnostic**\\\\\\\\\\\\\\\\\\\\n**Test**](https://www.careerlauncher.com/gmat/diagnostic-test/) [**GMAT**\\\\\\\\\\\\\\\\\\\\n**Study Material**](https://www.careerlauncher.com/cl-online/ProductPage.jsp?prodeid=rzJknL4IX84=&prodCat=GMAT&prodGroup=Books%20and%20Study%20Material&rt=&rl=&source=default&method=default) [**Join**\\\\\\\\\\\\\\\\\\\\n**Free Webinar**](https://www.careerlauncher.com/study-abroad/upcoming-live-events/)\\\\n\\\\n## What After the GMAT Exam?\\\\n\\\\nWhether you aspire to [study abroad](https://www.careerlauncher.com/study-abroad/) or in\\\\nIndia, we are here to support your journey every step of the way.\\\\n\\\\n### Study Abroad\\\\n\\\\n[**Study in USA ![USA Flag](https://www.careerlauncher.com/study-abroad/images/usa-flag.jpg)** Know More![Study in USA](https://www.careerlauncher.com/study-abroad/images/usa.jpg)](https://www.careerlauncher.com/study-abroad/usa/)\\\\n\\\\n[**Study in UK ![UK Flag](https://www.careerlauncher.com/study-abroad/images/uk-flag.jpg)** Know More![Study in UK](https://www.careerlauncher.com/study-abroad/images/uk.jpg)](https://www.careerlauncher.com/study-abroad/uk/)\\\\n\\\\n[**Study in Canada ![Canada Flag](https://www.careerlauncher.com/study-abroad/images/canada-flag.jpg)** Know More![](https://clsite-file1.s3.amazonaws.com/6858_studycanada.jpg)](https://www.careerlauncher.com/study-abroad/canada/)\\\\n\\\\n[**Study in Australia ![](https://clsite-file1.s3.amazonaws.com/6858_australia-flag.jpg)** Know More![](https://clsite-file1.s3.amazonaws.com/6858_australia.jpg)](https://www.careerlauncher.com/study-abroad/australia/)\\\\n\\\\n### Study in India\\\\n\\\\n[Indian School of Business](https://www.careerlauncher.com/gmat/about-isb/)\\\\n\\\\n## FAQs\\\\n\\\\n#### [Where can I get the full GMAT\\\\\\\\ syllabus?](https://www.careerlauncher.com/gmat/exam-syllabus/\\\\\\\\#collapse-1)\\\\n\\\\nYou can find the complete GMAT syllabus and detailed information about the test on the official\\\\nwebsite: [https://www.mba.com/](https://www.mba.com/).\\\\n\\\\n#### [Is\\\\\\\\ the CAT and GMAT syllabus the same?](https://www.careerlauncher.com/gmat/exam-syllabus/\\\\\\\\#collapse-2)\\\\n\\\\nThe GMAT covers Quantitative Reasoning, Verbal Reasoning, and Data Insights. The CAT has Verbal\\\\nAbility and Reading Comprehension (VARC), Data Interpretation and Logical Reasoning (DILR), and\\\\nQuantitative Aptitude (QA). This broader coverage sets the CAT apart from the GMAT\\'s new version.\\\\nAdditionally, the CAT emphasizes geometry in its Quant section, but the GMAT doesn\\'t have it\\\\nanymore. The CAT includes logical reasoning, which the GMAT doesn\\'t.\\\\n\\\\n#### [Is the\\\\\\\\ GMAT syllabus changing?](https://www.careerlauncher.com/gmat/exam-syllabus/\\\\\\\\#collapse-3)\\\\n\\\\nYes, the GMAT syllabus has undergone changes, having removed the Analytical Writing Assessment\\\\nsection and sentence correction. The three sections of the new GMAT are: Quantitative Reasoning,\\\\nVerbal Reasoning, and Data Insights.\\\\n\\\\n#### [What\\\\\\\\ is new in the GMAT syllabus?](https://www.careerlauncher.com/gmat/exam-syllabus/\\\\\\\\#collapse-4)\\\\n\\\\nIn the GMAT Focus Edition, significant changes are evident. The exam lasts 2 hours and 15 minutes,\\\\nfeaturing 64 questions across three sections: Quantitative Reasoning (QR), Verbal Reasoning (VR),\\\\nand Data Insights (DI). The Quantitative Reasoning section is shorter, with 21 Problem-Solving\\\\nquestions in 45 minutes. Verbal Reasoning omits Sentence Correction, offering 23 Critical Reasoning\\\\nand Reading Comprehension questions in 45 minutes. Data Insights, a new section, combines Integrated\\\\nReasoning question types with Data Sufficiency, presenting 20 questions in 45 minutes. These\\\\nalterations reflect a revamped syllabus aimed at better assessing candidates\\' skills.\\\\n\\\\n#### [Can I\\\\\\\\ find GMAT syllabus practice questions online?](https://www.careerlauncher.com/gmat/exam-syllabus/\\\\\\\\#collapse-5)\\\\n\\\\nYes! You can discover GMAT syllabus practice questions online. Speak with our experts to gain\\\\naccess to our comprehensive prep courses, comprising 2800+ practice questions and 6 full-length mock\\\\nexams with thorough analysis.\\\\n\\\\n#### [How\\\\\\\\ can I best prepare for the GMAT syllabus?](https://www.careerlauncher.com/gmat/exam-syllabus/\\\\\\\\#collapse-6)\\\\n\\\\nFamiliarize yourself with the GMAT syllabus and format. Develop a structured study plan, focusing\\\\non areas needing improvement. Utilize GMAT prep resources like practice tests, and study guides. It\\\\nis essential to practice time management to complete sections within the allotted time. You may also\\\\nconsider seeking guidance from experienced tutors or prep courses.\\\\n\\\\n#### [Is\\\\\\\\ there a specific order in which I should tackle the sections of the GMAT?](https://www.careerlauncher.com/gmat/exam-syllabus/\\\\\\\\#collapse-7)\\\\n\\\\nThe GMAT offers flexibility in section order; therefore, you can tackle the sections of the GMAT in\\\\nany order you like.\\\\n\\\\n#### [Are\\\\\\\\ there any specific resources available to help with GMAT syllabus preparation?](https://www.careerlauncher.com/gmat/exam-syllabus/\\\\\\\\#collapse-8)\\\\n\\\\nThe primary resource for GMAT preparation is the Official Guide series, developed by the GMAT\\\\nauthorities themselves. It provides real GMAT questions. Plus, we have GMAT prep programs that offer\\\\ninvaluable resources to boost your score. If you are looking for GMAT coaching from experts, our\\\\ncounselors are here to assist you.\\\\n\\\\n#### [Is GMAT Syllabus Updated?](https://www.careerlauncher.com/gmat/exam-syllabus/\\\\\\\\#collapse-9)\\\\n\\\\nYes, the GMAT syllabus has been updated with the introduction of the GMAT Focus Edition. Notably, the Analytical Writing Assessment (AWA) and Integrated Reasoning (IR) sections have been removed. Instead, a new section called Data Insights has been introduced, which combines elements of data sufficiency and multi-source reasoning.\\\\n\\\\n#### [How many sections are there in the new GMAT syllabus?](https://www.careerlauncher.com/gmat/exam-syllabus/\\\\\\\\#collapse-10)\\\\n\\\\nThe GMAT Focus Edition consists of three main sections: Verbal Reasoning, Quantitative Reasoning, and Data Insights. The Verbal Reasoning section includes critical reasoning and reading comprehension. The Quantitative Reasoning section focuses on arithmetic and algebra, with geometry being removed. The new Data Insights section tests data literacy through multi-source reasoning and graphical interpretation.\\\\n\\\\n#### [Is the New GMAT Syllabus Easier than the Classic GMAT Syllabus?](https://www.careerlauncher.com/gmat/exam-syllabus/\\\\\\\\#collapse-11)\\\\n\\\\nThe new GMAT syllabus is not necessarily easier but is more focused. By removing the AWA and IR sections, the GMAT Focus Edition reduces the overall test duration and concentrates on core skills like data analysis and critical reasoning. The perceived difficulty will depend on individual strengths and preparation strategies.\\\\n\\\\n[Back to Top](https://www.careerlauncher.com/gmat/exam-syllabus/#head)\\\\n\\\\n## Study with us\\\\n\\\\n[After-School](https://www.careerlauncher.com/gmat/exam-syllabus/#collapsesix)\\\\n\\\\n- [LAW](https://www.careerlauncher.com/law/)\\\\n- [CUET](https://www.careerlauncher.com/cucet/)\\\\n- [BBA-HM](https://www.careerlauncher.com/after12/)\\\\n- [IPM](https://www.careerlauncher.com/ipm/)\\\\n- [Tuition](https://www.careerlauncher.com/cbse-ncert/)\\\\n- [Career Counseling](https://www.careerlauncher.com/counselling/)\\\\n\\\\n[After-College](https://www.careerlauncher.com/gmat/exam-syllabus/#collapseseven)\\\\n\\\\n- [MBA](https://www.careerlauncher.com/cat-mba/)\\\\n- [GATE](https://www.careerlauncher.com/gate/)\\\\n- [Placements](https://www.careerlauncher.com/crt/)\\\\n- [Interviews](https://www.careerlauncher.com/iGuru/)\\\\n\\\\n[Study-Abroad](https://www.careerlauncher.com/gmat/exam-syllabus/#collapseeight)\\\\n\\\\n- [GMAT](https://www.careerlauncher.com/gmat/)\\\\n- [GRE](https://www.careerlauncher.com/gre/)\\\\n- [SAT](https://www.careerlauncher.com/sat/)\\\\n- [IELTS](https://www.careerlauncher.com/ielts/)\\\\n- [Admission Consulting](https://www.careerlauncher.com/admission-consulting/)\\\\n\\\\n[Upskilling](https://www.careerlauncher.com/gmat/exam-syllabus/#collapsenine)\\\\n\\\\n- [FinSchool](https://www.careerlauncher.com/finschool/)\\\\n- [DataSchool](https://www.careerlauncher.com/machine-learning/)\\\\n\\\\n[Webinar](https://www.careerlauncher.com/gmat/exam-syllabus/#collapseten)\\\\n\\\\n- [Exam Prep](https://www.careerlauncher.com/webinar/)\\\\n- [Tuitions & Boards](https://www.careerlauncher.com/webinar/tuitions/)\\\\n- [Under-Graduate](https://www.careerlauncher.com/webinar/ug/)\\\\n- [Post-Graduate](https://www.careerlauncher.com/webinar/pg/)\\\\n\\\\n## Reach Us\\\\n\\\\n- [Corporate Contacts](https://www.careerlauncher.com/contactus/head-office.html)\\\\n- [Find a Center](https://www.careerlauncher.com/contactus/)\\\\n- [Become a Franchisee](https://www.careerlauncher.com/partner/)\\\\n- [Become an Employee](https://www.careerlauncher.com/aboutus/careers/)\\\\n\\\\n## Know Us\\\\n\\\\n- [Overview](https://www.careerlauncher.com/aboutus/)\\\\n- [Board of Directors](https://www.careerlauncher.com/aboutus/board-of-directors.html)\\\\n- [Management Team](https://www.careerlauncher.com/aboutus/management-team.html)\\\\n- [Media Coverage](https://www.careerlauncher.com/aboutus/media.html)\\\\n\\\\n## Go Social\\\\n\\\\n- [Facebook](https://www.facebook.com/CLRocks)\\\\n- [Instagram](https://www.instagram.com/career_launcher/)\\\\n- [Linkedin](https://www.linkedin.com/company/career-launcher/)\\\\n- [Quora](https://www.quora.com/profile/Career-Launcher-8)\\\\n- [Twitter](https://twitter.com/careerlauncher)\\\\n- [YouTube](https://www.youtube.com/user/CareerLauncherMedia)\\\\n\\\\n## Enroll Now\\\\n\\\\n- [Log-In](https://www.careerlauncher.com/sis/)\\\\n- [Sign-Up](https://myzone.careerlauncher.com/)\\\\n\\\\n- [![](https://www.careerlauncher.com/images/android.png)](https://play.google.com/store/apps/details?id=com.careerlauncher.ai)\\\\n- [![](https://www.careerlauncher.com/images/app-store.png)](https://itunes.apple.com/us/app/cl-exam-guide/id1080624590?ls=1&mt=8)\\\\n\\\\n![CL](https://www.careerlauncher.com/images/logo-white.png)\\\\n\\\\n- [India](https://www.careerlauncher.com/)\\\\n- [Dubai](http://www.careerlauncheruae.com/)\\\\n- [Singapore](http://sg.careerlauncher.com/)\\\\n\\\\n## Business Verticals\\\\n\\\\n- [GK Publications\\\\\\\\\\\\\\\\\\\\n\\\\\\\\\\\\\\\\\\\\nBooks & \\\\\\\\\\\\\\\\\\\\n\\\\\\\\\\\\\\\\\\\\nPublication](http://www.gkpublications.com/)\\\\n- [Kestone\\\\\\\\\\\\\\\\\\\\n\\\\\\\\\\\\\\\\\\\\nMarketing\\\\\\\\\\\\\\\\\\\\n\\\\\\\\\\\\\\\\\\\\nServices](https://kestoneglobal.com/)\\\\n- [WAIN-Connect\\\\\\\\\\\\\\\\\\\\n\\\\\\\\\\\\\\\\\\\\nAcademia-Industry\\\\\\\\\\\\\\\\\\\\n\\\\\\\\\\\\\\\\\\\\nNetwork](http://wainconnect.com//)\\\\n\\\\n## Academic Verticals\\\\n\\\\n- [Law Entrance\\\\\\\\\\\\\\\\\\\\n\\\\\\\\\\\\\\\\\\\\nCoaching for \\\\\\\\\\\\\\\\\\\\n\\\\\\\\\\\\\\\\\\\\nCLAT AILET LSAT](https://www.lawentrance.com/)\\\\n- [GATE Entrance\\\\\\\\\\\\\\\\\\\\n\\\\\\\\\\\\\\\\\\\\nCoaching for \\\\\\\\\\\\\\\\\\\\n\\\\\\\\\\\\\\\\\\\\nGATE IES PSU](https://www.careerlauncher.com/gate/)\\\\n- [Futuremap \\\\\\\\\\\\\\\\\\\\n\\\\\\\\\\\\\\\\\\\\nCareer\\\\\\\\\\\\\\\\\\\\n\\\\\\\\\\\\\\\\\\\\nGuidance](http://futuremap.in/)\\\\n\\\\n- [Privacy Policy & Terms of Sale](https://www.careerlauncher.com/privacy.html)\\\\n- 8130-038-836\\\\n- \\\\u00a9 CL Educate Ltd\\\\n\\\\nWeb Bot\\\\n\\\\nWeb Bot\\\\n\\\\n![](https://bat.bing.com/action/0?ti=134599045&tm=gtm002&Ver=2&mid=49ffc2bf-a1d5-49a0-b2fc-5677a4982377&bo=1&sid=9dc72600fd8211efb05e114503917025&vid=9dc739a0fd8211efa8305b402ef1b163&vids=1&msclkid=N&pi=918639831&lg=en-US&sw=1280&sh=1024&sc=24&tl=GMAT%20Syllabus%202025%3A%20Section-wise%20Quant,%20Verbal,%20Data%20Insights&p=https%3A%2F%2Fwww.careerlauncher.com%2Fgmat%2Fexam-syllabus%2F&r=&lt=2479&evt=pageLoad&sv=1&cdb=AQAQ&rn=897910)\", \"metadata\": {\"url\": \"https://www.careerlauncher.com/gmat/exam-syllabus/\", \"title\": \"GMAT Syllabus 2025: Section-wise Quant, Verbal, Data Insights\", \"robots\": \"noindex\", \"favicon\": {}, \"language\": \"en\", \"position\": [\"1\", \"2\"], \"scrapeId\": \"2eaf31d3-9fa6-4f2c-83fd-b3f112b6c4e5\", \"viewport\": [\"width=device-width, initial-scale=1\", \"width=device-width, initial-scale=1\", \"width=device-width, initial-scale=1\", \"width=device-width, initial-scale=1.0, maximum-scale=5.0\", \"width=device-width, initial-scale=1.0, maximum-scale=5.0\"], \"sourceURL\": \"https://www.careerlauncher.com/gmat/exam-syllabus/\", \"statusCode\": 200, \"description\": [\"This is a detailed section-wise GMAT syllabus as per the focus edition issued by GMAC. The syllabus includes 3 sections with 21 questions in quant, 23 in verbal, and 20 in data insights.\", \"Leadsquared Chatbot Application.\", \"Leadsquared Chatbot Application.\"], \"theme-color\": \"#4285f4\", \"msapplication-navbutton-color\": \"#4285f4\", \"apple-mobile-web-app-status-bar-style\": \"#4285f4\"}}]}', name=None, tool_call_id='call_gpUJH10hOsuPYhuW8WlDGfOd', tool_calls=None, audio=None, images=None, videos=None, audio_output=None, thinking=None, redacted_thinking=None, provider_data=None, reasoning_content=None, tool_name='crawl_website', tool_args={'url': 'https://www.careerlauncher.com/gmat/exam-syllabus/'}, tool_call_error=False, stop_after_tool_call=False, add_to_agent_memory=True, from_history=False, metrics=MessageMetrics(input_tokens=0, output_tokens=0, total_tokens=0, prompt_tokens=0, completion_tokens=0, prompt_tokens_details=None, completion_tokens_details=None, additional_metrics=None, time=31.446658594999917, time_to_first_token=None, timer=None), references=None, created_at=1741592318), Message(role='assistant', content=\"Here is an overview of the content from the GMAT Exam Syllabus page on the Career Launcher website:\\n\\n### GMAT Exam Overview\\nThe GMAT Focus Edition introduces a streamlined test with three main sections:\\n1. **Verbal Reasoning**\\n2. **Quantitative Reasoning**\\n3. **Data Insights**\\n\\nThese sections emphasize critical reasoning, data literacy, and problem-solving skills, preparing candidates for data-driven business environments.\\n\\n#### Key Takeaways:\\n- **Sections:** Verbal, Quantitative, and Data Insights.\\n- **Focus:** Critical reasoning, reading comprehension, and problem-solving.\\n- **Changes:** No essay component, no sentence correction, and introduction of data insights.\\n\\n### Exam Structure\\nEach of the three sections in the GMAT Focus Edition lasts for 45 minutes, totaling 2 hours and 15 minutes:\\n- **Verbal Reasoning:** 23 questions focusing on reading comprehension and critical reasoning.\\n- **Quantitative Reasoning:** 21 problem-solving questions without geometry.\\n- **Data Insights:** 20 questions, including data sufficiency and graphical analysis, with calculator usage allowed.\\n\\n### Detailed Syllabus\\nFor each section, the syllabus includes various question types testing different skills:\\n\\n#### Verbal Reasoning\\n- **Reading Comprehension**\\n- **Critical Reasoning**\\n\\n#### Quantitative Reasoning\\n- **Arithmetic & Algebra**\\n- **Logical & Analytical Thinking**\\n\\n#### Data Insights\\n- **Data Literacy & Interpretation**\\n- **Quantitative Problem Solving**\\n\\n### Preparation Resources\\nVarious resources and strategies are suggested, including:\\n- **Study Plans**\\n- **Mock Tests & Practice Questions**\\n- **Coaching Resources**\\n\\nAdditionally, the page provides preparation strategies and suggested reading related to each section to boost performance.\\n\\nFor more detailed information, you can visit [Career Launcher's GMAT Syllabus page](https://www.careerlauncher.com/gmat/exam-syllabus/).\", name=None, tool_call_id=None, tool_calls=None, audio=None, images=None, videos=None, audio_output=None, thinking=None, redacted_thinking=None, provider_data=None, reasoning_content=None, tool_name=None, tool_args=None, tool_call_error=None, stop_after_tool_call=False, add_to_agent_memory=True, from_history=False, metrics=MessageMetrics(input_tokens=11562, output_tokens=382, total_tokens=11944, prompt_tokens=11562, completion_tokens=382, prompt_tokens_details={'audio_tokens': 0, 'cached_tokens': 0}, completion_tokens_details={'accepted_prediction_tokens': 0, 'audio_tokens': 0, 'reasoning_tokens': 0, 'rejected_prediction_tokens': 0}, additional_metrics=None, time=9.190769778999766, time_to_first_token=None, timer=<agno.utils.timer.Timer object at 0x78e2bd066850>), references=None, created_at=1741592318)], metrics={'input_tokens': [158, 11562], 'output_tokens': [30, 382], 'total_tokens': [188, 11944], 'prompt_tokens': [158, 11562], 'completion_tokens': [30, 382], 'prompt_tokens_details': [{'audio_tokens': 0, 'cached_tokens': 0}, {'audio_tokens': 0, 'cached_tokens': 0}], 'completion_tokens_details': [{'accepted_prediction_tokens': 0, 'audio_tokens': 0, 'reasoning_tokens': 0, 'rejected_prediction_tokens': 0}, {'accepted_prediction_tokens': 0, 'audio_tokens': 0, 'reasoning_tokens': 0, 'rejected_prediction_tokens': 0}], 'time': [1.0259017610001138, 9.190769778999766]}, model='gpt-4o', run_id='90c0c202-7977-4d41-9918-fed7439695dc', agent_id='04f88b28-1a9c-4bee-a492-1286bc3f6f62', session_id='8ce38c4c-eb0e-4316-8254-1b88c9be5f12', workflow_id=None, tools=[{'content': '{\"success\": true, \"status\": \"completed\", \"completed\": 1, \"total\": 1, \"creditsUsed\": 1, \"expiresAt\": \"2025-03-11T07:38:07.000Z\", \"data\": [{\"markdown\": \"HomeToggle navigation\\\\n\\\\n- [GMAT Exam](https://www.careerlauncher.com/gmat/exam-syllabus/#)  - [About GMAT](http://www.careerlauncher.com/gmat/exam/)\\\\n  - [GMAT Exam Pattern](https://www.careerlauncher.com/gmat/exam-pattern/)\\\\n  - [GMAT Syllabus](https://www.careerlauncher.com/gmat/exam-syllabus/)\\\\n  - [GMAT Exam Date](https://www.careerlauncher.com/gmat/exam-date/)\\\\n  - [GMAT Eligibilty Criteria](https://www.careerlauncher.com/gmat/eligibility-criteria/)\\\\n  - [GMAT Exam Centres](https://www.careerlauncher.com/gmat/exam-centers/)\\\\n  - [GMAT Cut-off](https://www.careerlauncher.com/gmat/cutoff-indian-colleges/)\\\\n  - [GMAT Preparation](https://www.careerlauncher.com/gmat/preparation-strategy/)\\\\n  - [GMAT Exam Score](https://www.careerlauncher.com/gmat/gmat-score/)\\\\n  - [GMAT Exam Fees](https://www.careerlauncher.com/gmat/exam-fees/)\\\\n  - [GMAT Exam Registration](https://www.careerlauncher.com/gmat/exam-registration-fees/)\\\\n  - [Free GMAT Study Plan](https://www.careerlauncher.com/gmat/personalized-study-plan/)\\\\n- [GMAT Coaching](https://www.careerlauncher.com/gmat/exam-syllabus/#)  - [GMAT Online Classes](https://www.careerlauncher.com/gmat/online-coaching/)\\\\n  - [GMAT Classroom](https://www.careerlauncher.com/gmat/classroom/)\\\\n  - [GMAT Self-Paced Comprehensive\\\\\\\\\\\\\\\\\\\\n     Program](https://www.careerlauncher.com/gmat/self-paced-comprehensive-program/)\\\\n  - [GMAT Private Tutoring](https://www.careerlauncher.com/gmat/online-private-tutoring/)\\\\n- [GMAT Articles](https://www.careerlauncher.com/gmat/exam-syllabus/#)  - [MIM vs MBA](https://www.careerlauncher.com/gmat/articles/mim-vs-mba/)\\\\n  - [GMAT vs CAT](https://www.careerlauncher.com/gmat/gmat-vs-cat/)\\\\n  - [GRE vs GMAT](https://www.careerlauncher.com/gmat/gre-vs-gmat/)\\\\n  - [Top 10 MIM programs in Europe](https://www.careerlauncher.com/gmat/top-10-mim-europe/)\\\\n  - [Top 10 MBA colleges in India](https://www.careerlauncher.com/gmat/top-10-india-gmat.html)\\\\n  - [Top 20 MBA colleges in Abroad](https://www.careerlauncher.com/gmat/top-20-mba-us/)\\\\n  - [How to Prepare for GMAT](https://www.careerlauncher.com/gmat/how-to-prepare-for-gmat/)\\\\n  - [How to Prepare for GMAT\\\\\\\\\\\\\\\\\\\\n     while Working](https://www.careerlauncher.com/gmat/how-to-prepare-for-gmat-working-professional/)\\\\n  - [Reading Comprehension Strategy](https://www.careerlauncher.com/gmat/reading-comprehension-strategy/)\\\\n  - [What is a good GMAT Score?](https://www.careerlauncher.com/gmat/gmat-score/)\\\\n  - [When to take gmat exam](https://www.careerlauncher.com/gmat/when-to-take-gmat-exam/)\\\\n  - [How to Build your MBA Resume](https://www.careerlauncher.com/gmat/how-to-build-your-mba-resume/)\\\\n  - [More articles](https://www.careerlauncher.com/gmat/articles/)\\\\n- [GMAT\\\\\\\\\\\\\\\\\\\\nDiagnostic Test](https://www.careerlauncher.com/gmat/diagnostic-test/)\\\\n- [GMAT Focus Edition](https://www.careerlauncher.com/gmat/exam-syllabus/#)  - [GMAT Focus Edition Score](https://www.careerlauncher.com/gmat/gmat-focus-edition-score/)\\\\n  - [All About GMAT Focus Edition](https://www.careerlauncher.com/gmat/everything-about-gmat-focus-edition/)\\\\n  - [Tips for GMAT Data Insights](https://www.careerlauncher.com/gmat/tips-for-gmat-data-insights/)\\\\n  - [New GMAT Format](https://www.careerlauncher.com/gmat/focus-edition-exam-format/)\\\\n\\\\n# GMAT Exam Syllabus 2025\\\\n\\\\nThe GMAT Syllabus for the Focus Edition introduces a simplified test with three sections: Verbal Reasoning, Quantitative Reasoning, and Data Insights. This version, effective from November 2023, features a concise format, with each section lasting 45 minutes. In general, it puts emphasis on critical reasoning, data analysis, and problem-solving abilities, aligning with the skills needed for today\\'s data-driven business world. Students taking the test must adapt to these changes to do well in the exam and prepare for the demands of graduate management programs.\\\\n\\\\n### Key takeaways of the GMAT Syllabus include:\\\\n\\\\n- 3 sections: Verbal Reasoning, Quantitative Reasoning, and Data Insights.\\\\n- Focus on critical reasoning and reading comprehension in Verbal Reasoning; problem-solving in Quantitative Reasoning; and data literacy in the new Data Insights section.\\\\n- The absence of an essay component (Analytical Writing section)\\\\n- The removal of sentence correction.\\\\n- The introduction of data insights.\\\\n\\\\n**On this page, we\\'re covering:**\\\\n\\\\n- [GMAT Exam Sections 2025](https://www.careerlauncher.com/gmat/exam-syllabus/#a)\\\\n- [GMAT Exam Pattern 2025](https://www.careerlauncher.com/gmat/exam-syllabus/#b)\\\\n- [GMAT Verbal Syllabus](https://www.careerlauncher.com/gmat/exam-syllabus/#c)\\\\n- [GMAT Quant Syllabus](https://www.careerlauncher.com/gmat/exam-syllabus/#d)\\\\n- [GMAT Data Insights Syllabus](https://www.careerlauncher.com/gmat/exam-syllabus/#e)\\\\n- [Does Understanding the GMAT Syllabus Boost Exam Preparation?](https://www.careerlauncher.com/gmat/exam-syllabus/#f)\\\\n- [Start Your GMAT Journey with Career Launcher](https://www.careerlauncher.com/gmat/exam-syllabus/#g)\\\\n- [What After the GMAT Exam?](https://www.careerlauncher.com/gmat/exam-syllabus/#h)\\\\n- [FAQs](https://www.careerlauncher.com/gmat/exam-syllabus/#FAQs)\\\\n\\\\n## GMAT Exam Sections 2025 with Required Test Abilities\\\\n\\\\nEach section of the GMAT exam is designed to assess specific skills crucial for success in business management programs. The Verbal Reasoning part tests how well you can read, comprehend, and critically evaluate written material. The Quantitative Reasoning part assesses if you can interpret quantitative (number) data and solve mathematical problems efficiently. Unlike previous versions, the Focus Edition excludes geometry in its Quant section. A new addition to the [GMAT](https://www.careerlauncher.com/gmat/exam/), the Data Insights section tests a candidate\\'s ability to analyze and interpret data from various sources. The inclusion of this section reflects the growing importance of data literacy in the modern business world.\\\\n\\\\n![GMAT Syllabus](https://www.careerlauncher.com/gmat/exam-syllabus/img/GMATSyllabusFocusEdition.jpg)\\\\n\\\\n### GMAT Verbal Reasoning Section\\\\n\\\\nThe Verbal Reasoning section (time allotted: 45 minutes) assesses one\\'s ability to read, understand, and analyze a given text. Some specific skills it evaluates are reading comprehension, vocabulary, critical reasoning, and logical deduction. Candidates are required to answer a total of 23 questions on reading comprehension and critical reasoning.\\\\n\\\\n- Reading comprehension questions are composed of written passages of varying lengths and complexity. The aim is to evaluate one\\'s ability to identify main ideas, infer meaning, understand logical connections between important points, and deduce conclusions.\\\\n- Critical reasoning questions typically present a short argument or a logical statement, followed by questions that require test takers to analyze the argument\\'s structure, identify its strengths and weaknesses, and draw logical conclusions. These questions also assess one\\'s ability to devise a plan of action to address a specific challenge or issue.\\\\n\\\\n### Speak to our GMAT\\\\u2122 Expert\\\\n\\\\nSend OTP\\\\n\\\\nChange Number\\\\n\\\\nWe have sent the OTP to 9999999999\\\\n\\\\nTarget ProgramMBAMIMSpecialized Masters (MSBA, MFIN, etc.)\\\\n\\\\nExperience LevelPre-Final/Final Yr Student0-2 Yrs3-5 Yrs5+ Yrs\\\\n\\\\nSubmit\\\\n\\\\n* * *\\\\n\\\\n- ![](https://www.careerlauncher.com/gmat/exam-syllabus/img/how-to-send-new-gmat-scores-to-business-schools-1024x756.jpg)\\\\n[How to Send New GMAT Scores to Business Schools?](https://study-abroad.careerlauncher.com/gmat/how-to-send-new-gmat-scores-to-business-schools/)\\\\n- ![](https://www.careerlauncher.com/gmat/exam-syllabus/img/A-Students-Guide-to-Life-in-the-US-Insights-for-Indian-Students.jpg)\\\\n[MBA Success Beyond GMAT: Build Compelling Application](https://study-abroad.careerlauncher.com/gmat/mba-success-beyond-gmat/)\\\\n- ![](https://www.careerlauncher.com/gmat/exam-syllabus/img/GMAT-Demystified-Preparing-for-Business-Schools-Abroad.jpg)\\\\n[GMAT Demystified: Preparing for Business Schools Abroad](https://study-abroad.careerlauncher.com/gmat/gmat-preparation-for-business-schools-abroad/)\\\\n- ![](https://www.careerlauncher.com/gmat/exam-syllabus/img/How-to-Solve-Data-Sufficiency-Questions-1024x732.jpg)\\\\n[How to Solve Data Sufficiency Questions?](https://study-abroad.careerlauncher.com/gmat/how-to-solve-data-sufficiency-questions/)\\\\n- ![](https://www.careerlauncher.com/gmat/exam-syllabus/img/workman-wearing-hard-hat-working-1.jpg)\\\\n[Global MBA\\\\\\\\\\\\\\\\\\\\nRankings](https://study-abroad.careerlauncher.com/gmat/global-mba-rankings/)\\\\n\\\\n### GMAT Quantitative Reasoning Section\\\\n\\\\nThe Quantitative Reasoning section (time allotted: 45 minutes) tests basic algebra and arithmetic skills through 21 problem-solving questions. To succeed in this section, candidates need logical thinking and quick problem-solving, not just math. The use of calculators is not permitted in this section.\\\\n\\\\n### GMAT Data Insights Section\\\\n\\\\nThe Data Insights section, (time allotted: 45 minutes), evaluates a candidate\\'s ability to analyze and interpret data in real-world business contexts. It also assesses proficiency in digital technologies and literacy. Comprising 20 questions, this section includes data sufficiency, multi-source reasoning, table analysis, graphics interpretation, and two-part analysis. Skills in math, data analysis, and verbal reasoning may be required. This section permits the use of an on-screen calculator.\\\\n\\\\n* * *\\\\n\\\\n## GMAT Exam Pattern 2025\\\\n\\\\nThe GMAT exam takes approximately 2 hours and 15 minutes. It comprises 3 sections: Quantitative Reasoning, Verbal Reasoning, and Data Insights. This version has 64 questions.\\\\n\\\\n**Here is an overview of the GMAT Focus Edition sections:**\\\\n\\\\n|     |     |     |     |     |     |\\\\n| --- | --- | --- | --- | --- | --- |\\\\n| Category | Duration | Number of Questions | Type of Content | Format | Score Range |\\\\n| Quantitative Reasoning | 45 minutes | 21 problem-solving | Arithmetic; Algebra | Multiple Choice | 60-90 |\\\\n| Verbal Reasoning | 45 minutes | 23 | Critical Reasoning; Reading Comprehension | Multiple Choice | 60-90 |\\\\n| Data Insights | 45 minutes | 20 | Multi-Source Reasoning; Table Analysis; Graphics Interpretation; Two-Part Analysis; Data Sufficiency | Like Integrated Reasoning | 60-90 |\\\\n\\\\nThe total score you get on the [GMAT Focus Edition](https://www.careerlauncher.com/gmat/everything-about-gmat-focus-edition/) is determined by your performance on all three sections of the test. The maximum score that can be attained on the [GMAT exam](https://www.careerlauncher.com/gmat/exam/) is 805.\\\\n\\\\n##### Video Explaining GMAT Exam Pattern, Scoring System and Exam Order\\\\n\\\\nGMAT Exam Pattern 2025 - YouTube\\\\n\\\\nCareer Launcher\\\\n\\\\n125K subscribers\\\\n\\\\n[GMAT Exam Pattern 2025](https://www.youtube.com/watch?v=nXt9OEpTZ9g)\\\\n\\\\nCareer Launcher\\\\n\\\\nSearch\\\\n\\\\nInfo\\\\n\\\\nShopping\\\\n\\\\nTap to unmute\\\\n\\\\nIf playback doesn\\'t begin shortly, try restarting your device.\\\\n\\\\nYou\\'re signed out\\\\n\\\\nVideos you watch may be added to the TV\\'s watch history and influence TV recommendations. To avoid this, cancel and sign in to YouTube on your computer.\\\\n\\\\nCancelConfirm\\\\n\\\\nShare\\\\n\\\\nInclude playlist\\\\n\\\\nAn error occurred while retrieving sharing information. Please try again later.\\\\n\\\\nWatch later\\\\n\\\\nShare\\\\n\\\\nCopy link\\\\n\\\\nWatch on\\\\n\\\\n0:00\\\\n\\\\n0:00 / 4:28\\\\u2022Live\\\\n\\\\n\\\\u2022\\\\n\\\\n[Watch on YouTube](https://www.youtube.com/watch?v=nXt9OEpTZ9g \\\\\"Watch on YouTube\\\\\")\\\\n\\\\nTo learn everything about new GMAT modifications, read our dedicated article on the [new GMAT format](https://www.careerlauncher.com/gmat/focus-edition-exam-format/)\\\\n\\\\n* * *\\\\n\\\\n## GMAT Verbal Syllabus\\\\n\\\\nThe GMAT Verbal Reasoning section assesses your skills in:\\\\n\\\\n- Reading written material,\\\\n- Comprehending written material, and\\\\n- Evaluating arguments.\\\\n\\\\nThere are a total of 23 questions in this section and you get 45 minutes to answer the same. Types of questions in this section are: Reading Comprehension and Critical Reasoning.\\\\n\\\\n### GMAT Reading Comprehension Syllabus\\\\n\\\\nThis section measures your ability to comprehend words and statements. Mainly, the skills tested include:\\\\n\\\\n- Comprehending logical structure\\\\n- Recognizing supporting idea\\\\n- Understanding application\\\\n- Identifying main idea\\\\n- Drawing inferences\\\\n- Analysing style\\\\n\\\\n### Crucial Components of Passage in GMAT Reading Comprehension\\\\n\\\\nGMAT Reading Comprehension passages, typically around 350 words, assess your ability to interpret, infer, and identify logical relationships. While engaging with the passage, it is important to avoid straying from the given content. Ensure you stay focused on the passage\\'s topic and refrain from incorporating your personal ideas. Bringing external worldly knowledge into the interpretation may lead to divergence from the actual passage content.\\\\n\\\\n### Key components to consider:\\\\n\\\\n- Topic: What is the main subject of the passage?\\\\n- Scope: Which specific aspect of the topic does the passage concentrate on?\\\\n- Purpose: Why did the author write the passage?\\\\n- What notes would you jot down on your note board?\\\\n\\\\n### Types of Questions for GMAT Reading Comprehension\\\\n\\\\nLet\\'s break down GMAT Reading Comprehension question types for a clearer understanding:\\\\n\\\\n|     |     |\\\\n| --- | --- |\\\\n| Question Types | Description/Key Characteristics |\\\\n| Main Idea Questions | - One of the most common types of questions in the RC section.<br>- You\\\\u2019ll find at least one main idea question in all the passages.<br>- Identify the answer choice that matches the scope of the entire passage.<br>- Think of the big picture and not get distracted by the individual elements.<br>- Put all the pieces together and try to figure out what is the purpose of the passage. |\\\\n| Supporting Idea / Substantial Idea Questions | - Known as detail questions, they zoom in on single sentences or parts in the passage.<br>- Trickier than main idea questions.<br>- Require a thorough reading; may ask about facts or specific arguments that are explicitly cited in the passage.<br>- To answer, understanding the main idea and how details support it is crucial. |\\\\n| Inference / Assumption Questions | - More advanced than the two mentioned above.<br>- Require more critical thinking abilities.<br>- Include arguments and ideas that are implied by the author but not mentioned explicitly in the passage.<br>- To answer, think logically and make calculated assumptions about the author\\\\u2019s intentions.<br>- Read between the lines to comprehend implied, not explicitly stated, meanings. |\\\\n| Out of Framework / Out of Context | - Not related to the passage directly.<br>- These questions ask you to absorb the information present in the passage and apply it in an out of context situation.<br>- May ask you about the author\\\\u2019s views regarding a matter that is completely unrelated to the passage.<br>- Take the similar approach as with the inference type question.<br>- Primarily test your understanding of the main idea of the passage and your ability to apply it elsewhere; so take a much farther logical leap than before while answering. |\\\\n| Coherent Logical Structure | - Talk about the overall structure of the passage.<br>- Asks what the author is accomplishing by writing a passage in a particular way.<br>- For example, the question might have the following wording, \\\\u201cDoes the passage refute an idea?\\\\u201d, or \\\\u201cIs the author contrasting two ideas?\\\\u201d.<br>- Tests your ability to understand the structural flow of the passage.<br>- Sometimes, there can also be a question that asks for a suitable title for the passage. |\\\\n| Application Questions | - Applying passage information to new situations.<br>- Evaluate the passage structure, understanding specific elements\\' roles.<br>- May involve identifying why the author includes certain elements. |\\\\n| Style and Tone Questions | - Concentrate on determining the perspective or tone of mentioned individuals.<br>- Often inquire about agreement, disagreement, attitude, or beliefs of someone in the passage.<br>- You may be asked to identify the ideas in the passage and the tone used by the passage to express those ideas (generally, using a single word or a phrase. For example, critical, enthusiastic, optimistic, objective, etc. are the frequent choices). |\\\\n\\\\n### GMAT Critical Reasoning Syllabus\\\\n\\\\nIn this section, a candidate has to perform an analysis, based on the given argument and mark the right answer. You will be required to extract the relevant data that would either back or oppose the given argument and select the best possible option.\\\\n\\\\n### Types of Questions in GMAT Critical Reasoning Section\\\\n\\\\nThe Critical Reasoning section of the GMAT Focus Edition is designed to assess a candidate\\'s ability to evaluate arguments and develop logical reasoning skills. This section typically features the following types of questions:\\\\n\\\\n- Strengthen the Argument: These questions ask test-takers to identify new information that would make the argument more convincing. Candidates need to grasp the main point of the argument and find proof that supports it.\\\\n- Weaken the Argument: In these questions, the task is to find information that undermines the argument\\'s validity. This means identifying assumptions and showing possible flaws or conflicts in the logic.\\\\n- Identify Assumptions: These questions focus on uncovering unstated ideas that are critical to the argument\\'s conclusion. Spotting these assumptions is vital to understand the basis of the argument.\\\\n- Evaluate the Argument: Test-takers must determine which piece of information would be most useful to check how strong the argument is. This involves critical thinking to identify what evidence would impact the argument\\'s validity.\\\\n- Resolve a Paradox: These questions show statements that seem to clash. You have to find an answer that makes sense of the discrepancy using logic.\\\\n- Infer a Conclusion: Candidates must draw a logical conclusion based on the information provided, demonstrating their ability to put information together and derive logical outcomes.\\\\n\\\\nThese question types collectively test a candidate\\'s ability to construct, critique, and analyze arguments in the Critical Reasoning section of the GMAT exam.\\\\n\\\\n* * *\\\\n\\\\n## GMAT Quant Syllabus\\\\n\\\\nThe Quantitative Reasoning section in the focus edition contains 21 Problem-Solving questions. This section:\\\\n\\\\n- evaluates your basic knowledge in algebra and arithmetic.\\\\n- demands logical and analytical thinking.\\\\n- does not permit the use of calculators.\\\\n\\\\nKey requirement to excel in this section: Arithmetic and elementary algebra.\\\\n\\\\nYou get 45 minutes to solve the Quant section.\\\\n\\\\n### Types of Questions in GMAT Quant Section\\\\n\\\\nThe Quantitative Reasoning section aims to test a candidate\\'s problem-solving skills using basic math concepts. This section has problem-solving questions, divided into two main categories:\\\\n\\\\n### Algebraic Questions\\\\n\\\\nThese questions require understanding and applying various algebraic concepts, including:\\\\n\\\\n- Inequalities: Solving and interpreting inequalities.\\\\n- Functions: Understanding and manipulating functions.\\\\n- Quadratic Equations: Solving quadratic equations and interpreting their solutions.\\\\n- Linear Equations: Working with linear equations and systems of equations.\\\\n- Word Problems: Translating real-world situations into mathematical expressions and solving them.\\\\n- Absolute Values: Solving equations and inequalities involving absolute values.\\\\n- Sequences: Analyzing arithmetic and geometric sequences.\\\\n- Statistics: Understanding basic statistical measures and their applications.\\\\n\\\\n### Arithmetic Questions\\\\n\\\\nThese questions focus on fundamental arithmetic concepts, such as:\\\\n\\\\n- Ratios & Percentages: Calculating and interpreting ratios, proportions, and percentages.\\\\n- Number Systems: Understanding properties of integers, prime numbers, and other number types.\\\\n- Fractions & Decimal Systems: Operations involving fractions and decimals.\\\\n- Operations: Basic arithmetic operations and their properties.\\\\n- Root Numbers & Power Systems: Solving problems involving roots and exponents.\\\\n\\\\n**Note:** Data Sufficiency questions were previously a part of the Quantitative section. Now, they have been moved to the new Data Insights section. This change allows the Quantitative section to focus more on direct problem-solving skills while the Data Insights section evaluates data literacy and analytical skills.\\\\n\\\\n* * *\\\\n\\\\n## GMAT Data Insights Syllabus\\\\n\\\\nThe GMAT Data Insights section evaluates how well you can analyze data to apply it to real-world business scenarios. It also assesses your digital and data literacy. Below is a quick overview:\\\\n\\\\n|     |     |\\\\n| --- | --- |\\\\n| Total Number of Questions | 20 |\\\\n| Question Types | - Data Sufficiency<br>- Multi-Source Reasoning<br>- Table Anlaysis<br>- Graphics Interpretation<br>- Two-part Analysis |\\\\n| Question formats | Graphics, tables, text passages, numeric information. |\\\\n| Skills required | Math, data analysis, verbal reasoning |\\\\n| Calculator Permitted | Yes (on-screen calculator is allowed) |\\\\n| Score Range | 60-90 |\\\\n| Allotted Time | 45 minutes |\\\\n\\\\n### Types of Questions in GMAT Data Insights Section\\\\n\\\\nIn the GMAT Data Insights section, a mix of questions will assess your analytical abilities. These questions test your proficiency in interpreting different types of information and making informed decisions. Let us break down the key question types:\\\\n\\\\n##### **1\\\\\\\\. Data Sufficiency (4-8 Questions)**\\\\n\\\\n- Evaluates the ability to dissect and analyze quantitative problems.\\\\n- Assesses the capability for identifying data relevance.\\\\n- Determines skill in identifying the point where there is sufficient data to solve the problem.\\\\n\\\\n##### **2\\\\\\\\. Multi-Source Reasoning (2-4 Questions)**\\\\n\\\\n- Measures one\\\\u2019s aptitude in examining various data sources, like text passages and tables.\\\\n- Checks the ability to analyze each data source to answer multiple questions.\\\\n- Assesses whether one can draw inferences and evaluate data relevance.\\\\n\\\\n##### **3\\\\\\\\. Table Analysis (2-4 Questions)**\\\\n\\\\n- Gauges the ability to sort and analyze tabular data.\\\\n- Determines proficiency in identifying relevant information or identifying specific conditions.\\\\n\\\\n##### **4\\\\\\\\. Graphics Interpretation (4-6 Questions)**\\\\n\\\\n- Assess the capability to interpret information presented in graphical formats.\\\\n- May require discerning relationships and making inferences based on graphical data.\\\\n\\\\n##### **5\\\\\\\\. Two-Part Analysis (2-4 Questions)**\\\\n\\\\n- Measures problem-solving skills in handling complex scenarios.\\\\n- Tests the ability to evaluate trade-offs, identify relationships between two entities, and solve simultaneous equations.\\\\n\\\\n* * *\\\\n\\\\n## What are the Subjects under GMAT?\\\\n\\\\nThe GMAT exam does not categorize questions into traditional \\\\\"subjects\\\\\" but rather organizes them into three key sections, each focusing on specific skills and topics relevant to business management. This means you should study based on these sections and what topics they cover. So for example, if you are preparing for the category of Verbal Reasoning, you will study topics under the Critical Reasoning and Reading Comprehension. Similarly for Quant, you will focus on arithmetic and algebra topics. To ace the GMAT, you need to get the hang of each section\\'s topics step by step. Using resources like study guides, online GMAT coaching, and practice tests will help you get better at everything and boost your overall scores.\\\\n\\\\n* * *\\\\n\\\\n## Section-Wise GMAT Exam Syllabus Preparation\\\\n\\\\n### How to Prepare for GMAT Reading Comprehension Section?\\\\n\\\\nYour GMAT Verbal Ability score significantly depends on Reading Comprehension. Here are foolproof strategies to structure and time your GMAT Reading Comprehension preparation:\\\\n\\\\n##### **1\\\\\\\\. Skim the Passage \\\\\\\\[1 minute\\\\\\\\]:**\\\\n\\\\n- Skimming entails a quick read of the entire passage to grasp its general idea.\\\\n- Different from scanning, which seeks specific facts, skimming focuses on understanding the tone and overall concept.\\\\n\\\\n##### **2\\\\\\\\. Read the Questions \\\\\\\\[1 minute\\\\\\\\]:**\\\\n\\\\n- After skimming, glance at related questions, identifying their types.\\\\n- Mark questions based on types and approach each accordingly, considering the various question types mentioned above.\\\\n\\\\n##### **3\\\\\\\\. Read the Passage in Detail \\\\\\\\[2 minutes\\\\\\\\]:**\\\\n\\\\n- Refer back to the passage, reading it thoroughly for tiny details and specific facts.\\\\n- Stay focused, mindful of the timed nature of the GMAT; prioritize information relevant to the questions.\\\\n\\\\n##### **4\\\\\\\\. Answer Questions \\\\\\\\[1 minute\\\\\\\\]:**\\\\n\\\\n- Start with main idea questions first, requiring less mental effort.\\\\n- Progress to supporting idea questions, addressing explicit facts.\\\\n- Proceed in the suggested order for effectiveness, then choose your preferred order.\\\\n\\\\n##### **5\\\\\\\\. Identify Outliers \\\\\\\\[0.25 minutes\\\\\\\\]:**\\\\n\\\\n- Outliers are answer choices not explicitly stated but align with the question.\\\\n- Sharp attention and a strong grasp of the passage\\'s main idea help identify outliers.\\\\n- Leverage these outliers with solid reasoning to your advantage.\\\\n\\\\nIn addition to these preparation tips, you should definitely check out our unique [Strategies to Improve Score in GMA **T Reading Comprehension**](https://www.careerlauncher.com/gmat/reading-comprehension-strategy/) **to enhance your performance.**\\\\n\\\\n### How to Prepare for GMAT Critical Reasoning?\\\\n\\\\n**Here is an effective guide on preparing for Critical Reasoning on the GMAT:**\\\\n\\\\n- Follow the \\\\\"map that leads to you\\\\\": Familiarize yourself with the topic of critical reasoning. GMAT critical reasoning questions are intentionally analytical and confusing, often filled with jargon and sentences in harmony with themselves rather than being helpful to the student. Avoid excessive reading and focus on decoding controversial theories to identify evidentiary clues crucial for solving the question.\\\\n- Believe that slow and steady wins the race: Being ambitious means being slow and steady towards your ambition. Speed reading can only help you get so far. For every noteworthy entrance examination in the world, speed reading will only exhibit your reading ability. You need to interpret what\\'s going on in the question. This will help you understand the information provided from the data that needs to be assumed.\\\\n- Break down the questions sentence-wise: This will help you mindfully assess the situation presented in the question. As much as this question is subjective to an individual candidate\\\\u2019s own prepping strategy, this is also a quandary that states that you need to be smart, rather than being hard on yourself.\\\\n- Get a \\\\\"reason\\\\\" to start over new: Avoid wishy-washiness in critical reasoning questions. Align the question with your analytical reasoning capabilities and draw necessary conclusions. Identify both dominant and weak parts of the sentence, practicing the technique of gathering information based on the contextual meaning of the question.\\\\n- Learning reasoning helps you examine the dense usage of written content: Explore historical, geographical, and social themes within the paragraph. This will help assume or predict solutions for given questions.\\\\n- Steer ahead of conventional reading practices: Don\\\\u2019t just read, understand, summarize and formulate a derived context with related comments. It is all about throwing yourself open to challenges and successfully testing your power to extract the correct meaning from complex written information. This is also the \\\\\"main idea\\\\\" behind the birth of the critical reasoning (CR) questions.\\\\n\\\\n### How to Prepare for GMAT Quant Syllabus?\\\\n\\\\nThe GMAT Quant demands a strategic approach and dedicated effort. To optimize your preparation, follow these essential steps:\\\\n\\\\n##### **1\\\\\\\\. Familiarize Yourself with GMAT Quant Format:**\\\\n\\\\n- The GMAT Quant comprises 21 Problem-Solving questions, allowing 45 minutes for completion. The syllabus encompasses arithmetic and algebra.\\\\n- Common topics include percentages, ratios, rate problems, algebraic expressions, combinatorics, linear and quadratic equations, and statistical concepts.\\\\n- Study each topic thoroughly, understand underlying concepts, and assess your strengths and weaknesses.\\\\n\\\\n##### **2\\\\\\\\. Develop a Comprehensive Study Plan:**\\\\n\\\\n- Tailor a realistic study plan based on your strengths and weaknesses, ensuring a balanced approach.\\\\n- Allocate dedicated time to each topic, becoming an expert before moving on.\\\\n- Consistent and focused study sessions are key to mastering the diverse content of the GMAT Quant syllabus.\\\\n\\\\n##### **3\\\\\\\\. Utilize Official GMAT Materials:**\\\\n\\\\n- Leverage official GMAT preparation materials like the GMAT Official Guide and GMATPrep software, available on [com](https://www.mba.com/).\\\\n- Practice with real GMAT questions to familiarize yourself with the exam\\'s structure and question types.\\\\n\\\\n##### **4\\\\\\\\. Strengthen Fundamental Concepts:**\\\\n\\\\n- Study core principles of arithmetic and algebra to build a strong foundation.\\\\n- Master basic skills for solving questions of fractions, decimals, percentages, and setting up equations.\\\\n\\\\n##### **5\\\\\\\\. Emphasize Problem-Solving Techniques:**\\\\n\\\\n- Develop effective problem-solving techniques.\\\\n- Practice solving problems under timed conditions to enhance speed and accuracy.\\\\n\\\\n##### **6\\\\\\\\. Review Mistakes Regularly:**\\\\n\\\\n- Analyze and understand the reasoning behind incorrect answers to improve.\\\\n- Identify patterns in errors and refine your problem-solving approach.\\\\n\\\\n##### **7\\\\\\\\. Take Mock Tests:**\\\\n\\\\n- Simulate real exam conditions with full-length GMAT practice tests.\\\\n- Assess performance, identify weak areas, and refine strategies.\\\\n\\\\n##### **8\\\\\\\\. Focus on Time Management:**\\\\n\\\\n- Practice effective time management during study sessions to complete the section within the allotted time on exam day.\\\\n\\\\n##### **9\\\\\\\\. Explore Additional Resources:**\\\\n\\\\n- Supplement learning with online courses, tutoring, and GMAT forums for diverse perspectives.\\\\n\\\\n##### **10\\\\\\\\. Prepare with Our Expert GMAT Faculty:**\\\\n\\\\n- Enroll in our comprehensive [GMAT Focus Edition coaching classes](https://www.careerlauncher.com/gmat/online-coaching/) structured to create a conducive learning atmosphere. Our experienced mentors provide valuable support, helping you ace your [GMAT preparation](https://www.careerlauncher.com/gmat/how-to-prepare-for-gmat/).\\\\n\\\\nRemember that the GMAT Quant section does not feature data sufficiency problems. While the content may have changed, your learning approach should stay constant. So, emphasis on studying math topics since they apply to a variety of question types, particularly in the Data Insights section of the Gmat Focus Edition.\\\\n\\\\n### How to Prepare for Data Insights?\\\\n\\\\n**To master Data Insights, keep these key aspects in mind:**\\\\n\\\\n- Understanding Data Insights Question Types\\\\n- Prepare for the Data Insights section by understanding its unique question types. This section introduces five distinct categories: Data Sufficiency, Graphics Interpretation, Table Analysis, Two-Part Analysis, and Multi-source Reasoning. The key is to develop your ability to process information effectively.Mastering Real-World Data Processing Skills\\\\n- In Data Insights, you are tasked with extracting insights from potentially imperfect data displays. This section simulates real-world scenarios. Learn to pay attention to the language used in questions and texts.Build Strategic Study Approach\\\\n- Data Insights requires a varied skill set, so you would need to adopt a strategic approach to your preparation. While delving into Quant topics like algebra, probability, and statistics, it also incorporates a verbal component like that of critical reasoning. Strengthen your Quant skills, especially statistics, and enhance critical reasoning and reading comprehension skills. From here, gradually integrate Data Insights questions from the newer official guides in your preparation. This ensures a methodical buildup without prematurely exhausting official question resources.Utilize Practice Tests for Holistic Assessment\\\\n- Strengthen understanding and confidence through practice and strategic review. Regular practice tests offer a holistic performance assessment, aligning with your overall strategy. Dive into detailed analytics from mock/practice tests to pinpoint weak areas, enabling effective focus and refinement.Mastering Time in Data Insights\\\\n\\\\nWith an average of two minutes and 15 seconds per question, effective time management is crucial. While the new GMAT allows changes to three answers and review flexibility, resist spending excessive time on a single question. While you prepare, allocate time wisely to mitigate the time pressure in the Data Insights section.\\\\n\\\\nIn addition to these tips, you can learn to tackle each question type on the GMAT Focus Edition\\\\u2019s Data Insights section with our comprehensive article on [Tips to Prepare for GMAT Data Insights.](https://www.careerlauncher.com/gmat/tips-for-gmat-data-insights/)\\\\n\\\\n**Also Read:** [**Try Data Insights Sample Questions**](https://study-abroad.careerlauncher.com/gmat/gmat-data-insights-sample-questions/)\\\\n\\\\n* * *\\\\n\\\\n## Does Understanding the GMAT Syllabus Boost Exam Preparation?\\\\n\\\\nA thorough understanding of GMAT topics can help you prioritize your study time and allocate more time to areas where you need improvement. Additionally, check out our articles on GMAT preparation to streamline your study approach.\\\\n\\\\n### Articles for GMAT Preparation\\\\n\\\\n[**Why GMAT?**](https://blog.careerlauncher.com/why-you-should-look-at-gmat-too/) [**When to Take GMAT**\\\\\\\\\\\\\\\\\\\\n**Exam?**](https://www.careerlauncher.com/gmat/when-to-take-gmat-exam/) [**How to Prepare for**\\\\\\\\\\\\\\\\\\\\n**GMAT?**](https://www.careerlauncher.com/gmat/how-to-prepare-for-gmat/) [**How to build MBA**\\\\\\\\\\\\\\\\\\\\n**resume ?**](https://www.careerlauncher.com/gmat/how-to-build-your-mba-resume/) [**Sentence correction for**\\\\\\\\\\\\\\\\\\\\n**GMAT**](https://blog.careerlauncher.com/gmat-sentence-correction/) [**How to**\\\\\\\\\\\\\\\\\\\\n**write SOP for study abroad?**](https://blog.careerlauncher.com/begin-sop-international-education-application/) [**Interview**\\\\\\\\\\\\\\\\\\\\n**Prep for Ivy League B School**](https://blog.careerlauncher.com/my-interview-experience-at-johnson-cornell-university-an-ivy-league-b-school/) [**10 ways to develop**\\\\\\\\\\\\\\\\\\\\n**reading habit**](https://blog.careerlauncher.com/10-ways-develop-reading-habit/) [**GMAT retakers**\\\\\\\\\\\\\\\\\\\\n**strategize**](https://blog.careerlauncher.com/gmat-retakers-strategize-better/) [**GMAT Classroom Program**](https://www.careerlauncher.com/gmat/classroom/) [**GMAT Online Class**](https://www.careerlauncher.com/gmat/online-coaching/) [**GMAT Private**\\\\\\\\\\\\\\\\\\\\n**Tutoring**](https://www.careerlauncher.com/gmat/online-private-tutoring/)\\\\n\\\\n## Start Your GMAT Journey with Career Launcher\\\\n\\\\nJoin us for a free diagnostic test, access study materials, or sign up for our free webinar!\\\\n\\\\n[**Free Diagnostic**\\\\\\\\\\\\\\\\\\\\n**Test**](https://www.careerlauncher.com/gmat/diagnostic-test/) [**GMAT**\\\\\\\\\\\\\\\\\\\\n**Study Material**](https://www.careerlauncher.com/cl-online/ProductPage.jsp?prodeid=rzJknL4IX84=&prodCat=GMAT&prodGroup=Books%20and%20Study%20Material&rt=&rl=&source=default&method=default) [**Join**\\\\\\\\\\\\\\\\\\\\n**Free Webinar**](https://www.careerlauncher.com/study-abroad/upcoming-live-events/)\\\\n\\\\n## What After the GMAT Exam?\\\\n\\\\nWhether you aspire to [study abroad](https://www.careerlauncher.com/study-abroad/) or in\\\\nIndia, we are here to support your journey every step of the way.\\\\n\\\\n### Study Abroad\\\\n\\\\n[**Study in USA ![USA Flag](https://www.careerlauncher.com/study-abroad/images/usa-flag.jpg)** Know More![Study in USA](https://www.careerlauncher.com/study-abroad/images/usa.jpg)](https://www.careerlauncher.com/study-abroad/usa/)\\\\n\\\\n[**Study in UK ![UK Flag](https://www.careerlauncher.com/study-abroad/images/uk-flag.jpg)** Know More![Study in UK](https://www.careerlauncher.com/study-abroad/images/uk.jpg)](https://www.careerlauncher.com/study-abroad/uk/)\\\\n\\\\n[**Study in Canada ![Canada Flag](https://www.careerlauncher.com/study-abroad/images/canada-flag.jpg)** Know More![](https://clsite-file1.s3.amazonaws.com/6858_studycanada.jpg)](https://www.careerlauncher.com/study-abroad/canada/)\\\\n\\\\n[**Study in Australia ![](https://clsite-file1.s3.amazonaws.com/6858_australia-flag.jpg)** Know More![](https://clsite-file1.s3.amazonaws.com/6858_australia.jpg)](https://www.careerlauncher.com/study-abroad/australia/)\\\\n\\\\n### Study in India\\\\n\\\\n[Indian School of Business](https://www.careerlauncher.com/gmat/about-isb/)\\\\n\\\\n## FAQs\\\\n\\\\n#### [Where can I get the full GMAT\\\\\\\\ syllabus?](https://www.careerlauncher.com/gmat/exam-syllabus/\\\\\\\\#collapse-1)\\\\n\\\\nYou can find the complete GMAT syllabus and detailed information about the test on the official\\\\nwebsite: [https://www.mba.com/](https://www.mba.com/).\\\\n\\\\n#### [Is\\\\\\\\ the CAT and GMAT syllabus the same?](https://www.careerlauncher.com/gmat/exam-syllabus/\\\\\\\\#collapse-2)\\\\n\\\\nThe GMAT covers Quantitative Reasoning, Verbal Reasoning, and Data Insights. The CAT has Verbal\\\\nAbility and Reading Comprehension (VARC), Data Interpretation and Logical Reasoning (DILR), and\\\\nQuantitative Aptitude (QA). This broader coverage sets the CAT apart from the GMAT\\'s new version.\\\\nAdditionally, the CAT emphasizes geometry in its Quant section, but the GMAT doesn\\'t have it\\\\nanymore. The CAT includes logical reasoning, which the GMAT doesn\\'t.\\\\n\\\\n#### [Is the\\\\\\\\ GMAT syllabus changing?](https://www.careerlauncher.com/gmat/exam-syllabus/\\\\\\\\#collapse-3)\\\\n\\\\nYes, the GMAT syllabus has undergone changes, having removed the Analytical Writing Assessment\\\\nsection and sentence correction. The three sections of the new GMAT are: Quantitative Reasoning,\\\\nVerbal Reasoning, and Data Insights.\\\\n\\\\n#### [What\\\\\\\\ is new in the GMAT syllabus?](https://www.careerlauncher.com/gmat/exam-syllabus/\\\\\\\\#collapse-4)\\\\n\\\\nIn the GMAT Focus Edition, significant changes are evident. The exam lasts 2 hours and 15 minutes,\\\\nfeaturing 64 questions across three sections: Quantitative Reasoning (QR), Verbal Reasoning (VR),\\\\nand Data Insights (DI). The Quantitative Reasoning section is shorter, with 21 Problem-Solving\\\\nquestions in 45 minutes. Verbal Reasoning omits Sentence Correction, offering 23 Critical Reasoning\\\\nand Reading Comprehension questions in 45 minutes. Data Insights, a new section, combines Integrated\\\\nReasoning question types with Data Sufficiency, presenting 20 questions in 45 minutes. These\\\\nalterations reflect a revamped syllabus aimed at better assessing candidates\\' skills.\\\\n\\\\n#### [Can I\\\\\\\\ find GMAT syllabus practice questions online?](https://www.careerlauncher.com/gmat/exam-syllabus/\\\\\\\\#collapse-5)\\\\n\\\\nYes! You can discover GMAT syllabus practice questions online. Speak with our experts to gain\\\\naccess to our comprehensive prep courses, comprising 2800+ practice questions and 6 full-length mock\\\\nexams with thorough analysis.\\\\n\\\\n#### [How\\\\\\\\ can I best prepare for the GMAT syllabus?](https://www.careerlauncher.com/gmat/exam-syllabus/\\\\\\\\#collapse-6)\\\\n\\\\nFamiliarize yourself with the GMAT syllabus and format. Develop a structured study plan, focusing\\\\non areas needing improvement. Utilize GMAT prep resources like practice tests, and study guides. It\\\\nis essential to practice time management to complete sections within the allotted time. You may also\\\\nconsider seeking guidance from experienced tutors or prep courses.\\\\n\\\\n#### [Is\\\\\\\\ there a specific order in which I should tackle the sections of the GMAT?](https://www.careerlauncher.com/gmat/exam-syllabus/\\\\\\\\#collapse-7)\\\\n\\\\nThe GMAT offers flexibility in section order; therefore, you can tackle the sections of the GMAT in\\\\nany order you like.\\\\n\\\\n#### [Are\\\\\\\\ there any specific resources available to help with GMAT syllabus preparation?](https://www.careerlauncher.com/gmat/exam-syllabus/\\\\\\\\#collapse-8)\\\\n\\\\nThe primary resource for GMAT preparation is the Official Guide series, developed by the GMAT\\\\nauthorities themselves. It provides real GMAT questions. Plus, we have GMAT prep programs that offer\\\\ninvaluable resources to boost your score. If you are looking for GMAT coaching from experts, our\\\\ncounselors are here to assist you.\\\\n\\\\n#### [Is GMAT Syllabus Updated?](https://www.careerlauncher.com/gmat/exam-syllabus/\\\\\\\\#collapse-9)\\\\n\\\\nYes, the GMAT syllabus has been updated with the introduction of the GMAT Focus Edition. Notably, the Analytical Writing Assessment (AWA) and Integrated Reasoning (IR) sections have been removed. Instead, a new section called Data Insights has been introduced, which combines elements of data sufficiency and multi-source reasoning.\\\\n\\\\n#### [How many sections are there in the new GMAT syllabus?](https://www.careerlauncher.com/gmat/exam-syllabus/\\\\\\\\#collapse-10)\\\\n\\\\nThe GMAT Focus Edition consists of three main sections: Verbal Reasoning, Quantitative Reasoning, and Data Insights. The Verbal Reasoning section includes critical reasoning and reading comprehension. The Quantitative Reasoning section focuses on arithmetic and algebra, with geometry being removed. The new Data Insights section tests data literacy through multi-source reasoning and graphical interpretation.\\\\n\\\\n#### [Is the New GMAT Syllabus Easier than the Classic GMAT Syllabus?](https://www.careerlauncher.com/gmat/exam-syllabus/\\\\\\\\#collapse-11)\\\\n\\\\nThe new GMAT syllabus is not necessarily easier but is more focused. By removing the AWA and IR sections, the GMAT Focus Edition reduces the overall test duration and concentrates on core skills like data analysis and critical reasoning. The perceived difficulty will depend on individual strengths and preparation strategies.\\\\n\\\\n[Back to Top](https://www.careerlauncher.com/gmat/exam-syllabus/#head)\\\\n\\\\n## Study with us\\\\n\\\\n[After-School](https://www.careerlauncher.com/gmat/exam-syllabus/#collapsesix)\\\\n\\\\n- [LAW](https://www.careerlauncher.com/law/)\\\\n- [CUET](https://www.careerlauncher.com/cucet/)\\\\n- [BBA-HM](https://www.careerlauncher.com/after12/)\\\\n- [IPM](https://www.careerlauncher.com/ipm/)\\\\n- [Tuition](https://www.careerlauncher.com/cbse-ncert/)\\\\n- [Career Counseling](https://www.careerlauncher.com/counselling/)\\\\n\\\\n[After-College](https://www.careerlauncher.com/gmat/exam-syllabus/#collapseseven)\\\\n\\\\n- [MBA](https://www.careerlauncher.com/cat-mba/)\\\\n- [GATE](https://www.careerlauncher.com/gate/)\\\\n- [Placements](https://www.careerlauncher.com/crt/)\\\\n- [Interviews](https://www.careerlauncher.com/iGuru/)\\\\n\\\\n[Study-Abroad](https://www.careerlauncher.com/gmat/exam-syllabus/#collapseeight)\\\\n\\\\n- [GMAT](https://www.careerlauncher.com/gmat/)\\\\n- [GRE](https://www.careerlauncher.com/gre/)\\\\n- [SAT](https://www.careerlauncher.com/sat/)\\\\n- [IELTS](https://www.careerlauncher.com/ielts/)\\\\n- [Admission Consulting](https://www.careerlauncher.com/admission-consulting/)\\\\n\\\\n[Upskilling](https://www.careerlauncher.com/gmat/exam-syllabus/#collapsenine)\\\\n\\\\n- [FinSchool](https://www.careerlauncher.com/finschool/)\\\\n- [DataSchool](https://www.careerlauncher.com/machine-learning/)\\\\n\\\\n[Webinar](https://www.careerlauncher.com/gmat/exam-syllabus/#collapseten)\\\\n\\\\n- [Exam Prep](https://www.careerlauncher.com/webinar/)\\\\n- [Tuitions & Boards](https://www.careerlauncher.com/webinar/tuitions/)\\\\n- [Under-Graduate](https://www.careerlauncher.com/webinar/ug/)\\\\n- [Post-Graduate](https://www.careerlauncher.com/webinar/pg/)\\\\n\\\\n## Reach Us\\\\n\\\\n- [Corporate Contacts](https://www.careerlauncher.com/contactus/head-office.html)\\\\n- [Find a Center](https://www.careerlauncher.com/contactus/)\\\\n- [Become a Franchisee](https://www.careerlauncher.com/partner/)\\\\n- [Become an Employee](https://www.careerlauncher.com/aboutus/careers/)\\\\n\\\\n## Know Us\\\\n\\\\n- [Overview](https://www.careerlauncher.com/aboutus/)\\\\n- [Board of Directors](https://www.careerlauncher.com/aboutus/board-of-directors.html)\\\\n- [Management Team](https://www.careerlauncher.com/aboutus/management-team.html)\\\\n- [Media Coverage](https://www.careerlauncher.com/aboutus/media.html)\\\\n\\\\n## Go Social\\\\n\\\\n- [Facebook](https://www.facebook.com/CLRocks)\\\\n- [Instagram](https://www.instagram.com/career_launcher/)\\\\n- [Linkedin](https://www.linkedin.com/company/career-launcher/)\\\\n- [Quora](https://www.quora.com/profile/Career-Launcher-8)\\\\n- [Twitter](https://twitter.com/careerlauncher)\\\\n- [YouTube](https://www.youtube.com/user/CareerLauncherMedia)\\\\n\\\\n## Enroll Now\\\\n\\\\n- [Log-In](https://www.careerlauncher.com/sis/)\\\\n- [Sign-Up](https://myzone.careerlauncher.com/)\\\\n\\\\n- [![](https://www.careerlauncher.com/images/android.png)](https://play.google.com/store/apps/details?id=com.careerlauncher.ai)\\\\n- [![](https://www.careerlauncher.com/images/app-store.png)](https://itunes.apple.com/us/app/cl-exam-guide/id1080624590?ls=1&mt=8)\\\\n\\\\n![CL](https://www.careerlauncher.com/images/logo-white.png)\\\\n\\\\n- [India](https://www.careerlauncher.com/)\\\\n- [Dubai](http://www.careerlauncheruae.com/)\\\\n- [Singapore](http://sg.careerlauncher.com/)\\\\n\\\\n## Business Verticals\\\\n\\\\n- [GK Publications\\\\\\\\\\\\\\\\\\\\n\\\\\\\\\\\\\\\\\\\\nBooks & \\\\\\\\\\\\\\\\\\\\n\\\\\\\\\\\\\\\\\\\\nPublication](http://www.gkpublications.com/)\\\\n- [Kestone\\\\\\\\\\\\\\\\\\\\n\\\\\\\\\\\\\\\\\\\\nMarketing\\\\\\\\\\\\\\\\\\\\n\\\\\\\\\\\\\\\\\\\\nServices](https://kestoneglobal.com/)\\\\n- [WAIN-Connect\\\\\\\\\\\\\\\\\\\\n\\\\\\\\\\\\\\\\\\\\nAcademia-Industry\\\\\\\\\\\\\\\\\\\\n\\\\\\\\\\\\\\\\\\\\nNetwork](http://wainconnect.com//)\\\\n\\\\n## Academic Verticals\\\\n\\\\n- [Law Entrance\\\\\\\\\\\\\\\\\\\\n\\\\\\\\\\\\\\\\\\\\nCoaching for \\\\\\\\\\\\\\\\\\\\n\\\\\\\\\\\\\\\\\\\\nCLAT AILET LSAT](https://www.lawentrance.com/)\\\\n- [GATE Entrance\\\\\\\\\\\\\\\\\\\\n\\\\\\\\\\\\\\\\\\\\nCoaching for \\\\\\\\\\\\\\\\\\\\n\\\\\\\\\\\\\\\\\\\\nGATE IES PSU](https://www.careerlauncher.com/gate/)\\\\n- [Futuremap \\\\\\\\\\\\\\\\\\\\n\\\\\\\\\\\\\\\\\\\\nCareer\\\\\\\\\\\\\\\\\\\\n\\\\\\\\\\\\\\\\\\\\nGuidance](http://futuremap.in/)\\\\n\\\\n- [Privacy Policy & Terms of Sale](https://www.careerlauncher.com/privacy.html)\\\\n- 8130-038-836\\\\n- \\\\u00a9 CL Educate Ltd\\\\n\\\\nWeb Bot\\\\n\\\\nWeb Bot\\\\n\\\\n![](https://bat.bing.com/action/0?ti=134599045&tm=gtm002&Ver=2&mid=49ffc2bf-a1d5-49a0-b2fc-5677a4982377&bo=1&sid=9dc72600fd8211efb05e114503917025&vid=9dc739a0fd8211efa8305b402ef1b163&vids=1&msclkid=N&pi=918639831&lg=en-US&sw=1280&sh=1024&sc=24&tl=GMAT%20Syllabus%202025%3A%20Section-wise%20Quant,%20Verbal,%20Data%20Insights&p=https%3A%2F%2Fwww.careerlauncher.com%2Fgmat%2Fexam-syllabus%2F&r=&lt=2479&evt=pageLoad&sv=1&cdb=AQAQ&rn=897910)\", \"metadata\": {\"url\": \"https://www.careerlauncher.com/gmat/exam-syllabus/\", \"title\": \"GMAT Syllabus 2025: Section-wise Quant, Verbal, Data Insights\", \"robots\": \"noindex\", \"favicon\": {}, \"language\": \"en\", \"position\": [\"1\", \"2\"], \"scrapeId\": \"2eaf31d3-9fa6-4f2c-83fd-b3f112b6c4e5\", \"viewport\": [\"width=device-width, initial-scale=1\", \"width=device-width, initial-scale=1\", \"width=device-width, initial-scale=1\", \"width=device-width, initial-scale=1.0, maximum-scale=5.0\", \"width=device-width, initial-scale=1.0, maximum-scale=5.0\"], \"sourceURL\": \"https://www.careerlauncher.com/gmat/exam-syllabus/\", \"statusCode\": 200, \"description\": [\"This is a detailed section-wise GMAT syllabus as per the focus edition issued by GMAC. The syllabus includes 3 sections with 21 questions in quant, 23 in verbal, and 20 in data insights.\", \"Leadsquared Chatbot Application.\", \"Leadsquared Chatbot Application.\"], \"theme-color\": \"#4285f4\", \"msapplication-navbutton-color\": \"#4285f4\", \"apple-mobile-web-app-status-bar-style\": \"#4285f4\"}}]}', 'tool_call_id': 'call_gpUJH10hOsuPYhuW8WlDGfOd', 'tool_name': 'crawl_website', 'tool_args': {'url': 'https://www.careerlauncher.com/gmat/exam-syllabus/'}, 'tool_call_error': False, 'metrics': MessageMetrics(input_tokens=0, output_tokens=0, total_tokens=0, prompt_tokens=0, completion_tokens=0, prompt_tokens_details=None, completion_tokens_details=None, additional_metrics=None, time=31.446658594999917, time_to_first_token=None, timer=None), 'created_at': 1741592318}], images=None, videos=None, audio=None, response_audio=None, extra_data=None, created_at=1741590950)"
            ]
          },
          "metadata": {},
          "execution_count": 21
        }
      ]
    },
    {
      "cell_type": "code",
      "source": [
        "Crawl =Agent(name=\"Crawl Agent\",\n",
        "               tools=[FirecrawlTools(scrape=False, crawl=True)],\n",
        "               show_tool_calls=True,\n",
        "               description=\"You are an Crawler Crawl to the given site and extract syllabus from the site\",\n",
        "               instructions=\"Give syllabus for the specified exam from the given url\",\n",
        "               markdown=True,\n",
        ")\n",
        "Crawl.run(message=\"tell me GMAT syllabus from this site https://www.careerlauncher.com/gmat/exam-syllabus/ , Remember dont include promotion , courses and external links\").content\n"
      ],
      "metadata": {
        "colab": {
          "base_uri": "https://localhost:8080/",
          "height": 227
        },
        "id": "OM3JQHJb_VFX",
        "outputId": "e20efe8c-7866-4d69-a591-12431957a23f"
      },
      "execution_count": 26,
      "outputs": [
        {
          "output_type": "execute_result",
          "data": {
            "text/plain": [
              "' - Running: crawl_website(url=https://www.careerlauncher.com/gmat/exam-syllabus/, limit=5)\\n\\nHere is a summarized GMAT Syllabus as per the Focus Edition from the provided site:\\n\\n### GMAT Exam Syllabus 2025\\n\\nThe GMAT syllabus has been restructured to include three sections: Verbal Reasoning, Quantitative Reasoning, and Data Insights, each lasting 45 minutes. The changes emphasize critical reasoning, data analysis, and problem-solving abilities.\\n\\n#### Key Takeaways:\\n- **Three Sections**: Verbal Reasoning, Quantitative Reasoning, and Data Insights.\\n- Focus on:\\n  - **Verbal Reasoning**: Critical reasoning and reading comprehension.\\n  - **Quantitative Reasoning**: Problem-solving in arithmetic and algebra (without geometry).\\n  - **Data Insights**: Data literacy through data sufficiency, multi-source reasoning, table analysis, graphics interpretation, and two-part analysis.\\n- Removed the essay component and sentence correction from the exam.\\n\\n### Section-wise Breakdown\\n\\n#### Verbal Reasoning\\n- *Time*: 45 minutes\\n- *Questions*: 23 (Critical Reasoning, Reading Comprehension)\\n- Tests ability to read, comprehend, and critically evaluate written material.\\n\\n#### Quantitative Reasoning\\n- *Time*: 45 minutes\\n- *Questions*: 21 Problem-solving\\n- Focuses on arithmetic and elementary algebra.\\n\\n#### Data Insights\\n- *Time*: 45 minutes\\n- *Questions*: 20\\n- Evaluates ability to analyze data from various sources, with an emphasis on digital literacy.\\n\\n### New Additions & Removals\\n- Introduction of data insights section.\\n- Removal of Analytical Writing section and geometry questions.\\n- Focus on developing data literacy and analytical skills.\\n\\n### Skills and Concepts Covered:\\n- **Verbal Reasoning**: Reading comprehension, critical reasoning.\\n- **Quantitative Reasoning**: Arithmetic, algebra.\\n- **Data Insights**: Data interpretation and problem-solving using real-world data scenarios.\\n\\nFor a complete understanding, further preparation focusing on the specific skills required by each section will be beneficial.'"
            ],
            "application/vnd.google.colaboratory.intrinsic+json": {
              "type": "string"
            }
          },
          "metadata": {},
          "execution_count": 26
        }
      ]
    },
    {
      "cell_type": "code",
      "source": [
        "import re\n",
        "Crawl =Agent(name=\"Crawl Agent\",\n",
        "               tools=[FirecrawlTools(scrape=False, crawl=True)],\n",
        "               show_tool_calls=True,\n",
        "               description=\"You are an Crawler Crawl to the given site and extract syllabus from the site\",\n",
        "               instructions=\"Give syllabus for the specified exam from the given url\",\n",
        "               markdown=True,\n",
        ")\n",
        "websearch = Agent(name=\"Web Search Agent \",\n",
        "                  description=\"Agent that performs web search using DuckDuckGo API\",\n",
        "                  tools=[DuckDuckGoTools()],\n",
        "                  instructions=[\"Always include sources\"],\n",
        "                  show_tool_calls=True,\n",
        "                  markdown=True,\n",
        "                  )\n",
        "def extract_links(text):\n",
        "    \"\"\"Extracts URLs from a given text using regex.\"\"\"\n",
        "    url_pattern = r\"https?://[^\\s<>\\\"']+\"  # Match HTTP/HTTPS URLs\n",
        "    return re.findall(url_pattern, text)\n",
        "\n",
        "def fetch_gmat_syllabus():\n",
        "    \"\"\"Fetch GMAT syllabus using a web search and crawl extracted links.\"\"\"\n",
        "\n",
        "    # Step 1: Perform web search\n",
        "    agent_response = websearch.run(message=\"Tell me about GMAT 2025 syllabus\")\n",
        "\n",
        "    # Extract main content\n",
        "    response_content = agent_response.content\n",
        "    if not response_content:\n",
        "        print(\"No direct content found in the response.\")\n",
        "        return\n",
        "\n",
        "    print(\"Cleaned Response:\", response_content.strip())\n",
        "\n",
        "    # Step 2: Extract links using regex\n",
        "    links = extract_links(response_content)\n",
        "\n",
        "    if not links:\n",
        "        print(\"No relevant links found in the response.\")\n",
        "        return\n",
        "\n",
        "    # Step 3: Crawl each extracted link\n",
        "    syllabus=\"\"\n",
        "    for link in links:\n",
        "        crawl_message = f\"tell me GMAT syllabus from this site {link}. Remember, don’t include promotions, courses, or external links.\"\n",
        "        crawl_response = Crawl.run(message=crawl_message).content\n",
        "\n",
        "        if crawl_response:\n",
        "            print(f\"\\nSyllabus from {link}:\\n\", crawl_response.strip())\n",
        "            syllabus+=crawl_response.strip()\n",
        "        else:\n",
        "            print(f\"\\nNo syllabus found at {link}.\")\n",
        "    return syllabus\n",
        "\n",
        "# Run the function\n",
        "print(fetch_gmat_syllabus())\n"
      ],
      "metadata": {
        "colab": {
          "base_uri": "https://localhost:8080/"
        },
        "id": "GyBIuy-A_8-R",
        "outputId": "986fad25-0ca8-4694-c204-f1d027c4815d"
      },
      "execution_count": 27,
      "outputs": [
        {
          "output_type": "stream",
          "name": "stdout",
          "text": [
            "Cleaned Response: - Running: duckduckgo_search(query=GMAT 2025 syllabus)\n",
            "\n",
            "The GMAT 2025 syllabus introduces a streamlined format, effective from November 2023, featuring three main sections:\n",
            "\n",
            "1. **Verbal Reasoning**: This section includes Critical Reasoning and Reading Comprehension questions. It aims to assess a candidate's ability to understand and evaluate concepts presented in written form.\n",
            "\n",
            "2. **Quantitative Reasoning**: This section evaluates mathematical skills, focusing on problem-solving and data sufficiency questions.\n",
            "\n",
            "3. **Data Insights**: A newly introduced section in the GMAT Focus Edition, this part assesses a candidate's ability to analyze and interpret data from various sources like tables, text passages, and graphics.\n",
            "\n",
            "Each section is designed to last 45 minutes, putting emphasis on critical reasoning, data analysis, and interpretation skills to resonate with relevant career paths.\n",
            "\n",
            "For more detailed information, you can check the following sources:\n",
            "\n",
            "- [Career Launcher](https://www.careerlauncher.com/gmat/exam-syllabus/)\n",
            "- [College Batch](https://www.collegebatch.com/exams/gmat-syllabus)\n",
            "- [Adda247](https://www.adda247.com/school/gmat-syllabus/)\n",
            "\n",
            "These resources provide a comprehensive breakdown of the topics covered, including strategies and sample questions to maximize scores on the GMAT.\n",
            "\n",
            "Syllabus from https://www.careerlauncher.com/gmat/exam-syllabus/):\n",
            " - Running: crawl_website(url=https://www.careerlauncher.com/gmat/exam-syllabus/, limit=10)\n",
            "\n",
            "Here's the GMAT Syllabus as per the details extracted from the provided website:\n",
            "\n",
            "### GMAT Exam Syllabus 2025\n",
            "The GMAT Focus Edition introduces three main sections effective from November 2023: Verbal Reasoning, Quantitative Reasoning, and Data Insights. These sections focus on critical reasoning, data analysis, and problem-solving skills.\n",
            "\n",
            "#### Key Takeaways:\n",
            "- **Verbal Reasoning**: Focuses on critical reasoning and reading comprehension. Each section lasts 45 minutes.\n",
            "- **Quantitative Reasoning**: Focuses on arithmetic and algebra. Geometry has been removed. Calculators are not allowed.\n",
            "- **Data Insights**: A new section focusing on data literacy. Includes multi-source reasoning, table analysis, graphics interpretation, and two-part analysis. An on-screen calculator is permitted.\n",
            "\n",
            "#### GMAT Verbal Reasoning\n",
            "- **Time Allotted**: 45 minutes\n",
            "- **Skills Evaluated**: Reading comprehension, critical reasoning, logical deduction.\n",
            "- **Question Types**: Reading comprehension questions (analyzing written passages), and critical reasoning (analyzing and evaluating arguments).\n",
            "\n",
            "#### GMAT Quantitative Reasoning\n",
            "- **Time Allotted**: 45 minutes\n",
            "- **Skills Evaluated**: Basic knowledge in algebra and arithmetic, logical and analytical thinking.\n",
            "- **Question Types**: Problem-solving based on arithmetic and elementary algebra.\n",
            "\n",
            "#### GMAT Data Insights\n",
            "- **Time Allotted**: 45 minutes\n",
            "- **Skills Evaluated**: Analyzing and interpreting data in real-world business contexts.\n",
            "- **Question Types**: Data sufficiency, multi-source reasoning, table analysis, graphics interpretation, and two-part analysis. \n",
            "\n",
            "Each section of the GMAT is designed to assess critical skills required for success in business management programs. The GMAT Focus Edition format does not include geometry in the Quantitative section and has removed the Analytical Writing section and sentence correction questions.\n",
            "\n",
            "The exam's total duration is approximately 2 hours and 15 minutes, consisting of 64 questions across all sections. Understanding the revised syllabus is crucial for effective preparation and excelling in the GMAT exam.\n",
            "\n",
            "Syllabus from https://www.collegebatch.com/exams/gmat-syllabus):\n",
            " - Running: crawl_website(url=https://www.collegebatch.com/exams/gmat-syllabus, limit=5)\n",
            "\n",
            "### GMAT Syllabus 2025\n",
            "\n",
            "The GMAT syllabus for 2025 consists of three main sections, designed to evaluate specific skills relevant to career paths:\n",
            "\n",
            "1. **Quantitative Reasoning**\n",
            "    - **Major Topics:**\n",
            "      - Arithmetic\n",
            "      - Elementary Algebra\n",
            "    - **Topics Covered:**\n",
            "      - Data Interpretation\n",
            "      - Managerial Statistics\n",
            "      - Accounting\n",
            "      - Finance\n",
            "      - Word Problems\n",
            "\n",
            "2. **Verbal Reasoning**\n",
            "    - **Major Topics:**\n",
            "      - Reading Comprehension\n",
            "      - Critical Reasoning\n",
            "    - **Topics Covered:**\n",
            "      - **Reading Comprehension Sub-topics:**\n",
            "        - Main Idea\n",
            "        - Supporting Idea\n",
            "        - Inference\n",
            "        - Application\n",
            "        - Logical Structure\n",
            "        - Style\n",
            "      - **Critical Reasoning Sub-topics:**\n",
            "        - Argument Building\n",
            "        - Argument Evaluation\n",
            "        - Formulation/Evaluation of the Plan of Action\n",
            "\n",
            "3. **Data Insights**\n",
            "    - **Topics Covered:**\n",
            "      - **Data Sufficiency**\n",
            "        - Analyzing Quantitative Problem\n",
            "        - Recognizing Relevant Data\n",
            "        - Data Solving Efficiency\n",
            "      - **Multi-Source Reasoning**\n",
            "        - Text Passages\n",
            "        - Tables\n",
            "        - Graphics\n",
            "        - Recognizing Discrepancies among Data Sources\n",
            "        - Drawing Inferences\n",
            "        - Determining Relevant Data\n",
            "      - **Graphics Interpretation**\n",
            "        - Scatter Plot\n",
            "        - X / Y Graph\n",
            "        - Bar Chart\n",
            "        - Pie Chart\n",
            "        - Statistical Curve Distribution\n",
            "      - **Two-Part Analysis**\n",
            "        - Quantitative\n",
            "        - Verbal\n",
            "      - **Table Analysis**\n",
            "\n",
            "Each section is allotted a time duration of 45 minutes, with a total exam time of 135 minutes. This structure is designed to test skills that align with business problem-solving and reasoning capabilities. \n",
            "\n",
            "Focus on understanding and preparing the topics and sub-topics for efficient preparation and achieving good results in the GMAT exam.\n",
            "\n",
            "Syllabus from https://www.adda247.com/school/gmat-syllabus/):\n",
            " - Running: crawl_website(url=https://www.adda247.com/school/gmat-syllabus/, limit=5)\n",
            "\n",
            "Here's the GMAT syllabus, extracted from the provided website without promotions or external links:\n",
            "\n",
            "### GMAT Syllabus Overview\n",
            "\n",
            "The GMAT exam has undergone revisions and now consists of three sections:\n",
            "\n",
            "1. **Quantitative Reasoning (QR)**\n",
            "2. **Verbal Reasoning (VR)**\n",
            "3. **Data Insights (DI)**\n",
            "\n",
            "#### Quantitative Reasoning \n",
            "- **Topics Covered**:\n",
            "  - Algebra\n",
            "  - Arithmetic\n",
            "  - Geometry\n",
            "  - Probability\n",
            "  - Time and Distance\n",
            "  - Ratio and Proportion\n",
            "\n",
            "- **Key Sections**:\n",
            "  - **Problem Solving**: Focus on objective type questions that evaluate arithmetic, algebra, geometry, and more.\n",
            "  - **Data Sufficiency**: Assesses ability to analyze quantitative problems and the sufficiency of provided data.\n",
            "\n",
            "#### Verbal Reasoning\n",
            "- **Topics Covered**:\n",
            "  - Sentence Correction\n",
            "  - Reading Comprehension\n",
            "  - Critical Reasoning\n",
            "\n",
            "- **Key Areas**:\n",
            "  - **Reading Comprehension**: Evaluating main ideas, supporting ideas, logical structure, etc.\n",
            "  - **Critical Reasoning**: Argument structure analysis, assumption evaluation, strengthening or weakening arguments.\n",
            "  - **Sentence Correction**: Grammar rules, sentence structure, parallelism, and idioms.\n",
            "\n",
            "#### Data Insights\n",
            "- **Topics Covered**:\n",
            "  - Data Sufficiency\n",
            "  - Multi-Source Reasoning\n",
            "  - Graphics Interpretation\n",
            "  - Table Analysis\n",
            "  - Two-Part Analysis\n",
            "\n",
            "- **Key Focus**:\n",
            "  - **Multi-Source Reasoning**: Analyzing data from text, graphs, and tables.\n",
            "  - **Graphics Interpretation**: Understanding and interpreting data from graphical formats.\n",
            "  - **Table Analysis**: Organizing and analyzing tabular data.\n",
            "  - **Two-Part Analysis**: Includes both quantitative and verbal problem-solving.\n",
            "\n",
            "This structure is designed to assess a comprehensive range of skills critical for business and management studies. The updated GMAT focuses more on relevant topics and has streamlined its sections for effective evaluation of candidates' capabilities.\n",
            "- Running: crawl_website(url=https://www.careerlauncher.com/gmat/exam-syllabus/, limit=10)\n",
            "\n",
            "Here's the GMAT Syllabus as per the details extracted from the provided website:\n",
            "\n",
            "### GMAT Exam Syllabus 2025\n",
            "The GMAT Focus Edition introduces three main sections effective from November 2023: Verbal Reasoning, Quantitative Reasoning, and Data Insights. These sections focus on critical reasoning, data analysis, and problem-solving skills.\n",
            "\n",
            "#### Key Takeaways:\n",
            "- **Verbal Reasoning**: Focuses on critical reasoning and reading comprehension. Each section lasts 45 minutes.\n",
            "- **Quantitative Reasoning**: Focuses on arithmetic and algebra. Geometry has been removed. Calculators are not allowed.\n",
            "- **Data Insights**: A new section focusing on data literacy. Includes multi-source reasoning, table analysis, graphics interpretation, and two-part analysis. An on-screen calculator is permitted.\n",
            "\n",
            "#### GMAT Verbal Reasoning\n",
            "- **Time Allotted**: 45 minutes\n",
            "- **Skills Evaluated**: Reading comprehension, critical reasoning, logical deduction.\n",
            "- **Question Types**: Reading comprehension questions (analyzing written passages), and critical reasoning (analyzing and evaluating arguments).\n",
            "\n",
            "#### GMAT Quantitative Reasoning\n",
            "- **Time Allotted**: 45 minutes\n",
            "- **Skills Evaluated**: Basic knowledge in algebra and arithmetic, logical and analytical thinking.\n",
            "- **Question Types**: Problem-solving based on arithmetic and elementary algebra.\n",
            "\n",
            "#### GMAT Data Insights\n",
            "- **Time Allotted**: 45 minutes\n",
            "- **Skills Evaluated**: Analyzing and interpreting data in real-world business contexts.\n",
            "- **Question Types**: Data sufficiency, multi-source reasoning, table analysis, graphics interpretation, and two-part analysis. \n",
            "\n",
            "Each section of the GMAT is designed to assess critical skills required for success in business management programs. The GMAT Focus Edition format does not include geometry in the Quantitative section and has removed the Analytical Writing section and sentence correction questions.\n",
            "\n",
            "The exam's total duration is approximately 2 hours and 15 minutes, consisting of 64 questions across all sections. Understanding the revised syllabus is crucial for effective preparation and excelling in the GMAT exam.- Running: crawl_website(url=https://www.collegebatch.com/exams/gmat-syllabus, limit=5)\n",
            "\n",
            "### GMAT Syllabus 2025\n",
            "\n",
            "The GMAT syllabus for 2025 consists of three main sections, designed to evaluate specific skills relevant to career paths:\n",
            "\n",
            "1. **Quantitative Reasoning**\n",
            "    - **Major Topics:**\n",
            "      - Arithmetic\n",
            "      - Elementary Algebra\n",
            "    - **Topics Covered:**\n",
            "      - Data Interpretation\n",
            "      - Managerial Statistics\n",
            "      - Accounting\n",
            "      - Finance\n",
            "      - Word Problems\n",
            "\n",
            "2. **Verbal Reasoning**\n",
            "    - **Major Topics:**\n",
            "      - Reading Comprehension\n",
            "      - Critical Reasoning\n",
            "    - **Topics Covered:**\n",
            "      - **Reading Comprehension Sub-topics:**\n",
            "        - Main Idea\n",
            "        - Supporting Idea\n",
            "        - Inference\n",
            "        - Application\n",
            "        - Logical Structure\n",
            "        - Style\n",
            "      - **Critical Reasoning Sub-topics:**\n",
            "        - Argument Building\n",
            "        - Argument Evaluation\n",
            "        - Formulation/Evaluation of the Plan of Action\n",
            "\n",
            "3. **Data Insights**\n",
            "    - **Topics Covered:**\n",
            "      - **Data Sufficiency**\n",
            "        - Analyzing Quantitative Problem\n",
            "        - Recognizing Relevant Data\n",
            "        - Data Solving Efficiency\n",
            "      - **Multi-Source Reasoning**\n",
            "        - Text Passages\n",
            "        - Tables\n",
            "        - Graphics\n",
            "        - Recognizing Discrepancies among Data Sources\n",
            "        - Drawing Inferences\n",
            "        - Determining Relevant Data\n",
            "      - **Graphics Interpretation**\n",
            "        - Scatter Plot\n",
            "        - X / Y Graph\n",
            "        - Bar Chart\n",
            "        - Pie Chart\n",
            "        - Statistical Curve Distribution\n",
            "      - **Two-Part Analysis**\n",
            "        - Quantitative\n",
            "        - Verbal\n",
            "      - **Table Analysis**\n",
            "\n",
            "Each section is allotted a time duration of 45 minutes, with a total exam time of 135 minutes. This structure is designed to test skills that align with business problem-solving and reasoning capabilities. \n",
            "\n",
            "Focus on understanding and preparing the topics and sub-topics for efficient preparation and achieving good results in the GMAT exam.- Running: crawl_website(url=https://www.adda247.com/school/gmat-syllabus/, limit=5)\n",
            "\n",
            "Here's the GMAT syllabus, extracted from the provided website without promotions or external links:\n",
            "\n",
            "### GMAT Syllabus Overview\n",
            "\n",
            "The GMAT exam has undergone revisions and now consists of three sections:\n",
            "\n",
            "1. **Quantitative Reasoning (QR)**\n",
            "2. **Verbal Reasoning (VR)**\n",
            "3. **Data Insights (DI)**\n",
            "\n",
            "#### Quantitative Reasoning \n",
            "- **Topics Covered**:\n",
            "  - Algebra\n",
            "  - Arithmetic\n",
            "  - Geometry\n",
            "  - Probability\n",
            "  - Time and Distance\n",
            "  - Ratio and Proportion\n",
            "\n",
            "- **Key Sections**:\n",
            "  - **Problem Solving**: Focus on objective type questions that evaluate arithmetic, algebra, geometry, and more.\n",
            "  - **Data Sufficiency**: Assesses ability to analyze quantitative problems and the sufficiency of provided data.\n",
            "\n",
            "#### Verbal Reasoning\n",
            "- **Topics Covered**:\n",
            "  - Sentence Correction\n",
            "  - Reading Comprehension\n",
            "  - Critical Reasoning\n",
            "\n",
            "- **Key Areas**:\n",
            "  - **Reading Comprehension**: Evaluating main ideas, supporting ideas, logical structure, etc.\n",
            "  - **Critical Reasoning**: Argument structure analysis, assumption evaluation, strengthening or weakening arguments.\n",
            "  - **Sentence Correction**: Grammar rules, sentence structure, parallelism, and idioms.\n",
            "\n",
            "#### Data Insights\n",
            "- **Topics Covered**:\n",
            "  - Data Sufficiency\n",
            "  - Multi-Source Reasoning\n",
            "  - Graphics Interpretation\n",
            "  - Table Analysis\n",
            "  - Two-Part Analysis\n",
            "\n",
            "- **Key Focus**:\n",
            "  - **Multi-Source Reasoning**: Analyzing data from text, graphs, and tables.\n",
            "  - **Graphics Interpretation**: Understanding and interpreting data from graphical formats.\n",
            "  - **Table Analysis**: Organizing and analyzing tabular data.\n",
            "  - **Two-Part Analysis**: Includes both quantitative and verbal problem-solving.\n",
            "\n",
            "This structure is designed to assess a comprehensive range of skills critical for business and management studies. The updated GMAT focuses more on relevant topics and has streamlined its sections for effective evaluation of candidates' capabilities.\n"
          ]
        }
      ]
    },
    {
      "cell_type": "code",
      "source": [
        "import re\n",
        "from langchain_openai import ChatOpenAI\n",
        "from langchain.prompts import ChatPromptTemplate\n",
        "from langchain.schema import StrOutputParser\n",
        "\n",
        "class WebSearchAgent:\n",
        "    \"\"\"Agent that performs web searches for an exam syllabus.\"\"\"\n",
        "\n",
        "    def __init__(self, agent):\n",
        "        self.agent = agent  # DuckDuckGo or any other search tool\n",
        "\n",
        "    def search(self, exam_name):\n",
        "        \"\"\"Perform a web search and return response content.\"\"\"\n",
        "        query = f\"Tell me about {exam_name} syllabus\"\n",
        "        response = self.agent.run(message=query)\n",
        "        return response.content if response else None\n",
        "\n",
        "class LinkExtractor:\n",
        "    \"\"\"Extracts links from a given text using regex.\"\"\"\n",
        "\n",
        "    @staticmethod\n",
        "    def extract_links(text):\n",
        "        \"\"\"Find all URLs in the given text.\"\"\"\n",
        "        url_pattern = r\"https?://[^\\s<>\\\"']+\"\n",
        "        return re.findall(url_pattern, text)\n",
        "\n",
        "class CrawlAgent:\n",
        "    \"\"\"Agent that crawls webpages to extract the exam syllabus.\"\"\"\n",
        "\n",
        "    def __init__(self, agent):\n",
        "        self.agent = agent  # Firecrawl-based crawler agent\n",
        "\n",
        "    def crawl(self, url, exam_name):\n",
        "        \"\"\"Extract syllabus from the given URL.\"\"\"\n",
        "        message = f\"Tell me the {exam_name} syllabus from this site {url}. Remember, don’t include promotions, courses, or external links.\"\n",
        "        response = self.agent.run(message=message)\n",
        "        return response.content if response else None\n",
        "\n",
        "class ExamSyllabusFetcher:\n",
        "    \"\"\"Fetches syllabus for any exam using web search, crawls relevant links, and summarizes content.\"\"\"\n",
        "\n",
        "    def __init__(self, web_agent, crawl_agent, llm):\n",
        "        self.web_agent = web_agent\n",
        "        self.crawl_agent = crawl_agent\n",
        "        self.llm = llm\n",
        "\n",
        "    def fetch_syllabus(self, exam_name):\n",
        "        \"\"\"Fetch and summarize the syllabus for a given exam.\"\"\"\n",
        "        print(f\"🔍 Searching for {exam_name} syllabus...\")\n",
        "        search_response = self.web_agent.search(exam_name)\n",
        "\n",
        "        if not search_response:\n",
        "            print(\"No direct content found in the response.\")\n",
        "            return None\n",
        "\n",
        "        print(\"✅ Search response received.\")\n",
        "\n",
        "        # Extract links\n",
        "        links = LinkExtractor.extract_links(search_response)\n",
        "\n",
        "        if not links:\n",
        "            print(\"No relevant links found in the response.\")\n",
        "            return None\n",
        "\n",
        "        # Crawl extracted links\n",
        "        syllabus_content = \"\"\n",
        "        for link in links:\n",
        "            print(f\"🌍 Crawling: {link}\")\n",
        "            syllabus_text = self.crawl_agent.crawl(link, exam_name)\n",
        "\n",
        "            if syllabus_text:\n",
        "                print(f\"✅ Syllabus extracted from {link}\")\n",
        "                syllabus_content += syllabus_text.strip() + \"\\n\\n\"\n",
        "            else:\n",
        "                print(f\"❌ No syllabus found at {link}.\")\n",
        "\n",
        "        if not syllabus_content:\n",
        "            print(\"No syllabus content could be extracted.\")\n",
        "            return None\n",
        "\n",
        "        # Summarize using LLM\n",
        "        return self.summarize_syllabus(syllabus_content, exam_name)\n",
        "\n",
        "    def summarize_syllabus(self, syllabus_text, exam_name):\n",
        "        \"\"\"Summarizes syllabus content using OpenAI LLM and parses output.\"\"\"\n",
        "        print(\"📝 Summarizing syllabus...\")\n",
        "\n",
        "        # Prompt template for summarization\n",
        "        prompt = ChatPromptTemplate.from_template(\"You have given latest syllabus for exam {exam} from different websites . You have to use this syllabus and return the final Syllabus . You can also use your prior knowledge  Syllabus : {syllabus}\")\n",
        "        formatted_prompt = prompt.format(exam=exam_name, syllabus=syllabus_text)\n",
        "\n",
        "        # Invoke LLM and parse response\n",
        "        llm_response = self.llm.invoke(formatted_prompt)\n",
        "        parser = StrOutputParser()\n",
        "        summary = parser.parse(llm_response)\n",
        "\n",
        "        print(\"✅ Summary generated.\")\n",
        "        return summary\n",
        "\n",
        "# 🔥 Instantiate agents\n",
        "Crawl = Agent(\n",
        "    name=\"Crawl Agent\",\n",
        "    tools=[FirecrawlTools(scrape=False, crawl=True)],\n",
        "    show_tool_calls=True,\n",
        "    description=\"You are a Crawler. Crawl to the given site and extract syllabus.\",\n",
        "    instructions=\"Give syllabus for the specified exam from the given URL\",\n",
        "    markdown=True,\n",
        ")\n",
        "\n",
        "WebSearch = Agent(\n",
        "    name=\"Web Search Agent\",\n",
        "    tools=[DuckDuckGoTools()],\n",
        "    show_tool_calls=True,\n",
        "    description=\"Performs web search using DuckDuckGo API\",\n",
        "    instructions=[\"Always include sources\"],\n",
        "    markdown=True,\n",
        ")\n",
        "\n",
        "# 🔥 Initialize LLM (using OpenAI's O3-mini)\n",
        "llm = ChatOpenAI(model_name=\"gpt-3.5-turbo\", temperature=0.7)  # Use 'o3-mini' if required\n",
        "\n",
        "# 🔥 Run the pipeline\n",
        "exam_name = input(\"Enter the exam name: \").strip()\n",
        "fetcher = ExamSyllabusFetcher(WebSearchAgent(WebSearch), CrawlAgent(Crawl), llm)\n",
        "exam_summary = fetcher.fetch_syllabus(exam_name)\n",
        "\n",
        "if exam_summary:\n",
        "    print(f\"\\n🎯 Final {exam_name} Syllabus Summary:\\n\", exam_summary)\n"
      ],
      "metadata": {
        "colab": {
          "base_uri": "https://localhost:8080/"
        },
        "id": "S0VQAxnwGZqo",
        "outputId": "76221e6c-3715-4e7a-c794-372587b01d49"
      },
      "execution_count": null,
      "outputs": [
        {
          "output_type": "stream",
          "name": "stdout",
          "text": [
            "Enter the exam name: SAT\n",
            "🔍 Searching for SAT syllabus...\n"
          ]
        }
      ]
    },
    {
      "cell_type": "code",
      "source": [
        "exam_summary.content"
      ],
      "metadata": {
        "id": "XaOw-M7qIchn"
      },
      "execution_count": null,
      "outputs": []
    },
    {
      "cell_type": "code",
      "source": [],
      "metadata": {
        "id": "WtyVCR9CKUSr"
      },
      "execution_count": null,
      "outputs": []
    }
  ]
}